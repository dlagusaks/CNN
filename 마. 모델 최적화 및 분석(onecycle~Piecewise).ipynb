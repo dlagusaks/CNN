{
 "cells": [
  {
   "cell_type": "code",
   "execution_count": 55,
   "id": "4db4a22f",
   "metadata": {},
   "outputs": [
    {
     "name": "stdout",
     "output_type": "stream",
     "text": [
      "sklearn version:  1.2.0\n",
      "TF version:  2.10.0\n",
      "GPU installed:  True\n",
      "1 Physical GPUs, 1 Logical GPUs\n"
     ]
    }
   ],
   "source": [
    "# Python ≥3.5 is required\n",
    "import sys\n",
    "assert sys.version_info >= (3, 5)\n",
    "\n",
    "# Scikit-Learn ≥0.20 is required\n",
    "import sklearn\n",
    "print(\"sklearn version: \", sklearn.__version__)\n",
    "assert sklearn.__version__ >= \"0.20\"\n",
    "\n",
    "try:\n",
    "    # %tensorflow_version only exists in Colab.\n",
    "    %tensorflow_version 2.x\n",
    "    IS_COLAB = True\n",
    "except Exception:\n",
    "    IS_COLAB = False\n",
    "\n",
    "# TensorFlow ≥2.0 is required\n",
    "import tensorflow as tf\n",
    "import tensorflow_addons as tfa\n",
    "from tensorflow import keras\n",
    "print(\"TF version: \", tf.__version__)\n",
    "assert tf.__version__ >= \"2.0\"\n",
    "\n",
    "if not tf.config.list_physical_devices('GPU'):\n",
    "    print(\"No GPU was detected. CNNs can be very slow without a GPU.\")\n",
    "    if IS_COLAB:\n",
    "        print(\"Go to Runtime > Change runtime and select a GPU hardware accelerator.\")\n",
    "\n",
    "# GPU test\n",
    "print(\"GPU installed: \",tf.test.is_built_with_gpu_support())\n",
    "\n",
    "# To prevent \"CUDNN_STATUS_ALLOC_FAILED\" error with GPUs\n",
    "gpus = tf.config.experimental.list_physical_devices('GPU')\n",
    "if gpus:\n",
    "  try:\n",
    "    # Currently, memory growth needs to be the same across GPUs\n",
    "    for gpu in gpus:\n",
    "      tf.config.experimental.set_memory_growth(gpu, True)\n",
    "    logical_gpus = tf.config.experimental.list_logical_devices('GPU')\n",
    "    print(len(gpus), \"Physical GPUs,\", len(logical_gpus), \"Logical GPUs\")\n",
    "  except RuntimeError as e:\n",
    "    # Memory growth must be set before GPUs have been initialized\n",
    "    print(e)\n",
    "    \n",
    "# Common imports\n",
    "import numpy as np\n",
    "import os\n",
    "\n",
    "# to make this notebook's output stable across runs\n",
    "np.random.seed(42)\n",
    "tf.random.set_seed(42)\n",
    "\n",
    "# To plot pretty figures\n",
    "%matplotlib inline\n",
    "import matplotlib as mpl\n",
    "import matplotlib.pyplot as plt\n",
    "mpl.rc('axes', labelsize=14)\n",
    "mpl.rc('xtick', labelsize=12)\n",
    "mpl.rc('ytick', labelsize=12)\n"
   ]
  },
  {
   "cell_type": "code",
   "execution_count": 56,
   "id": "9b67e258",
   "metadata": {},
   "outputs": [],
   "source": [
    "import tensorflow as tf\n",
    "from tensorflow import keras\n",
    "from keras.layers import Dense, Conv2D, MaxPooling2D, Dropout, Flatten\n",
    "from keras.models import Sequential\n",
    "import numpy as np\n",
    "import pandas as pd\n",
    "import tensorflow as tf\n",
    "from tensorflow import keras\n",
    "import tensorflow_datasets as tfds\n",
    "import matplotlib.pyplot as plt\n",
    "from sklearn.model_selection import train_test_split\n",
    "from keras.callbacks import ModelCheckpoint, EarlyStopping\n",
    "from keras.layers import BatchNormalization, GlobalAveragePooling2D, MaxPooling2D, Add,  Dense, Conv2D, Activation\n",
    "from keras.models import Sequential"
   ]
  },
  {
   "cell_type": "code",
   "execution_count": 57,
   "id": "92d05a39",
   "metadata": {},
   "outputs": [],
   "source": [
    "model = Sequential()\n",
    "model.add(Conv2D(32, 5, padding='same', activation='relu', input_shape=[28,28,1]))\n",
    "model.add(BatchNormalization())\n",
    "model.add(Conv2D(64, 2, activation='relu', padding='same'))\n",
    "model.add(BatchNormalization())\n",
    "model.add(MaxPooling2D(2))\n",
    "\n",
    "model.add(Conv2D(128, 2, activation='relu', padding='same'))\n",
    "model.add(BatchNormalization())\n",
    "model.add(MaxPooling2D(2))\n",
    "model.add(Dropout(0.25))\n",
    "model.add(Flatten())\n",
    "\n",
    "model.add(Dense(1000, activation='relu'))\n",
    "model.add(BatchNormalization())\n",
    "model.add(Dropout(0.5))\n",
    "model.add(Dense(1000, activation='relu'))\n",
    "model.add(BatchNormalization())\n",
    "model.add(Dropout(0.5))\n",
    "model.add(Dense(62, activation='softmax'))"
   ]
  },
  {
   "cell_type": "code",
   "execution_count": 58,
   "id": "8ad76c1f",
   "metadata": {},
   "outputs": [],
   "source": [
    "import csv\n",
    "def load_Emist():\n",
    "    X_train=np.load('X_train.npy')\n",
    "    y_train=np.load('y_train.npy')\n",
    "    X_valid=np.load('X_valid.npy')\n",
    "    y_valid=np.load('y_valid.npy')\n",
    "    return X_train, y_train, X_valid, y_valid\n"
   ]
  },
  {
   "cell_type": "code",
   "execution_count": 59,
   "id": "c177a6c6",
   "metadata": {},
   "outputs": [
    {
     "data": {
      "text/plain": [
       "((533917, 28, 28), dtype('uint8'))"
      ]
     },
     "execution_count": 59,
     "metadata": {},
     "output_type": "execute_result"
    }
   ],
   "source": [
    "X_train, y_train, X_valid, y_valid = load_Emist()\n",
    "X_train.shape,X_train.dtype"
   ]
  },
  {
   "cell_type": "code",
   "execution_count": 60,
   "id": "f3bfce41",
   "metadata": {},
   "outputs": [],
   "source": [
    "#data, batch size 성정\n",
    "train_size=len(X_train)\n",
    "valid_size=len(X_valid)\n",
    "batch_size=32"
   ]
  },
  {
   "cell_type": "code",
   "execution_count": 61,
   "id": "3ac05f70",
   "metadata": {},
   "outputs": [],
   "source": [
    "X_train=np.reshape(X_train,[-1,784])\n",
    "X_valid=np.reshape(X_valid,[-1,784])"
   ]
  },
  {
   "cell_type": "code",
   "execution_count": 62,
   "id": "f5fa66de",
   "metadata": {},
   "outputs": [],
   "source": [
    "y_train=np.reshape(y_train,[-1,1])\n",
    "y_valid=np.reshape(y_valid,[-1,1])"
   ]
  },
  {
   "cell_type": "code",
   "execution_count": 63,
   "id": "76a3fb18",
   "metadata": {},
   "outputs": [],
   "source": [
    "train_full = np.append(X_train,y_train,axis=1)\n",
    "valid_full = np.append(X_valid,y_valid,axis=1)"
   ]
  },
  {
   "cell_type": "code",
   "execution_count": 64,
   "id": "ab0392f2",
   "metadata": {},
   "outputs": [],
   "source": [
    "def save_to_multiple_csv_files(data, name_prefix, header=None, n_parts=10):\n",
    "    \n",
    "    Emnist_dir = os.path.join(\"datasets\", \"Emnist\")\n",
    "    os.makedirs(Emnist_dir, exist_ok=True)\n",
    "    path_format = os.path.join(Emnist_dir, \"my_{}_{:03d}.csv\")\n",
    "\n",
    "    filepaths = []\n",
    "    m = len(data)\n",
    "    for file_idx, row_indices in enumerate(np.array_split(np.arange(m), n_parts)):\n",
    "        part_csv = path_format.format(name_prefix, file_idx)\n",
    "        filepaths.append(part_csv)\n",
    "        try:\n",
    "            with open(part_csv, \"xt\", encoding=\"utf-8\") as f:\n",
    "                if header is not None:\n",
    "                    f.write(header)\n",
    "                    f.write(\"\\n\")\n",
    "                for row_idx in row_indices:\n",
    "                    f.write(\",\".join([repr(col) for col in data[row_idx]]))\n",
    "                    f.write(\"\\n\")\n",
    "        except:\n",
    "            continue\n",
    "    return filepaths"
   ]
  },
  {
   "cell_type": "code",
   "execution_count": 65,
   "id": "fff6e358",
   "metadata": {},
   "outputs": [],
   "source": [
    "train_filepaths = save_to_multiple_csv_files(train_full, \"train\")\n",
    "valid_filepaths = save_to_multiple_csv_files(valid_full, \"valid\")"
   ]
  },
  {
   "cell_type": "code",
   "execution_count": 66,
   "id": "a4ef5fc5",
   "metadata": {},
   "outputs": [],
   "source": [
    "n_inputs = X_train.shape[-1]\n",
    "def preprocess_make(line):\n",
    "    defs = [0.] * n_inputs + [tf.constant([], dtype=tf.float32)]\n",
    "    fields = tf.io.decode_csv(line, record_defaults=defs)\n",
    "    x = tf.stack(fields[:-1])\n",
    "    x=tf.reshape(x,[28,28,1])\n",
    "    y = tf.stack(fields[-1:])\n",
    "    resized_image = x\n",
    "    final_image = resized_image/255.\n",
    "    return final_image, y"
   ]
  },
  {
   "cell_type": "code",
   "execution_count": 67,
   "id": "41d447d9",
   "metadata": {},
   "outputs": [],
   "source": [
    "def csv_reader_dataset(filepaths, repeat=1, n_readers=5,\n",
    "                       n_read_threads=None, shuffle_buffer_size=10000,\n",
    "                       n_parse_threads=5, batch_size=32):\n",
    "    dataset = tf.data.Dataset.list_files(filepaths).repeat(repeat)\n",
    "    dataset = dataset.interleave(\n",
    "        lambda filepath: tf.data.TextLineDataset(filepath).skip(1),\n",
    "        cycle_length=n_readers, num_parallel_calls=n_read_threads)\n",
    "    dataset = dataset.shuffle(shuffle_buffer_size)\n",
    "    dataset = dataset.map(preprocess_make, num_parallel_calls=n_parse_threads)\n",
    "    dataset = dataset.batch(batch_size)\n",
    "    return dataset.prefetch(1)"
   ]
  },
  {
   "cell_type": "code",
   "execution_count": 68,
   "id": "9d602988",
   "metadata": {},
   "outputs": [],
   "source": [
    "train_set = csv_reader_dataset(train_filepaths,batch_size=batch_size, repeat=None)\n",
    "valid_set = csv_reader_dataset(valid_filepaths,batch_size=batch_size, repeat=None)"
   ]
  },
  {
   "cell_type": "code",
   "execution_count": 70,
   "id": "00ccf732",
   "metadata": {},
   "outputs": [],
   "source": [
    "K = keras.backend\n",
    "class ExponentialLearningRate(keras.callbacks.Callback):\n",
    "    def __init__(self, factor):\n",
    "        self.factor = factor\n",
    "        self.rates = []\n",
    "        self.losses = []\n",
    "    def on_batch_end(self, batch, logs):\n",
    "        self.rates.append(K.get_value(self.model.optimizer.lr))\n",
    "        self.losses.append(logs[\"loss\"])\n",
    "        K.set_value(self.model.optimizer.lr, self.model.optimizer.lr * self.factor)\n",
    "\n",
    "def find_learning_rate(model, X, y, epochs=1, batch_size=32, min_rate=10**-5, max_rate=10):\n",
    "    init_weights = model.get_weights()\n",
    "    iterations = len(X) // batch_size * epochs\n",
    "    factor = np.exp(np.log(max_rate / min_rate) / iterations)\n",
    "    init_lr = K.get_value(model.optimizer.lr)\n",
    "    K.set_value(model.optimizer.lr, min_rate)\n",
    "    exp_lr = ExponentialLearningRate(factor)\n",
    "    history = model.fit(X, y, epochs=epochs, batch_size=batch_size,\n",
    "                        callbacks=[exp_lr])\n",
    "    K.set_value(model.optimizer.lr, init_lr)\n",
    "    model.set_weights(init_weights)\n",
    "    return exp_lr.rates, exp_lr.losses\n",
    "\n",
    "def plot_lr_vs_loss(rates, losses):\n",
    "    plt.plot(rates, losses)\n",
    "    plt.gca().set_xscale('log')\n",
    "    plt.hlines(min(losses), min(rates), max(rates))\n",
    "    plt.axis([min(rates), max(rates), min(losses), (losses[0] + min(losses)) / 2])\n",
    "    plt.xlabel(\"Learning rate\")\n",
    "    plt.ylabel(\"Loss\")"
   ]
  },
  {
   "cell_type": "markdown",
   "id": "51899a1f",
   "metadata": {},
   "source": [
    "# OneCycleScheduler"
   ]
  },
  {
   "cell_type": "code",
   "execution_count": 71,
   "id": "e2f0fade",
   "metadata": {},
   "outputs": [],
   "source": [
    "class OneCycleScheduler(keras.callbacks.Callback):\n",
    "    def __init__(self, iterations, max_rate, start_rate=None,\n",
    "                 last_iterations=None, last_rate=None):\n",
    "        self.iterations = iterations\n",
    "        self.max_rate = max_rate\n",
    "        self.start_rate = start_rate or max_rate / 10\n",
    "        self.last_iterations = last_iterations or iterations // 10 + 1\n",
    "        self.half_iteration = (iterations - self.last_iterations) // 2\n",
    "        self.last_rate = last_rate or self.start_rate / 1000\n",
    "        self.iteration = 0\n",
    "    def _interpolate(self, iter1, iter2, rate1, rate2):\n",
    "        return ((rate2 - rate1) * (self.iteration - iter1)\n",
    "                / (iter2 - iter1) + rate1)\n",
    "    def on_batch_begin(self, batch, logs):\n",
    "        if self.iteration < self.half_iteration:\n",
    "            rate = self._interpolate(0, self.half_iteration, self.start_rate, self.max_rate)\n",
    "        elif self.iteration < 2 * self.half_iteration:\n",
    "            rate = self._interpolate(self.half_iteration, 2 * self.half_iteration,\n",
    "                                     self.max_rate, self.start_rate)\n",
    "        else:\n",
    "            rate = self._interpolate(2 * self.half_iteration, self.iterations,\n",
    "                                     self.start_rate, self.last_rate)\n",
    "            rate = max(rate, self.last_rate)\n",
    "        self.iteration += 1\n",
    "        K.set_value(self.model.optimizer.lr, rate)"
   ]
  },
  {
   "cell_type": "code",
   "execution_count": 69,
   "id": "df100eb6",
   "metadata": {},
   "outputs": [],
   "source": [
    "early_stopping_BRN50 = EarlyStopping(patience = 10)\n",
    "data_name=\"byclass\" \n",
    "type_name=\"make\"\n",
    "hypara=\"adam\"\n",
    "optimizer=tf.keras.optimizers.Adam()\n",
    "checkpoint_callback_BRN50 = ModelCheckpoint(data_name+\"_\"+type_name+\"_\"+hypara+'.h5', monitor='val_loss', verbose=1, save_best_only=True, mode='min')"
   ]
  },
  {
   "cell_type": "code",
   "execution_count": 72,
   "id": "605bab2c",
   "metadata": {},
   "outputs": [
    {
     "name": "stdout",
     "output_type": "stream",
     "text": [
      "Epoch 1/1000\n",
      "16683/16684 [============================>.] - ETA: 0s - loss: 0.7652 - accuracy: 0.7705\n",
      "Epoch 1: val_loss improved from inf to 0.52115, saving model to byclass_make_adam.h5\n",
      "16684/16684 [==============================] - 274s 16ms/step - loss: 0.7652 - accuracy: 0.7705 - val_loss: 0.5211 - val_accuracy: 0.8333\n",
      "Epoch 2/1000\n",
      "16684/16684 [==============================] - ETA: 0s - loss: 0.8752 - accuracy: 0.7679\n",
      "Epoch 2: val_loss did not improve from 0.52115\n",
      "16684/16684 [==============================] - 271s 16ms/step - loss: 0.8752 - accuracy: 0.7679 - val_loss: 0.8854 - val_accuracy: 0.8140\n",
      "Epoch 3/1000\n",
      "16681/16684 [============================>.] - ETA: 0s - loss: 1.1750 - accuracy: 0.7440\n",
      "Epoch 3: val_loss did not improve from 0.52115\n",
      "16684/16684 [==============================] - 270s 16ms/step - loss: 1.1750 - accuracy: 0.7440 - val_loss: 0.9400 - val_accuracy: 0.8088\n",
      "Epoch 4/1000\n",
      "16682/16684 [============================>.] - ETA: 0s - loss: 1.6123 - accuracy: 0.7307\n",
      "Epoch 4: val_loss did not improve from 0.52115\n",
      "16684/16684 [==============================] - 266s 16ms/step - loss: 1.6122 - accuracy: 0.7307 - val_loss: 3.1694 - val_accuracy: 0.8024\n",
      "Epoch 5/1000\n",
      "16683/16684 [============================>.] - ETA: 0s - loss: 2.1052 - accuracy: 0.7111\n",
      "Epoch 5: val_loss did not improve from 0.52115\n",
      "16684/16684 [==============================] - 267s 16ms/step - loss: 2.1053 - accuracy: 0.7111 - val_loss: 2726782.2500 - val_accuracy: 0.7341\n",
      "Epoch 6/1000\n",
      "16682/16684 [============================>.] - ETA: 0s - loss: 2.6153 - accuracy: 0.7001\n",
      "Epoch 6: val_loss did not improve from 0.52115\n",
      "16684/16684 [==============================] - 268s 16ms/step - loss: 2.6153 - accuracy: 0.7001 - val_loss: 37009.2539 - val_accuracy: 0.7621\n",
      "Epoch 7/1000\n",
      "16681/16684 [============================>.] - ETA: 0s - loss: 3.5090 - accuracy: 0.7087\n",
      "Epoch 7: val_loss did not improve from 0.52115\n",
      "16684/16684 [==============================] - 267s 16ms/step - loss: 3.5089 - accuracy: 0.7087 - val_loss: 273588.2188 - val_accuracy: 0.7595\n",
      "Epoch 8/1000\n",
      "16684/16684 [==============================] - ETA: 0s - loss: 4.8049 - accuracy: 0.7074\n",
      "Epoch 8: val_loss did not improve from 0.52115\n",
      "16684/16684 [==============================] - 266s 16ms/step - loss: 4.8049 - accuracy: 0.7074 - val_loss: 60487528.0000 - val_accuracy: 0.7639\n",
      "Epoch 9/1000\n",
      "16681/16684 [============================>.] - ETA: 0s - loss: 5.9236 - accuracy: 0.7144\n",
      "Epoch 9: val_loss did not improve from 0.52115\n",
      "16684/16684 [==============================] - 269s 16ms/step - loss: 5.9235 - accuracy: 0.7145 - val_loss: 16462.9707 - val_accuracy: 0.7621\n",
      "Epoch 10/1000\n",
      "16683/16684 [============================>.] - ETA: 0s - loss: 6.4917 - accuracy: 0.7168\n",
      "Epoch 10: val_loss did not improve from 0.52115\n",
      "16684/16684 [==============================] - 270s 16ms/step - loss: 6.4914 - accuracy: 0.7168 - val_loss: 3732175.7500 - val_accuracy: 0.7770\n",
      "Epoch 11/1000\n",
      "16683/16684 [============================>.] - ETA: 0s - loss: 7.5038 - accuracy: 0.7261\n",
      "Epoch 11: val_loss did not improve from 0.52115\n",
      "16684/16684 [==============================] - 275s 16ms/step - loss: 7.5039 - accuracy: 0.7261 - val_loss: 118378.5312 - val_accuracy: 0.7777\n"
     ]
    }
   ],
   "source": [
    "n_epochs = 24\n",
    "onecycle = OneCycleScheduler(len(X_train) // batch_size * n_epochs, max_rate=0.05)\n",
    "model.compile(optimizer=optimizer, loss='sparse_categorical_crossentropy', metrics=['accuracy'],)\n",
    "history=model.fit(train_set, batch_size = batch_size,\n",
    "                    steps_per_epoch=int(train_size / batch_size),\n",
    "                    validation_data=valid_set,\n",
    "                    validation_steps=int(valid_size / batch_size), \n",
    "                    epochs=1000,\n",
    "                    callbacks=[early_stopping_BRN50, checkpoint_callback_BRN50,onecycle])"
   ]
  },
  {
   "cell_type": "code",
   "execution_count": 73,
   "id": "61544d7b",
   "metadata": {},
   "outputs": [
    {
     "data": {
      "text/plain": [
       "<AxesSubplot: >"
      ]
     },
     "execution_count": 73,
     "metadata": {},
     "output_type": "execute_result"
    },
    {
     "data": {
      "image/png": "[encoded data removed]",
      "text/plain": [
       "<Figure size 640x480 with 1 Axes>"
      ]
     },
     "metadata": {},
     "output_type": "display_data"
    }
   ],
   "source": [
    "pd.DataFrame(history.history).plot()"
   ]
  },
  {
   "cell_type": "markdown",
   "id": "6cd5428d",
   "metadata": {},
   "source": [
    "### lr설정에 문제가  있어서 이런 이상한 그래프가 등장하였다."
   ]
  },
  {
   "cell_type": "markdown",
   "id": "58e48ee2",
   "metadata": {},
   "source": [
    "# Ir 수정"
   ]
  },
  {
   "cell_type": "code",
   "execution_count": null,
   "id": "41bd2370",
   "metadata": {},
   "outputs": [],
   "source": [
    "model = Sequential()\n",
    "model.add(Conv2D(32, 5, padding='same', activation='relu', input_shape=[28,28,1]))\n",
    "model.add(BatchNormalization())\n",
    "model.add(Conv2D(64, 2, activation='relu', padding='same'))\n",
    "model.add(BatchNormalization())\n",
    "model.add(MaxPooling2D(2))\n",
    "\n",
    "model.add(Conv2D(128, 2, activation='relu', padding='same'))\n",
    "model.add(BatchNormalization())\n",
    "model.add(MaxPooling2D(2))\n",
    "model.add(Dropout(0.25))\n",
    "model.add(Flatten())\n",
    "\n",
    "model.add(Dense(1000, activation='relu'))\n",
    "model.add(BatchNormalization())\n",
    "model.add(Dropout(0.5))\n",
    "model.add(Dense(1000, activation='relu'))\n",
    "model.add(BatchNormalization())\n",
    "model.add(Dropout(0.5))\n",
    "model.add(Dense(62, activation='softmax'))"
   ]
  },
  {
   "cell_type": "code",
   "execution_count": null,
   "id": "02656459",
   "metadata": {},
   "outputs": [],
   "source": [
    "early_stopping_BRN50 = EarlyStopping(patience = 10)\n",
    "data_name=\"byclass\" \n",
    "type_name=\"make\"\n",
    "hypara=\"one_cy_re\"\n",
    "optimizer=tf.keras.optimizers.Adam()\n",
    "checkpoint_callback_BRN50 = ModelCheckpoint(data_name+\"_\"+type_name+\"_\"+hypara+'.h5', monitor='val_loss', verbose=1, save_best_only=True, mode='min')"
   ]
  },
  {
   "cell_type": "code",
   "execution_count": 24,
   "id": "669a1dba",
   "metadata": {},
   "outputs": [
    {
     "name": "stdout",
     "output_type": "stream",
     "text": [
      "Epoch 1/1000\n",
      "16677/16684 [============================>.] - ETA: 0s - loss: 0.6569 - accuracy: 0.7894\n",
      "Epoch 1: val_loss improved from inf to 0.40532, saving model to byclass_make_one_cy_re.h5\n",
      "16684/16684 [==============================] - 115s 7ms/step - loss: 0.6567 - accuracy: 0.7894 - val_loss: 0.4053 - val_accuracy: 0.8534\n",
      "Epoch 2/1000\n",
      "16681/16684 [============================>.] - ETA: 0s - loss: 0.4726 - accuracy: 0.8346\n",
      "Epoch 2: val_loss improved from 0.40532 to 0.39891, saving model to byclass_make_one_cy_re.h5\n",
      "16684/16684 [==============================] - 115s 7ms/step - loss: 0.4726 - accuracy: 0.8346 - val_loss: 0.3989 - val_accuracy: 0.8554\n",
      "Epoch 3/1000\n",
      "16677/16684 [============================>.] - ETA: 0s - loss: 0.4409 - accuracy: 0.8435\n",
      "Epoch 3: val_loss improved from 0.39891 to 0.38441, saving model to byclass_make_one_cy_re.h5\n",
      "16684/16684 [==============================] - 115s 7ms/step - loss: 0.4409 - accuracy: 0.8435 - val_loss: 0.3844 - val_accuracy: 0.8600\n",
      "Epoch 4/1000\n",
      "16682/16684 [============================>.] - ETA: 0s - loss: 0.4215 - accuracy: 0.8485\n",
      "Epoch 4: val_loss improved from 0.38441 to 0.36690, saving model to byclass_make_one_cy_re.h5\n",
      "16684/16684 [==============================] - 149s 9ms/step - loss: 0.4215 - accuracy: 0.8485 - val_loss: 0.3669 - val_accuracy: 0.8657\n",
      "Epoch 5/1000\n",
      "16684/16684 [==============================] - ETA: 0s - loss: 0.4074 - accuracy: 0.8518\n",
      "Epoch 5: val_loss improved from 0.36690 to 0.36046, saving model to byclass_make_one_cy_re.h5\n",
      "16684/16684 [==============================] - 201s 12ms/step - loss: 0.4074 - accuracy: 0.8518 - val_loss: 0.3605 - val_accuracy: 0.8670\n",
      "Epoch 6/1000\n",
      "16682/16684 [============================>.] - ETA: 0s - loss: 0.3958 - accuracy: 0.8563\n",
      "Epoch 6: val_loss improved from 0.36046 to 0.35402, saving model to byclass_make_one_cy_re.h5\n",
      "16684/16684 [==============================] - 205s 12ms/step - loss: 0.3958 - accuracy: 0.8563 - val_loss: 0.3540 - val_accuracy: 0.8694\n",
      "Epoch 7/1000\n",
      "16681/16684 [============================>.] - ETA: 0s - loss: 0.3833 - accuracy: 0.8594\n",
      "Epoch 7: val_loss improved from 0.35402 to 0.34873, saving model to byclass_make_one_cy_re.h5\n",
      "16684/16684 [==============================] - 206s 12ms/step - loss: 0.3832 - accuracy: 0.8594 - val_loss: 0.3487 - val_accuracy: 0.8707\n",
      "Epoch 8/1000\n",
      "16680/16684 [============================>.] - ETA: 0s - loss: 0.3746 - accuracy: 0.8620\n",
      "Epoch 8: val_loss improved from 0.34873 to 0.34572, saving model to byclass_make_one_cy_re.h5\n",
      "16684/16684 [==============================] - 206s 12ms/step - loss: 0.3746 - accuracy: 0.8620 - val_loss: 0.3457 - val_accuracy: 0.8725\n",
      "Epoch 9/1000\n",
      "16680/16684 [============================>.] - ETA: 0s - loss: 0.3676 - accuracy: 0.8642\n",
      "Epoch 9: val_loss improved from 0.34572 to 0.34396, saving model to byclass_make_one_cy_re.h5\n",
      "16684/16684 [==============================] - 202s 12ms/step - loss: 0.3676 - accuracy: 0.8643 - val_loss: 0.3440 - val_accuracy: 0.8720\n",
      "Epoch 10/1000\n",
      "16682/16684 [============================>.] - ETA: 0s - loss: 0.3632 - accuracy: 0.8655\n",
      "Epoch 10: val_loss improved from 0.34396 to 0.34033, saving model to byclass_make_one_cy_re.h5\n",
      "16684/16684 [==============================] - 204s 12ms/step - loss: 0.3632 - accuracy: 0.8654 - val_loss: 0.3403 - val_accuracy: 0.8741\n",
      "Epoch 11/1000\n",
      "16683/16684 [============================>.] - ETA: 0s - loss: 0.3593 - accuracy: 0.8662\n",
      "Epoch 11: val_loss did not improve from 0.34033\n",
      "16684/16684 [==============================] - 209s 13ms/step - loss: 0.3593 - accuracy: 0.8662 - val_loss: 0.3424 - val_accuracy: 0.8726\n",
      "Epoch 12/1000\n",
      "16684/16684 [==============================] - ETA: 0s - loss: 0.3510 - accuracy: 0.8689\n",
      "Epoch 12: val_loss improved from 0.34033 to 0.33858, saving model to byclass_make_one_cy_re.h5\n",
      "16684/16684 [==============================] - 208s 12ms/step - loss: 0.3510 - accuracy: 0.8689 - val_loss: 0.3386 - val_accuracy: 0.8758\n",
      "Epoch 13/1000\n",
      "16682/16684 [============================>.] - ETA: 0s - loss: 0.3403 - accuracy: 0.8723\n",
      "Epoch 13: val_loss improved from 0.33858 to 0.33301, saving model to byclass_make_one_cy_re.h5\n",
      "16684/16684 [==============================] - 204s 12ms/step - loss: 0.3403 - accuracy: 0.8723 - val_loss: 0.3330 - val_accuracy: 0.8772\n",
      "Epoch 14/1000\n",
      "16681/16684 [============================>.] - ETA: 0s - loss: 0.3294 - accuracy: 0.8756\n",
      "Epoch 14: val_loss did not improve from 0.33301\n",
      "16684/16684 [==============================] - 206s 12ms/step - loss: 0.3294 - accuracy: 0.8756 - val_loss: 0.3351 - val_accuracy: 0.8765\n",
      "Epoch 15/1000\n",
      "16680/16684 [============================>.] - ETA: 0s - loss: 0.3207 - accuracy: 0.8781\n",
      "Epoch 15: val_loss improved from 0.33301 to 0.33161, saving model to byclass_make_one_cy_re.h5\n",
      "16684/16684 [==============================] - 202s 12ms/step - loss: 0.3207 - accuracy: 0.8781 - val_loss: 0.3316 - val_accuracy: 0.8781\n",
      "Epoch 16/1000\n",
      "16683/16684 [============================>.] - ETA: 0s - loss: 0.3113 - accuracy: 0.8817\n",
      "Epoch 16: val_loss did not improve from 0.33161\n",
      "16684/16684 [==============================] - 201s 12ms/step - loss: 0.3114 - accuracy: 0.8817 - val_loss: 0.3360 - val_accuracy: 0.8774\n",
      "Epoch 17/1000\n",
      "16684/16684 [==============================] - ETA: 0s - loss: 0.3027 - accuracy: 0.8833\n",
      "Epoch 17: val_loss did not improve from 0.33161\n",
      "16684/16684 [==============================] - 203s 12ms/step - loss: 0.3027 - accuracy: 0.8833 - val_loss: 0.3324 - val_accuracy: 0.8788\n",
      "Epoch 18/1000\n",
      "16680/16684 [============================>.] - ETA: 0s - loss: 0.2953 - accuracy: 0.8866\n",
      "Epoch 18: val_loss improved from 0.33161 to 0.32986, saving model to byclass_make_one_cy_re.h5\n",
      "16684/16684 [==============================] - 204s 12ms/step - loss: 0.2953 - accuracy: 0.8866 - val_loss: 0.3299 - val_accuracy: 0.8801\n",
      "Epoch 19/1000\n",
      "16684/16684 [==============================] - ETA: 0s - loss: 0.2855 - accuracy: 0.8892\n",
      "Epoch 19: val_loss did not improve from 0.32986\n",
      "16684/16684 [==============================] - 203s 12ms/step - loss: 0.2855 - accuracy: 0.8892 - val_loss: 0.3329 - val_accuracy: 0.8801\n",
      "Epoch 20/1000\n",
      "16682/16684 [============================>.] - ETA: 0s - loss: 0.2780 - accuracy: 0.8915\n",
      "Epoch 20: val_loss did not improve from 0.32986\n",
      "16684/16684 [==============================] - 204s 12ms/step - loss: 0.2780 - accuracy: 0.8915 - val_loss: 0.3312 - val_accuracy: 0.8800\n",
      "Epoch 21/1000\n",
      "16684/16684 [==============================] - ETA: 0s - loss: 0.2709 - accuracy: 0.8938\n",
      "Epoch 21: val_loss did not improve from 0.32986\n",
      "16684/16684 [==============================] - 210s 13ms/step - loss: 0.2709 - accuracy: 0.8938 - val_loss: 0.3341 - val_accuracy: 0.8807\n",
      "Epoch 22/1000\n",
      "16680/16684 [============================>.] - ETA: 0s - loss: 0.2643 - accuracy: 0.8961\n",
      "Epoch 22: val_loss did not improve from 0.32986\n",
      "16684/16684 [==============================] - 212s 13ms/step - loss: 0.2643 - accuracy: 0.8961 - val_loss: 0.3349 - val_accuracy: 0.8807\n",
      "Epoch 23/1000\n",
      "16680/16684 [============================>.] - ETA: 0s - loss: 0.2613 - accuracy: 0.8973\n",
      "Epoch 23: val_loss did not improve from 0.32986\n",
      "16684/16684 [==============================] - 208s 12ms/step - loss: 0.2613 - accuracy: 0.8973 - val_loss: 0.3355 - val_accuracy: 0.8803\n",
      "Epoch 24/1000\n",
      "16683/16684 [============================>.] - ETA: 0s - loss: 0.2588 - accuracy: 0.8981\n",
      "Epoch 24: val_loss did not improve from 0.32986\n",
      "16684/16684 [==============================] - 209s 13ms/step - loss: 0.2588 - accuracy: 0.8981 - val_loss: 0.3342 - val_accuracy: 0.8812\n",
      "Epoch 25/1000\n",
      "16682/16684 [============================>.] - ETA: 0s - loss: 0.2575 - accuracy: 0.8985\n",
      "Epoch 25: val_loss did not improve from 0.32986\n",
      "16684/16684 [==============================] - 209s 13ms/step - loss: 0.2575 - accuracy: 0.8985 - val_loss: 0.3347 - val_accuracy: 0.8810\n",
      "Epoch 26/1000\n",
      "16682/16684 [============================>.] - ETA: 0s - loss: 0.2577 - accuracy: 0.8986\n",
      "Epoch 26: val_loss did not improve from 0.32986\n",
      "16684/16684 [==============================] - 208s 12ms/step - loss: 0.2577 - accuracy: 0.8986 - val_loss: 0.3348 - val_accuracy: 0.8809\n",
      "Epoch 27/1000\n",
      "16684/16684 [==============================] - ETA: 0s - loss: 0.2565 - accuracy: 0.8987\n",
      "Epoch 27: val_loss did not improve from 0.32986\n",
      "16684/16684 [==============================] - 212s 13ms/step - loss: 0.2565 - accuracy: 0.8987 - val_loss: 0.3345 - val_accuracy: 0.8808\n",
      "Epoch 28/1000\n",
      "16680/16684 [============================>.] - ETA: 0s - loss: 0.2573 - accuracy: 0.8983\n",
      "Epoch 28: val_loss did not improve from 0.32986\n",
      "16684/16684 [==============================] - 209s 13ms/step - loss: 0.2573 - accuracy: 0.8983 - val_loss: 0.3353 - val_accuracy: 0.8809\n"
     ]
    }
   ],
   "source": [
    "n_epochs = 24\n",
    "onecycle = OneCycleScheduler(len(X_train) // batch_size * n_epochs, max_rate=0.001)\n",
    "model.compile(optimizer=optimizer, loss='sparse_categorical_crossentropy', metrics=['accuracy'],)\n",
    "history=model.fit(train_set, batch_size = batch_size,\n",
    "                    steps_per_epoch=int(train_size / batch_size),\n",
    "                    validation_data=valid_set,\n",
    "                    validation_steps=int(valid_size / batch_size), \n",
    "                    epochs=1000,\n",
    "                    callbacks=[early_stopping_BRN50, checkpoint_callback_BRN50,onecycle])"
   ]
  },
  {
   "cell_type": "code",
   "execution_count": 25,
   "id": "2295fa99",
   "metadata": {},
   "outputs": [
    {
     "data": {
      "text/plain": [
       "<AxesSubplot: >"
      ]
     },
     "execution_count": 25,
     "metadata": {},
     "output_type": "execute_result"
    },
    {
     "data": {
      "image/png": "[encoded data removed]",
      "text/plain": [
       "<Figure size 432x288 with 1 Axes>"
      ]
     },
     "metadata": {
      "needs_background": "light"
     },
     "output_type": "display_data"
    }
   ],
   "source": [
    "pd.DataFrame(history.history).plot()"
   ]
  },
  {
   "cell_type": "markdown",
   "id": "40d2c7b9",
   "metadata": {},
   "source": [
    "# Exponential_decay scheduler"
   ]
  },
  {
   "cell_type": "code",
   "execution_count": null,
   "id": "1b913f07",
   "metadata": {},
   "outputs": [],
   "source": [
    "def exponential_decay_fn(epoch):\n",
    "    return 0.01 * 0.1 ** (epoch / 20)\n",
    "\n",
    "def exponential_decay(lr0, s):\n",
    "    def exponential_decay_fn(epoch):\n",
    "        return lr0 * 0.1 ** (epoch / s)\n",
    "    return exponential_decay_fn"
   ]
  },
  {
   "cell_type": "code",
   "execution_count": null,
   "id": "a26bd240",
   "metadata": {},
   "outputs": [],
   "source": [
    "exponential_decay_fn = exponential_decay(lr0=0.01, s=20)\n",
    "lr_scheduler = tf.keras.callbacks.LearningRateScheduler(exponential_decay_fn)"
   ]
  },
  {
   "cell_type": "code",
   "execution_count": null,
   "id": "d9a7b17a",
   "metadata": {},
   "outputs": [],
   "source": [
    "model = Sequential()\n",
    "model.add(Conv2D(32, 5, padding='same', activation='relu', input_shape=[28,28,1]))\n",
    "model.add(BatchNormalization())\n",
    "model.add(Conv2D(64, 2, activation='relu', padding='same'))\n",
    "model.add(BatchNormalization())\n",
    "model.add(MaxPooling2D(2))\n",
    "\n",
    "model.add(Conv2D(128, 2, activation='relu', padding='same'))\n",
    "model.add(BatchNormalization())\n",
    "model.add(MaxPooling2D(2))\n",
    "model.add(Dropout(0.25))\n",
    "model.add(Flatten())\n",
    "\n",
    "model.add(Dense(1000, activation='relu'))\n",
    "model.add(BatchNormalization())\n",
    "model.add(Dropout(0.5))\n",
    "model.add(Dense(1000, activation='relu'))\n",
    "model.add(BatchNormalization())\n",
    "model.add(Dropout(0.5))\n",
    "model.add(Dense(62, activation='softmax'))"
   ]
  },
  {
   "cell_type": "code",
   "execution_count": null,
   "id": "03382c3d",
   "metadata": {},
   "outputs": [],
   "source": [
    "early_stopping_BRN50 = EarlyStopping(patience = 5)\n",
    "data_name=\"byclass\" \n",
    "type_name=\"make\"\n",
    "hypara=\"adam\"\n",
    "optimizer=tf.keras.optimizers.Adam()\n",
    "checkpoint_callback_BRN50 = ModelCheckpoint(data_name+\"_\"+type_name+\"_\"+hypara+'.h5', monitor='val_loss', verbose=1, save_best_only=True, mode='min')"
   ]
  },
  {
   "cell_type": "code",
   "execution_count": null,
   "id": "8013bcb9",
   "metadata": {},
   "outputs": [],
   "source": [
    "model.compile(optimizer=optimizer, loss='sparse_categorical_crossentropy', metrics=['accuracy'],)\n",
    "history=model.fit(train_set, batch_size = batch_size,\n",
    "                    steps_per_epoch=int(train_size / batch_size),\n",
    "                    validation_data=valid_set,\n",
    "                    validation_steps=int(valid_size / batch_size), \n",
    "                    epochs=1000,\n",
    "                    callbacks=[early_stopping_BRN50, checkpoint_callback_BRN50,lr_scheduler])"
   ]
  },
  {
   "cell_type": "code",
   "execution_count": 22,
   "id": "d89e110d",
   "metadata": {},
   "outputs": [
    {
     "name": "stdout",
     "output_type": "stream",
     "text": [
      "Epoch 1/1000\n",
      "16683/16684 [============================>.] - ETA: 0s - loss: 0.9148 - accuracy: 0.7419\n",
      "Epoch 1: val_loss improved from inf to 4.72746, saving model to byclass_make_adam.h5\n",
      "16684/16684 [==============================] - 243s 14ms/step - loss: 0.9148 - accuracy: 0.7419 - val_loss: 4.7275 - val_accuracy: 0.8166 - lr: 0.0100\n",
      "Epoch 2/1000\n",
      "16681/16684 [============================>.] - ETA: 0s - loss: 0.7494 - accuracy: 0.7765\n",
      "Epoch 2: val_loss did not improve from 4.72746\n",
      "16684/16684 [==============================] - 241s 14ms/step - loss: 0.7494 - accuracy: 0.7765 - val_loss: 289.5843 - val_accuracy: 0.8252 - lr: 0.0089\n",
      "Epoch 3/1000\n",
      "16683/16684 [============================>.] - ETA: 0s - loss: 0.6656 - accuracy: 0.7926\n",
      "Epoch 3: val_loss did not improve from 4.72746\n",
      "16684/16684 [==============================] - 241s 14ms/step - loss: 0.6656 - accuracy: 0.7926 - val_loss: 33.6938 - val_accuracy: 0.8333 - lr: 0.0079\n",
      "Epoch 4/1000\n",
      "16680/16684 [============================>.] - ETA: 0s - loss: 0.6045 - accuracy: 0.8059\n",
      "Epoch 4: val_loss did not improve from 4.72746\n",
      "16684/16684 [==============================] - 240s 14ms/step - loss: 0.6045 - accuracy: 0.8059 - val_loss: 22.4462 - val_accuracy: 0.8393 - lr: 0.0071\n",
      "Epoch 5/1000\n",
      "16684/16684 [==============================] - ETA: 0s - loss: 0.5618 - accuracy: 0.8150\n",
      "Epoch 5: val_loss did not improve from 4.72746\n",
      "16684/16684 [==============================] - 239s 14ms/step - loss: 0.5618 - accuracy: 0.8150 - val_loss: 150.9464 - val_accuracy: 0.8437 - lr: 0.0063\n",
      "Epoch 6/1000\n",
      "16682/16684 [============================>.] - ETA: 0s - loss: 0.5241 - accuracy: 0.8235\n",
      "Epoch 6: val_loss did not improve from 4.72746\n",
      "16684/16684 [==============================] - 237s 14ms/step - loss: 0.5241 - accuracy: 0.8235 - val_loss: 60.0287 - val_accuracy: 0.8556 - lr: 0.0056\n"
     ]
    }
   ],
   "source": [
    "model.compile(optimizer=optimizer, loss='sparse_categorical_crossentropy', metrics=['accuracy'],)\n",
    "history=model.fit(train_set, batch_size = batch_size,\n",
    "                    steps_per_epoch=int(train_size / batch_size),\n",
    "                    validation_data=valid_set,\n",
    "                    validation_steps=int(valid_size / batch_size), \n",
    "                    epochs=1000,\n",
    "                    callbacks=[early_stopping_BRN50, checkpoint_callback_BRN50,lr_scheduler])"
   ]
  },
  {
   "cell_type": "code",
   "execution_count": 23,
   "id": "b5acd737",
   "metadata": {},
   "outputs": [
    {
     "data": {
      "text/plain": [
       "<AxesSubplot: >"
      ]
     },
     "execution_count": 23,
     "metadata": {},
     "output_type": "execute_result"
    },
    {
     "data": {
      "image/png": "[encoded data removed]",
      "text/plain": [
       "<Figure size 640x480 with 1 Axes>"
      ]
     },
     "metadata": {},
     "output_type": "display_data"
    }
   ],
   "source": [
    "pd.DataFrame(history.history).plot()"
   ]
  },
  {
   "cell_type": "markdown",
   "id": "d403f853",
   "metadata": {},
   "source": [
    "### lr설정에 문제가 있어서 이런 이상한 그래프가 등장하였다"
   ]
  },
  {
   "cell_type": "markdown",
   "id": "ea4e4cf7",
   "metadata": {},
   "source": [
    "# Ir 수정"
   ]
  },
  {
   "cell_type": "code",
   "execution_count": null,
   "id": "e519705a",
   "metadata": {},
   "outputs": [],
   "source": [
    "def exponential_decay_fn(epoch):\n",
    "    return 0.01 * 0.1 ** (epoch / 20)\n",
    "\n",
    "def exponential_decay(lr0, s):\n",
    "    def exponential_decay_fn(epoch):\n",
    "        return lr0 * 0.1 ** (epoch / s)\n",
    "    return exponential_decay_fn"
   ]
  },
  {
   "cell_type": "code",
   "execution_count": null,
   "id": "c5f4d7fa",
   "metadata": {},
   "outputs": [],
   "source": [
    "exponential_decay_fn = exponential_decay(lr0=0.001, s=20)\n",
    "lr_scheduler = tf.keras.callbacks.LearningRateScheduler(exponential_decay_fn)"
   ]
  },
  {
   "cell_type": "code",
   "execution_count": null,
   "id": "508ac3e1",
   "metadata": {},
   "outputs": [],
   "source": [
    "model = Sequential()\n",
    "model.add(Conv2D(32, 5, padding='same', activation='relu', input_shape=[28,28,1]))\n",
    "model.add(BatchNormalization())\n",
    "model.add(Conv2D(64, 2, activation='relu', padding='same'))\n",
    "model.add(BatchNormalization())\n",
    "model.add(MaxPooling2D(2))\n",
    "\n",
    "model.add(Conv2D(128, 2, activation='relu', padding='same'))\n",
    "model.add(BatchNormalization())\n",
    "model.add(MaxPooling2D(2))\n",
    "model.add(Dropout(0.25))\n",
    "model.add(Flatten())\n",
    "\n",
    "model.add(Dense(1000, activation='relu'))\n",
    "model.add(BatchNormalization())\n",
    "model.add(Dropout(0.5))\n",
    "model.add(Dense(1000, activation='relu'))\n",
    "model.add(BatchNormalization())\n",
    "model.add(Dropout(0.5))\n",
    "model.add(Dense(62, activation='softmax'))"
   ]
  },
  {
   "cell_type": "code",
   "execution_count": null,
   "id": "eec17f26",
   "metadata": {},
   "outputs": [],
   "source": [
    "early_stopping_BRN50 = EarlyStopping(patience = 5)\n",
    "data_name=\"byclass\" \n",
    "type_name=\"make\"\n",
    "hypara=\"exp_re\"\n",
    "optimizer=tf.keras.optimizers.Adam()\n",
    "checkpoint_callback_BRN50 = ModelCheckpoint(data_name+\"_\"+type_name+\"_\"+hypara+'.h5', monitor='val_loss', verbose=1, save_best_only=True, mode='min')"
   ]
  },
  {
   "cell_type": "code",
   "execution_count": 27,
   "id": "9d43ab03",
   "metadata": {},
   "outputs": [
    {
     "name": "stdout",
     "output_type": "stream",
     "text": [
      "Epoch 1/1000\n",
      "16683/16684 [============================>.] - ETA: 0s - loss: 0.6216 - accuracy: 0.7982\n",
      "Epoch 1: val_loss improved from inf to 0.40822, saving model to byclass_make_exp_re.h5\n",
      "16684/16684 [==============================] - 240s 14ms/step - loss: 0.6216 - accuracy: 0.7982 - val_loss: 0.4082 - val_accuracy: 0.8500 - lr: 0.0010\n",
      "Epoch 2/1000\n",
      "16682/16684 [============================>.] - ETA: 0s - loss: 0.4380 - accuracy: 0.8441\n",
      "Epoch 2: val_loss improved from 0.40822 to 0.36608, saving model to byclass_make_exp_re.h5\n",
      "16684/16684 [==============================] - 318s 19ms/step - loss: 0.4379 - accuracy: 0.8441 - val_loss: 0.3661 - val_accuracy: 0.8635 - lr: 8.9125e-04\n",
      "Epoch 3/1000\n",
      "16681/16684 [============================>.] - ETA: 0s - loss: 0.3989 - accuracy: 0.8559\n",
      "Epoch 3: val_loss improved from 0.36608 to 0.35134, saving model to byclass_make_exp_re.h5\n",
      "16684/16684 [==============================] - 316s 19ms/step - loss: 0.3989 - accuracy: 0.8559 - val_loss: 0.3513 - val_accuracy: 0.8693 - lr: 7.9433e-04\n",
      "Epoch 4/1000\n",
      "16684/16684 [==============================] - ETA: 0s - loss: 0.3786 - accuracy: 0.8616\n",
      "Epoch 4: val_loss improved from 0.35134 to 0.34639, saving model to byclass_make_exp_re.h5\n",
      "16684/16684 [==============================] - 315s 19ms/step - loss: 0.3786 - accuracy: 0.8616 - val_loss: 0.3464 - val_accuracy: 0.8681 - lr: 7.0795e-04\n",
      "Epoch 5/1000\n",
      "16682/16684 [============================>.] - ETA: 0s - loss: 0.3637 - accuracy: 0.8656\n",
      "Epoch 5: val_loss improved from 0.34639 to 0.33549, saving model to byclass_make_exp_re.h5\n",
      "16684/16684 [==============================] - 319s 19ms/step - loss: 0.3637 - accuracy: 0.8656 - val_loss: 0.3355 - val_accuracy: 0.8735 - lr: 6.3096e-04\n",
      "Epoch 6/1000\n",
      "16682/16684 [============================>.] - ETA: 0s - loss: 0.3524 - accuracy: 0.8692\n",
      "Epoch 6: val_loss improved from 0.33549 to 0.33392, saving model to byclass_make_exp_re.h5\n",
      "16684/16684 [==============================] - 317s 19ms/step - loss: 0.3524 - accuracy: 0.8692 - val_loss: 0.3339 - val_accuracy: 0.8751 - lr: 5.6234e-04\n",
      "Epoch 7/1000\n",
      "16684/16684 [==============================] - ETA: 0s - loss: 0.3431 - accuracy: 0.8721\n",
      "Epoch 7: val_loss improved from 0.33392 to 0.32927, saving model to byclass_make_exp_re.h5\n",
      "16684/16684 [==============================] - 317s 19ms/step - loss: 0.3431 - accuracy: 0.8721 - val_loss: 0.3293 - val_accuracy: 0.8767 - lr: 5.0119e-04\n",
      "Epoch 8/1000\n",
      "16683/16684 [============================>.] - ETA: 0s - loss: 0.3343 - accuracy: 0.8746\n",
      "Epoch 8: val_loss improved from 0.32927 to 0.32713, saving model to byclass_make_exp_re.h5\n",
      "16684/16684 [==============================] - 317s 19ms/step - loss: 0.3343 - accuracy: 0.8746 - val_loss: 0.3271 - val_accuracy: 0.8773 - lr: 4.4668e-04\n",
      "Epoch 9/1000\n",
      "16683/16684 [============================>.] - ETA: 0s - loss: 0.3269 - accuracy: 0.8771\n",
      "Epoch 9: val_loss did not improve from 0.32713\n",
      "16684/16684 [==============================] - 316s 19ms/step - loss: 0.3269 - accuracy: 0.8771 - val_loss: 0.3315 - val_accuracy: 0.8760 - lr: 3.9811e-04\n",
      "Epoch 10/1000\n",
      "16683/16684 [============================>.] - ETA: 0s - loss: 0.3209 - accuracy: 0.8786\n",
      "Epoch 10: val_loss improved from 0.32713 to 0.32612, saving model to byclass_make_exp_re.h5\n",
      "16684/16684 [==============================] - 319s 19ms/step - loss: 0.3209 - accuracy: 0.8786 - val_loss: 0.3261 - val_accuracy: 0.8779 - lr: 3.5481e-04\n",
      "Epoch 11/1000\n",
      "16682/16684 [============================>.] - ETA: 0s - loss: 0.3139 - accuracy: 0.8803\n",
      "Epoch 11: val_loss improved from 0.32612 to 0.32469, saving model to byclass_make_exp_re.h5\n",
      "16684/16684 [==============================] - 338s 20ms/step - loss: 0.3139 - accuracy: 0.8803 - val_loss: 0.3247 - val_accuracy: 0.8786 - lr: 3.1623e-04\n",
      "Epoch 12/1000\n",
      "16683/16684 [============================>.] - ETA: 0s - loss: 0.3087 - accuracy: 0.8820\n",
      "Epoch 12: val_loss did not improve from 0.32469\n",
      "16684/16684 [==============================] - 332s 20ms/step - loss: 0.3087 - accuracy: 0.8820 - val_loss: 0.3256 - val_accuracy: 0.8787 - lr: 2.8184e-04\n",
      "Epoch 13/1000\n",
      "16682/16684 [============================>.] - ETA: 0s - loss: 0.3043 - accuracy: 0.8836\n",
      "Epoch 13: val_loss improved from 0.32469 to 0.32356, saving model to byclass_make_exp_re.h5\n",
      "16684/16684 [==============================] - 329s 20ms/step - loss: 0.3043 - accuracy: 0.8836 - val_loss: 0.3236 - val_accuracy: 0.8792 - lr: 2.5119e-04\n",
      "Epoch 14/1000\n",
      "16682/16684 [============================>.] - ETA: 0s - loss: 0.2994 - accuracy: 0.8848\n",
      "Epoch 14: val_loss did not improve from 0.32356\n",
      "16684/16684 [==============================] - 324s 19ms/step - loss: 0.2994 - accuracy: 0.8848 - val_loss: 0.3240 - val_accuracy: 0.8797 - lr: 2.2387e-04\n",
      "Epoch 15/1000\n",
      "16682/16684 [============================>.] - ETA: 0s - loss: 0.2950 - accuracy: 0.8865\n",
      "Epoch 15: val_loss did not improve from 0.32356\n",
      "16684/16684 [==============================] - 323s 19ms/step - loss: 0.2949 - accuracy: 0.8865 - val_loss: 0.3266 - val_accuracy: 0.8795 - lr: 1.9953e-04\n",
      "Epoch 16/1000\n",
      "16683/16684 [============================>.] - ETA: 0s - loss: 0.2913 - accuracy: 0.8875\n",
      "Epoch 16: val_loss did not improve from 0.32356\n",
      "16684/16684 [==============================] - 321s 19ms/step - loss: 0.2913 - accuracy: 0.8875 - val_loss: 0.3258 - val_accuracy: 0.8794 - lr: 1.7783e-04\n",
      "Epoch 17/1000\n",
      "16682/16684 [============================>.] - ETA: 0s - loss: 0.2880 - accuracy: 0.8886\n",
      "Epoch 17: val_loss did not improve from 0.32356\n",
      "16684/16684 [==============================] - 317s 19ms/step - loss: 0.2880 - accuracy: 0.8886 - val_loss: 0.3270 - val_accuracy: 0.8796 - lr: 1.5849e-04\n",
      "Epoch 18/1000\n",
      "16681/16684 [============================>.] - ETA: 0s - loss: 0.2846 - accuracy: 0.8895\n",
      "Epoch 18: val_loss did not improve from 0.32356\n",
      "16684/16684 [==============================] - 318s 19ms/step - loss: 0.2846 - accuracy: 0.8895 - val_loss: 0.3285 - val_accuracy: 0.8795 - lr: 1.4125e-04\n"
     ]
    }
   ],
   "source": [
    "model.compile(optimizer=optimizer, loss='sparse_categorical_crossentropy', metrics=['accuracy'],)\n",
    "history=model.fit(train_set, batch_size = batch_size,\n",
    "                    steps_per_epoch=int(train_size / batch_size),\n",
    "                    validation_data=valid_set,\n",
    "                    validation_steps=int(valid_size / batch_size), \n",
    "                    epochs=1000,\n",
    "                    callbacks=[early_stopping_BRN50, checkpoint_callback_BRN50,lr_scheduler])"
   ]
  },
  {
   "cell_type": "code",
   "execution_count": 28,
   "id": "351f238c",
   "metadata": {},
   "outputs": [
    {
     "data": {
      "text/plain": [
       "<AxesSubplot: >"
      ]
     },
     "execution_count": 28,
     "metadata": {},
     "output_type": "execute_result"
    },
    {
     "data": {
      "image/png": "[encoded data removed]",
      "text/plain": [
       "<Figure size 432x288 with 1 Axes>"
      ]
     },
     "metadata": {
      "needs_background": "light"
     },
     "output_type": "display_data"
    }
   ],
   "source": [
    "pd.DataFrame(history.history).plot()"
   ]
  },
  {
   "cell_type": "markdown",
   "id": "cb7c65a1",
   "metadata": {},
   "source": [
    "# s값 수정"
   ]
  },
  {
   "cell_type": "code",
   "execution_count": null,
   "id": "2c753abe",
   "metadata": {},
   "outputs": [],
   "source": [
    "model = Sequential()\n",
    "model.add(Conv2D(32, 5, padding='same', activation='relu', input_shape=[28,28,1]))\n",
    "model.add(BatchNormalization())\n",
    "model.add(Conv2D(64, 2, activation='relu', padding='same'))\n",
    "model.add(BatchNormalization())\n",
    "model.add(MaxPooling2D(2))\n",
    "\n",
    "model.add(Conv2D(128, 2, activation='relu', padding='same'))\n",
    "model.add(BatchNormalization())\n",
    "model.add(MaxPooling2D(2))\n",
    "model.add(Dropout(0.25))\n",
    "model.add(Flatten())\n",
    "\n",
    "model.add(Dense(1000, activation='relu'))\n",
    "model.add(BatchNormalization())\n",
    "model.add(Dropout(0.5))\n",
    "model.add(Dense(1000, activation='relu'))\n",
    "model.add(BatchNormalization())\n",
    "model.add(Dropout(0.5))\n",
    "model.add(Dense(62, activation='softmax'))"
   ]
  },
  {
   "cell_type": "code",
   "execution_count": null,
   "id": "ae03e2d4",
   "metadata": {},
   "outputs": [],
   "source": [
    "exponential_decay_fn = exponential_decay(lr0=0.001, s=10)\n",
    "lr_scheduler = tf.keras.callbacks.LearningRateScheduler(exponential_decay_fn)"
   ]
  },
  {
   "cell_type": "code",
   "execution_count": null,
   "id": "b2bb6d24",
   "metadata": {},
   "outputs": [],
   "source": [
    "early_stopping_BRN50 = EarlyStopping(patience = 5)\n",
    "data_name=\"byclass\" \n",
    "type_name=\"make\"\n",
    "hypara=\"exp_re_ver2\"\n",
    "optimizer=tf.keras.optimizers.Adam()\n",
    "checkpoint_callback_BRN50 = ModelCheckpoint(data_name+\"_\"+type_name+\"_\"+hypara+'.h5', monitor='val_loss', verbose=1, save_best_only=True, mode='min')"
   ]
  },
  {
   "cell_type": "code",
   "execution_count": 24,
   "id": "f47543aa",
   "metadata": {},
   "outputs": [
    {
     "name": "stdout",
     "output_type": "stream",
     "text": [
      "Epoch 1/1000\n",
      "16682/16684 [============================>.] - ETA: 0s - loss: 0.6068 - accuracy: 0.8011\n",
      "Epoch 1: val_loss improved from inf to 0.40368, saving model to byclass_make_exp_re_ver2.h5\n",
      "16684/16684 [==============================] - 315s 19ms/step - loss: 0.6068 - accuracy: 0.8011 - val_loss: 0.4037 - val_accuracy: 0.8516 - lr: 0.0010\n",
      "Epoch 2/1000\n",
      "16684/16684 [==============================] - ETA: 0s - loss: 0.4354 - accuracy: 0.8449\n",
      "Epoch 2: val_loss improved from 0.40368 to 0.36533, saving model to byclass_make_exp_re_ver2.h5\n",
      "16684/16684 [==============================] - 317s 19ms/step - loss: 0.4354 - accuracy: 0.8449 - val_loss: 0.3653 - val_accuracy: 0.8639 - lr: 7.9433e-04\n",
      "Epoch 3/1000\n",
      "16683/16684 [============================>.] - ETA: 0s - loss: 0.3962 - accuracy: 0.8568\n",
      "Epoch 3: val_loss improved from 0.36533 to 0.34971, saving model to byclass_make_exp_re_ver2.h5\n",
      "16684/16684 [==============================] - 314s 19ms/step - loss: 0.3962 - accuracy: 0.8568 - val_loss: 0.3497 - val_accuracy: 0.8702 - lr: 6.3096e-04\n",
      "Epoch 4/1000\n",
      "16682/16684 [============================>.] - ETA: 0s - loss: 0.3742 - accuracy: 0.8627\n",
      "Epoch 4: val_loss improved from 0.34971 to 0.34685, saving model to byclass_make_exp_re_ver2.h5\n",
      "16684/16684 [==============================] - 317s 19ms/step - loss: 0.3742 - accuracy: 0.8627 - val_loss: 0.3468 - val_accuracy: 0.8680 - lr: 5.0119e-04\n",
      "Epoch 5/1000\n",
      "16684/16684 [==============================] - ETA: 0s - loss: 0.3573 - accuracy: 0.8673\n",
      "Epoch 5: val_loss improved from 0.34685 to 0.33364, saving model to byclass_make_exp_re_ver2.h5\n",
      "16684/16684 [==============================] - 317s 19ms/step - loss: 0.3573 - accuracy: 0.8673 - val_loss: 0.3336 - val_accuracy: 0.8751 - lr: 3.9811e-04\n",
      "Epoch 6/1000\n",
      "16683/16684 [============================>.] - ETA: 0s - loss: 0.3456 - accuracy: 0.8716\n",
      "Epoch 6: val_loss improved from 0.33364 to 0.33248, saving model to byclass_make_exp_re_ver2.h5\n",
      "16684/16684 [==============================] - 319s 19ms/step - loss: 0.3456 - accuracy: 0.8716 - val_loss: 0.3325 - val_accuracy: 0.8768 - lr: 3.1623e-04\n",
      "Epoch 7/1000\n",
      "16681/16684 [============================>.] - ETA: 0s - loss: 0.3364 - accuracy: 0.8741\n",
      "Epoch 7: val_loss improved from 0.33248 to 0.32873, saving model to byclass_make_exp_re_ver2.h5\n",
      "16684/16684 [==============================] - 315s 19ms/step - loss: 0.3364 - accuracy: 0.8741 - val_loss: 0.3287 - val_accuracy: 0.8773 - lr: 2.5119e-04\n",
      "Epoch 8/1000\n",
      "16684/16684 [==============================] - ETA: 0s - loss: 0.3287 - accuracy: 0.8762\n",
      "Epoch 8: val_loss improved from 0.32873 to 0.32611, saving model to byclass_make_exp_re_ver2.h5\n",
      "16684/16684 [==============================] - 316s 19ms/step - loss: 0.3287 - accuracy: 0.8762 - val_loss: 0.3261 - val_accuracy: 0.8781 - lr: 1.9953e-04\n",
      "Epoch 9/1000\n",
      "16684/16684 [==============================] - ETA: 0s - loss: 0.3212 - accuracy: 0.8785\n",
      "Epoch 9: val_loss improved from 0.32611 to 0.32545, saving model to byclass_make_exp_re_ver2.h5\n",
      "16684/16684 [==============================] - 317s 19ms/step - loss: 0.3212 - accuracy: 0.8785 - val_loss: 0.3254 - val_accuracy: 0.8787 - lr: 1.5849e-04\n",
      "Epoch 10/1000\n",
      "16683/16684 [============================>.] - ETA: 0s - loss: 0.3164 - accuracy: 0.8799\n",
      "Epoch 10: val_loss did not improve from 0.32545\n",
      "16684/16684 [==============================] - 330s 20ms/step - loss: 0.3164 - accuracy: 0.8799 - val_loss: 0.3287 - val_accuracy: 0.8788 - lr: 1.2589e-04\n",
      "Epoch 11/1000\n",
      "16683/16684 [============================>.] - ETA: 0s - loss: 0.3123 - accuracy: 0.8814\n",
      "Epoch 11: val_loss improved from 0.32545 to 0.32393, saving model to byclass_make_exp_re_ver2.h5\n",
      "16684/16684 [==============================] - 336s 20ms/step - loss: 0.3123 - accuracy: 0.8814 - val_loss: 0.3239 - val_accuracy: 0.8788 - lr: 1.0000e-04\n",
      "Epoch 12/1000\n",
      "16682/16684 [============================>.] - ETA: 0s - loss: 0.3081 - accuracy: 0.8825\n",
      "Epoch 12: val_loss improved from 0.32393 to 0.32311, saving model to byclass_make_exp_re_ver2.h5\n",
      "16684/16684 [==============================] - 330s 20ms/step - loss: 0.3081 - accuracy: 0.8825 - val_loss: 0.3231 - val_accuracy: 0.8794 - lr: 7.9433e-05\n",
      "Epoch 13/1000\n",
      "16683/16684 [============================>.] - ETA: 0s - loss: 0.3063 - accuracy: 0.8832\n",
      "Epoch 13: val_loss improved from 0.32311 to 0.32278, saving model to byclass_make_exp_re_ver2.h5\n",
      "16684/16684 [==============================] - 326s 20ms/step - loss: 0.3063 - accuracy: 0.8832 - val_loss: 0.3228 - val_accuracy: 0.8799 - lr: 6.3096e-05\n",
      "Epoch 14/1000\n",
      "16683/16684 [============================>.] - ETA: 0s - loss: 0.3037 - accuracy: 0.8840\n",
      "Epoch 14: val_loss did not improve from 0.32278\n",
      "16684/16684 [==============================] - 323s 19ms/step - loss: 0.3037 - accuracy: 0.8840 - val_loss: 0.3240 - val_accuracy: 0.8792 - lr: 5.0119e-05\n",
      "Epoch 15/1000\n",
      "16684/16684 [==============================] - ETA: 0s - loss: 0.3006 - accuracy: 0.8849\n",
      "Epoch 15: val_loss did not improve from 0.32278\n",
      "16684/16684 [==============================] - 322s 19ms/step - loss: 0.3006 - accuracy: 0.8849 - val_loss: 0.3268 - val_accuracy: 0.8795 - lr: 3.9811e-05\n",
      "Epoch 16/1000\n",
      "16682/16684 [============================>.] - ETA: 0s - loss: 0.3000 - accuracy: 0.8854\n",
      "Epoch 16: val_loss did not improve from 0.32278\n",
      "16684/16684 [==============================] - 321s 19ms/step - loss: 0.3000 - accuracy: 0.8854 - val_loss: 0.3246 - val_accuracy: 0.8795 - lr: 3.1623e-05\n",
      "Epoch 17/1000\n",
      "16683/16684 [============================>.] - ETA: 0s - loss: 0.2993 - accuracy: 0.8851\n",
      "Epoch 17: val_loss did not improve from 0.32278\n",
      "16684/16684 [==============================] - 314s 19ms/step - loss: 0.2993 - accuracy: 0.8851 - val_loss: 0.3252 - val_accuracy: 0.8794 - lr: 2.5119e-05\n",
      "Epoch 18/1000\n",
      "16683/16684 [============================>.] - ETA: 0s - loss: 0.2975 - accuracy: 0.8861\n",
      "Epoch 18: val_loss did not improve from 0.32278\n",
      "16684/16684 [==============================] - 235s 14ms/step - loss: 0.2975 - accuracy: 0.8861 - val_loss: 0.3242 - val_accuracy: 0.8798 - lr: 1.9953e-05\n"
     ]
    }
   ],
   "source": [
    "model.compile(optimizer=optimizer, loss='sparse_categorical_crossentropy', metrics=['accuracy'],)\n",
    "history=model.fit(train_set, batch_size = batch_size,\n",
    "                    steps_per_epoch=int(train_size / batch_size),\n",
    "                    validation_data=valid_set,\n",
    "                    validation_steps=int(valid_size / batch_size), \n",
    "                    epochs=1000,\n",
    "                    callbacks=[early_stopping_BRN50, checkpoint_callback_BRN50,lr_scheduler])"
   ]
  },
  {
   "cell_type": "code",
   "execution_count": 25,
   "id": "636874b0",
   "metadata": {},
   "outputs": [
    {
     "data": {
      "text/plain": [
       "<AxesSubplot: >"
      ]
     },
     "execution_count": 25,
     "metadata": {},
     "output_type": "execute_result"
    },
    {
     "data": {
      "image/png": "[encoded data removed]",
      "text/plain": [
       "<Figure size 432x288 with 1 Axes>"
      ]
     },
     "metadata": {
      "needs_background": "light"
     },
     "output_type": "display_data"
    }
   ],
   "source": [
    "pd.DataFrame(history.history).plot()"
   ]
  },
  {
   "cell_type": "markdown",
   "id": "7e71ef89",
   "metadata": {},
   "source": [
    "#  Piecewise schedule"
   ]
  },
  {
   "cell_type": "code",
   "execution_count": null,
   "id": "85a38ab2",
   "metadata": {},
   "outputs": [],
   "source": [
    "model = Sequential()\n",
    "model.add(Conv2D(32, 5, padding='same', activation='relu', input_shape=[28,28,1]))\n",
    "model.add(BatchNormalization())\n",
    "model.add(Conv2D(64, 2, activation='relu', padding='same'))\n",
    "model.add(BatchNormalization())\n",
    "model.add(MaxPooling2D(2))\n",
    "\n",
    "model.add(Conv2D(128, 2, activation='relu', padding='same'))\n",
    "model.add(BatchNormalization())\n",
    "model.add(MaxPooling2D(2))\n",
    "model.add(Dropout(0.25))\n",
    "model.add(Flatten())\n",
    "\n",
    "model.add(Dense(1000, activation='relu'))\n",
    "model.add(BatchNormalization())\n",
    "model.add(Dropout(0.5))\n",
    "model.add(Dense(1000, activation='relu'))\n",
    "model.add(BatchNormalization())\n",
    "model.add(Dropout(0.5))\n",
    "model.add(Dense(62, activation='softmax'))"
   ]
  },
  {
   "cell_type": "code",
   "execution_count": null,
   "id": "a910859e",
   "metadata": {},
   "outputs": [],
   "source": [
    "def piecewise_constant(boundaries, values):\n",
    "    boundaries = np.array([0] + boundaries)\n",
    "    values = np.array(values)\n",
    "    def piecewise_constant_fn(epoch):\n",
    "        return values[np.argmax(boundaries > epoch) - 1]\n",
    "    return piecewise_constant_fn\n",
    "\n",
    "piecewise_constant_fn = piecewise_constant([5, 15], [0.01, 0.005, 0.001])"
   ]
  },
  {
   "cell_type": "code",
   "execution_count": null,
   "id": "0a151a52",
   "metadata": {},
   "outputs": [],
   "source": [
    "lr_scheduler = keras.callbacks.LearningRateScheduler(piecewise_constant_fn)\n",
    "early_stopping_BRN50 = EarlyStopping(patience = 10)\n",
    "data_name=\"byclass\" \n",
    "type_name=\"make\"\n",
    "hypara=\"adam\"\n",
    "optimizer=tf.keras.optimizers.Adam()\n",
    "checkpoint_callback_BRN50 = ModelCheckpoint(data_name+\"_\"+type_name+\"_\"+hypara+'.h5', monitor='val_loss', verbose=1, save_best_only=True, mode='min')"
   ]
  },
  {
   "cell_type": "code",
   "execution_count": 19,
   "id": "d416b611",
   "metadata": {},
   "outputs": [
    {
     "name": "stdout",
     "output_type": "stream",
     "text": [
      "Epoch 1/1000\n",
      "16682/16684 [============================>.] - ETA: 0s - loss: 0.8784 - accuracy: 0.7519\n",
      "Epoch 1: val_loss improved from inf to 0.64733, saving model to byclass_make_adam.h5\n",
      "16684/16684 [==============================] - 328s 19ms/step - loss: 0.8784 - accuracy: 0.7519 - val_loss: 0.6473 - val_accuracy: 0.8135 - lr: 0.0100\n",
      "Epoch 2/1000\n",
      "16682/16684 [============================>.] - ETA: 0s - loss: 0.7822 - accuracy: 0.7776\n",
      "Epoch 2: val_loss improved from 0.64733 to 0.57068, saving model to byclass_make_adam.h5\n",
      "16684/16684 [==============================] - 247s 15ms/step - loss: 0.7822 - accuracy: 0.7776 - val_loss: 0.5707 - val_accuracy: 0.8300 - lr: 0.0100\n",
      "Epoch 3/1000\n",
      "16684/16684 [==============================] - ETA: 0s - loss: 0.7543 - accuracy: 0.7842\n",
      "Epoch 3: val_loss did not improve from 0.57068\n",
      "16684/16684 [==============================] - 244s 15ms/step - loss: 0.7543 - accuracy: 0.7842 - val_loss: 1.1182 - val_accuracy: 0.8331 - lr: 0.0100\n",
      "Epoch 4/1000\n",
      "16682/16684 [============================>.] - ETA: 0s - loss: 0.7328 - accuracy: 0.7887\n",
      "Epoch 4: val_loss did not improve from 0.57068\n",
      "16684/16684 [==============================] - 245s 15ms/step - loss: 0.7328 - accuracy: 0.7887 - val_loss: 0.6510 - val_accuracy: 0.8322 - lr: 0.0100\n",
      "Epoch 5/1000\n",
      "16682/16684 [============================>.] - ETA: 0s - loss: 0.7064 - accuracy: 0.7936\n",
      "Epoch 5: val_loss did not improve from 0.57068\n",
      "16684/16684 [==============================] - 245s 15ms/step - loss: 0.7063 - accuracy: 0.7936 - val_loss: 172.0642 - val_accuracy: 0.8318 - lr: 0.0100\n",
      "Epoch 6/1000\n",
      "16683/16684 [============================>.] - ETA: 0s - loss: 0.5176 - accuracy: 0.8252\n",
      "Epoch 6: val_loss improved from 0.57068 to 0.41097, saving model to byclass_make_adam.h5\n",
      "16684/16684 [==============================] - 246s 15ms/step - loss: 0.5176 - accuracy: 0.8252 - val_loss: 0.4110 - val_accuracy: 0.8579 - lr: 0.0050\n",
      "Epoch 7/1000\n",
      "16683/16684 [============================>.] - ETA: 0s - loss: 0.4918 - accuracy: 0.8315\n",
      "Epoch 7: val_loss did not improve from 0.41097\n",
      "16684/16684 [==============================] - 246s 15ms/step - loss: 0.4918 - accuracy: 0.8315 - val_loss: 0.7849 - val_accuracy: 0.8540 - lr: 0.0050\n",
      "Epoch 8/1000\n",
      "16680/16684 [============================>.] - ETA: 0s - loss: 0.4840 - accuracy: 0.8340\n",
      "Epoch 8: val_loss did not improve from 0.41097\n",
      "16684/16684 [==============================] - 244s 15ms/step - loss: 0.4839 - accuracy: 0.8340 - val_loss: 0.5837 - val_accuracy: 0.8599 - lr: 0.0050\n",
      "Epoch 9/1000\n",
      "16684/16684 [==============================] - ETA: 0s - loss: 0.4772 - accuracy: 0.8356\n",
      "Epoch 9: val_loss did not improve from 0.41097\n",
      "16684/16684 [==============================] - 244s 15ms/step - loss: 0.4772 - accuracy: 0.8356 - val_loss: 0.4329 - val_accuracy: 0.8603 - lr: 0.0050\n",
      "Epoch 10/1000\n",
      "16681/16684 [============================>.] - ETA: 0s - loss: 0.4707 - accuracy: 0.8369\n",
      "Epoch 10: val_loss did not improve from 0.41097\n",
      "16684/16684 [==============================] - 244s 15ms/step - loss: 0.4707 - accuracy: 0.8369 - val_loss: 13.0197 - val_accuracy: 0.8608 - lr: 0.0050\n",
      "Epoch 11/1000\n",
      "16684/16684 [==============================] - ETA: 0s - loss: 0.4709 - accuracy: 0.8369\n",
      "Epoch 11: val_loss did not improve from 0.41097\n",
      "16684/16684 [==============================] - 245s 15ms/step - loss: 0.4709 - accuracy: 0.8369 - val_loss: 21.8657 - val_accuracy: 0.8561 - lr: 0.0050\n",
      "Epoch 12/1000\n",
      "16684/16684 [==============================] - ETA: 0s - loss: 0.4674 - accuracy: 0.8378\n",
      "Epoch 12: val_loss did not improve from 0.41097\n",
      "16684/16684 [==============================] - 239s 14ms/step - loss: 0.4674 - accuracy: 0.8378 - val_loss: 28.4847 - val_accuracy: 0.8585 - lr: 0.0050\n",
      "Epoch 13/1000\n",
      "16683/16684 [============================>.] - ETA: 0s - loss: 0.4637 - accuracy: 0.8394\n",
      "Epoch 13: val_loss did not improve from 0.41097\n",
      "16684/16684 [==============================] - 244s 15ms/step - loss: 0.4636 - accuracy: 0.8394 - val_loss: 3.8103 - val_accuracy: 0.8580 - lr: 0.0050\n",
      "Epoch 14/1000\n",
      "16683/16684 [============================>.] - ETA: 0s - loss: 0.4620 - accuracy: 0.8397\n",
      "Epoch 14: val_loss did not improve from 0.41097\n",
      "16684/16684 [==============================] - 235s 14ms/step - loss: 0.4620 - accuracy: 0.8397 - val_loss: 1.8770 - val_accuracy: 0.8568 - lr: 0.0050\n",
      "Epoch 15/1000\n",
      "16684/16684 [==============================] - ETA: 0s - loss: 0.4573 - accuracy: 0.8410\n",
      "Epoch 15: val_loss did not improve from 0.41097\n",
      "16684/16684 [==============================] - 233s 14ms/step - loss: 0.4573 - accuracy: 0.8410 - val_loss: 10.1429 - val_accuracy: 0.8637 - lr: 0.0050\n",
      "Epoch 16/1000\n",
      "16683/16684 [============================>.] - ETA: 0s - loss: 0.3876 - accuracy: 0.8597\n",
      "Epoch 16: val_loss did not improve from 0.41097\n",
      "16684/16684 [==============================] - 235s 14ms/step - loss: 0.3876 - accuracy: 0.8597 - val_loss: 103.9161 - val_accuracy: 0.8726 - lr: 0.0010\n"
     ]
    }
   ],
   "source": [
    "model.compile(optimizer=optimizer, loss='sparse_categorical_crossentropy', metrics=['accuracy'],)\n",
    "history=model.fit(train_set, batch_size = batch_size,\n",
    "                    steps_per_epoch=int(train_size / batch_size),\n",
    "                    validation_data=valid_set,\n",
    "                    validation_steps=int(valid_size / batch_size), \n",
    "                    epochs=1000,\n",
    "                    callbacks=[early_stopping_BRN50, checkpoint_callback_BRN50,lr_scheduler])"
   ]
  },
  {
   "cell_type": "code",
   "execution_count": 20,
   "id": "4138d168",
   "metadata": {},
   "outputs": [
    {
     "data": {
      "text/plain": [
       "<AxesSubplot: >"
      ]
     },
     "execution_count": 20,
     "metadata": {},
     "output_type": "execute_result"
    },
    {
     "data": {
      "image/png": "[encoded data removed]",
      "text/plain": [
       "<Figure size 640x480 with 1 Axes>"
      ]
     },
     "metadata": {},
     "output_type": "display_data"
    }
   ],
   "source": [
    "pd.DataFrame(history.history).plot()"
   ]
  },
  {
   "cell_type": "markdown",
   "id": "0d344e4c",
   "metadata": {},
   "source": [
    "### 잘못된 Ir  설정으로 문제 발생"
   ]
  },
  {
   "cell_type": "markdown",
   "id": "485928a6",
   "metadata": {},
   "source": [
    "# Ir 구간  & 값 변경"
   ]
  },
  {
   "cell_type": "code",
   "execution_count": null,
   "id": "4dc0c9ef",
   "metadata": {},
   "outputs": [],
   "source": [
    "model = Sequential()\n",
    "model.add(Conv2D(32, 5, padding='same', activation='relu', input_shape=[28,28,1]))\n",
    "model.add(BatchNormalization())\n",
    "model.add(Conv2D(64, 2, activation='relu', padding='same'))\n",
    "model.add(BatchNormalization())\n",
    "model.add(MaxPooling2D(2))\n",
    "\n",
    "model.add(Conv2D(128, 2, activation='relu', padding='same'))\n",
    "model.add(BatchNormalization())\n",
    "model.add(MaxPooling2D(2))\n",
    "model.add(Dropout(0.25))\n",
    "model.add(Flatten())\n",
    "\n",
    "model.add(Dense(1000, activation='relu'))\n",
    "model.add(BatchNormalization())\n",
    "model.add(Dropout(0.5))\n",
    "model.add(Dense(1000, activation='relu'))\n",
    "model.add(BatchNormalization())\n",
    "model.add(Dropout(0.5))\n",
    "model.add(Dense(62, activation='softmax'))"
   ]
  },
  {
   "cell_type": "code",
   "execution_count": null,
   "id": "6598c448",
   "metadata": {},
   "outputs": [],
   "source": [
    "def piecewise_constant(boundaries, values):\n",
    "    boundaries = np.array([0] + boundaries)\n",
    "    values = np.array(values)\n",
    "    def piecewise_constant_fn(epoch):\n",
    "        return values[np.argmax(boundaries > epoch) - 1]\n",
    "    return piecewise_constant_fn\n",
    "\n",
    "piecewise_constant_fn = piecewise_constant([5,10, 15], [0.001, 0.0005, 0.0003, 0.00005])"
   ]
  },
  {
   "cell_type": "code",
   "execution_count": null,
   "id": "8f4e106b",
   "metadata": {},
   "outputs": [],
   "source": [
    "lr_scheduler = keras.callbacks.LearningRateScheduler(piecewise_constant_fn)"
   ]
  },
  {
   "cell_type": "code",
   "execution_count": null,
   "id": "2a6baa26",
   "metadata": {},
   "outputs": [],
   "source": [
    "early_stopping_BRN50 = EarlyStopping(patience = 10)\n",
    "data_name=\"byclass\" \n",
    "type_name=\"make\"\n",
    "hypara=\"adam_piecewise\"\n",
    "optimizer=tf.keras.optimizers.Adam()\n",
    "checkpoint_callback_BRN50 = ModelCheckpoint(data_name+\"_\"+type_name+\"_\"+hypara+'.h5', monitor='val_loss', verbose=1, save_best_only=True, mode='min')"
   ]
  },
  {
   "cell_type": "code",
   "execution_count": 19,
   "id": "d3c370ec",
   "metadata": {},
   "outputs": [
    {
     "name": "stdout",
     "output_type": "stream",
     "text": [
      "Epoch 1/1000\n",
      "16680/16684 [============================>.] - ETA: 0s - loss: 0.6218 - accuracy: 0.7986\n",
      "Epoch 1: val_loss improved from inf to 0.40265, saving model to byclass_make_adam_piecewise.h5\n",
      "16684/16684 [==============================] - 169s 10ms/step - loss: 0.6218 - accuracy: 0.7986 - val_loss: 0.4026 - val_accuracy: 0.8507 - lr: 0.0010\n",
      "Epoch 2/1000\n",
      "16679/16684 [============================>.] - ETA: 0s - loss: 0.4399 - accuracy: 0.8436\n",
      "Epoch 2: val_loss improved from 0.40265 to 0.37507, saving model to byclass_make_adam_piecewise.h5\n",
      "16684/16684 [==============================] - 164s 10ms/step - loss: 0.4399 - accuracy: 0.8436 - val_loss: 0.3751 - val_accuracy: 0.8611 - lr: 0.0010\n",
      "Epoch 3/1000\n",
      "16680/16684 [============================>.] - ETA: 0s - loss: 0.4053 - accuracy: 0.8532\n",
      "Epoch 3: val_loss improved from 0.37507 to 0.35831, saving model to byclass_make_adam_piecewise.h5\n",
      "16684/16684 [==============================] - 164s 10ms/step - loss: 0.4053 - accuracy: 0.8532 - val_loss: 0.3583 - val_accuracy: 0.8655 - lr: 0.0010\n",
      "Epoch 4/1000\n",
      "16680/16684 [============================>.] - ETA: 0s - loss: 0.3883 - accuracy: 0.8583\n",
      "Epoch 4: val_loss improved from 0.35831 to 0.35233, saving model to byclass_make_adam_piecewise.h5\n",
      "16684/16684 [==============================] - 167s 10ms/step - loss: 0.3883 - accuracy: 0.8583 - val_loss: 0.3523 - val_accuracy: 0.8664 - lr: 0.0010\n",
      "Epoch 5/1000\n",
      "16680/16684 [============================>.] - ETA: 0s - loss: 0.3754 - accuracy: 0.8619\n",
      "Epoch 5: val_loss improved from 0.35233 to 0.34587, saving model to byclass_make_adam_piecewise.h5\n",
      "16684/16684 [==============================] - 168s 10ms/step - loss: 0.3754 - accuracy: 0.8619 - val_loss: 0.3459 - val_accuracy: 0.8705 - lr: 0.0010\n",
      "Epoch 6/1000\n",
      "16684/16684 [==============================] - ETA: 0s - loss: 0.3463 - accuracy: 0.8709\n",
      "Epoch 6: val_loss improved from 0.34587 to 0.33453, saving model to byclass_make_adam_piecewise.h5\n",
      "16684/16684 [==============================] - 166s 10ms/step - loss: 0.3463 - accuracy: 0.8709 - val_loss: 0.3345 - val_accuracy: 0.8740 - lr: 5.0000e-04\n",
      "Epoch 7/1000\n",
      "16683/16684 [============================>.] - ETA: 0s - loss: 0.3373 - accuracy: 0.8734\n",
      "Epoch 7: val_loss improved from 0.33453 to 0.32927, saving model to byclass_make_adam_piecewise.h5\n",
      "16684/16684 [==============================] - 166s 10ms/step - loss: 0.3373 - accuracy: 0.8734 - val_loss: 0.3293 - val_accuracy: 0.8766 - lr: 5.0000e-04\n",
      "Epoch 8/1000\n",
      "16683/16684 [============================>.] - ETA: 0s - loss: 0.3308 - accuracy: 0.8756\n",
      "Epoch 8: val_loss did not improve from 0.32927\n",
      "16684/16684 [==============================] - 165s 10ms/step - loss: 0.3308 - accuracy: 0.8756 - val_loss: 0.3317 - val_accuracy: 0.8750 - lr: 5.0000e-04\n",
      "Epoch 9/1000\n",
      "16680/16684 [============================>.] - ETA: 0s - loss: 0.3262 - accuracy: 0.8768\n",
      "Epoch 9: val_loss did not improve from 0.32927\n",
      "16684/16684 [==============================] - 163s 10ms/step - loss: 0.3262 - accuracy: 0.8768 - val_loss: 0.3324 - val_accuracy: 0.8760 - lr: 5.0000e-04\n",
      "Epoch 10/1000\n",
      "16682/16684 [============================>.] - ETA: 0s - loss: 0.3211 - accuracy: 0.8780\n",
      "Epoch 10: val_loss did not improve from 0.32927\n",
      "16684/16684 [==============================] - 164s 10ms/step - loss: 0.3211 - accuracy: 0.8780 - val_loss: 0.3316 - val_accuracy: 0.8768 - lr: 5.0000e-04\n",
      "Epoch 11/1000\n",
      "16681/16684 [============================>.] - ETA: 0s - loss: 0.3089 - accuracy: 0.8820\n",
      "Epoch 11: val_loss improved from 0.32927 to 0.32844, saving model to byclass_make_adam_piecewise.h5\n",
      "16684/16684 [==============================] - 163s 10ms/step - loss: 0.3089 - accuracy: 0.8820 - val_loss: 0.3284 - val_accuracy: 0.8779 - lr: 3.0000e-04\n",
      "Epoch 12/1000\n",
      "16682/16684 [============================>.] - ETA: 0s - loss: 0.3045 - accuracy: 0.8833\n",
      "Epoch 12: val_loss improved from 0.32844 to 0.32645, saving model to byclass_make_adam_piecewise.h5\n",
      "16684/16684 [==============================] - 163s 10ms/step - loss: 0.3045 - accuracy: 0.8833 - val_loss: 0.3265 - val_accuracy: 0.8787 - lr: 3.0000e-04\n",
      "Epoch 13/1000\n",
      "16682/16684 [============================>.] - ETA: 0s - loss: 0.3007 - accuracy: 0.8845\n",
      "Epoch 13: val_loss did not improve from 0.32645\n",
      "16684/16684 [==============================] - 163s 10ms/step - loss: 0.3007 - accuracy: 0.8845 - val_loss: 0.3269 - val_accuracy: 0.8788 - lr: 3.0000e-04\n",
      "Epoch 14/1000\n",
      "16680/16684 [============================>.] - ETA: 0s - loss: 0.2955 - accuracy: 0.8863\n",
      "Epoch 14: val_loss did not improve from 0.32645\n",
      "16684/16684 [==============================] - 164s 10ms/step - loss: 0.2955 - accuracy: 0.8863 - val_loss: 0.3280 - val_accuracy: 0.8793 - lr: 3.0000e-04\n",
      "Epoch 15/1000\n",
      "16682/16684 [============================>.] - ETA: 0s - loss: 0.2956 - accuracy: 0.8861\n",
      "Epoch 15: val_loss did not improve from 0.32645\n",
      "16684/16684 [==============================] - 165s 10ms/step - loss: 0.2956 - accuracy: 0.8861 - val_loss: 0.3300 - val_accuracy: 0.8790 - lr: 3.0000e-04\n",
      "Epoch 16/1000\n",
      "16681/16684 [============================>.] - ETA: 0s - loss: 0.2848 - accuracy: 0.8894\n",
      "Epoch 16: val_loss did not improve from 0.32645\n",
      "16684/16684 [==============================] - 164s 10ms/step - loss: 0.2848 - accuracy: 0.8894 - val_loss: 0.3273 - val_accuracy: 0.8800 - lr: 5.0000e-05\n",
      "Epoch 17/1000\n",
      "16680/16684 [============================>.] - ETA: 0s - loss: 0.2802 - accuracy: 0.8909\n",
      "Epoch 17: val_loss did not improve from 0.32645\n",
      "16684/16684 [==============================] - 166s 10ms/step - loss: 0.2802 - accuracy: 0.8909 - val_loss: 0.3274 - val_accuracy: 0.8802 - lr: 5.0000e-05\n",
      "Epoch 18/1000\n",
      "16679/16684 [============================>.] - ETA: 0s - loss: 0.2790 - accuracy: 0.8913\n",
      "Epoch 18: val_loss did not improve from 0.32645\n",
      "16684/16684 [==============================] - 164s 10ms/step - loss: 0.2790 - accuracy: 0.8913 - val_loss: 0.3276 - val_accuracy: 0.8801 - lr: 5.0000e-05\n",
      "Epoch 19/1000\n",
      "16684/16684 [==============================] - ETA: 0s - loss: 0.2777 - accuracy: 0.8919\n",
      "Epoch 19: val_loss did not improve from 0.32645\n",
      "16684/16684 [==============================] - 161s 10ms/step - loss: 0.2777 - accuracy: 0.8919 - val_loss: 0.3287 - val_accuracy: 0.8798 - lr: 5.0000e-05\n",
      "Epoch 20/1000\n",
      "16683/16684 [============================>.] - ETA: 0s - loss: 0.2762 - accuracy: 0.8923\n",
      "Epoch 20: val_loss did not improve from 0.32645\n",
      "16684/16684 [==============================] - 166s 10ms/step - loss: 0.2762 - accuracy: 0.8923 - val_loss: 0.3288 - val_accuracy: 0.8800 - lr: 5.0000e-05\n",
      "Epoch 21/1000\n",
      "11941/16684 [====================>.........] - ETA: 44s - loss: 0.2752 - accuracy: 0.8924"
     ]
    },
    {
     "ename": "KeyboardInterrupt",
     "evalue": "",
     "output_type": "error",
     "traceback": [
      "\u001b[1;31m---------------------------------------------------------------------------\u001b[0m",
      "\u001b[1;31mKeyboardInterrupt\u001b[0m                         Traceback (most recent call last)",
      "Input \u001b[1;32mIn [19]\u001b[0m, in \u001b[0;36m<cell line: 2>\u001b[1;34m()\u001b[0m\n\u001b[0;32m      1\u001b[0m model\u001b[38;5;241m.\u001b[39mcompile(optimizer\u001b[38;5;241m=\u001b[39moptimizer, loss\u001b[38;5;241m=\u001b[39m\u001b[38;5;124m'\u001b[39m\u001b[38;5;124msparse_categorical_crossentropy\u001b[39m\u001b[38;5;124m'\u001b[39m, metrics\u001b[38;5;241m=\u001b[39m[\u001b[38;5;124m'\u001b[39m\u001b[38;5;124maccuracy\u001b[39m\u001b[38;5;124m'\u001b[39m],)\n\u001b[1;32m----> 2\u001b[0m history\u001b[38;5;241m=\u001b[39m\u001b[43mmodel\u001b[49m\u001b[38;5;241;43m.\u001b[39;49m\u001b[43mfit\u001b[49m\u001b[43m(\u001b[49m\u001b[43mtrain_set\u001b[49m\u001b[43m,\u001b[49m\u001b[43m \u001b[49m\u001b[43mbatch_size\u001b[49m\u001b[43m \u001b[49m\u001b[38;5;241;43m=\u001b[39;49m\u001b[43m \u001b[49m\u001b[43mbatch_size\u001b[49m\u001b[43m,\u001b[49m\n\u001b[0;32m      3\u001b[0m \u001b[43m                    \u001b[49m\u001b[43msteps_per_epoch\u001b[49m\u001b[38;5;241;43m=\u001b[39;49m\u001b[38;5;28;43mint\u001b[39;49m\u001b[43m(\u001b[49m\u001b[43mtrain_size\u001b[49m\u001b[43m \u001b[49m\u001b[38;5;241;43m/\u001b[39;49m\u001b[43m \u001b[49m\u001b[43mbatch_size\u001b[49m\u001b[43m)\u001b[49m\u001b[43m,\u001b[49m\n\u001b[0;32m      4\u001b[0m \u001b[43m                    \u001b[49m\u001b[43mvalidation_data\u001b[49m\u001b[38;5;241;43m=\u001b[39;49m\u001b[43mvalid_set\u001b[49m\u001b[43m,\u001b[49m\n\u001b[0;32m      5\u001b[0m \u001b[43m                    \u001b[49m\u001b[43mvalidation_steps\u001b[49m\u001b[38;5;241;43m=\u001b[39;49m\u001b[38;5;28;43mint\u001b[39;49m\u001b[43m(\u001b[49m\u001b[43mvalid_size\u001b[49m\u001b[43m \u001b[49m\u001b[38;5;241;43m/\u001b[39;49m\u001b[43m \u001b[49m\u001b[43mbatch_size\u001b[49m\u001b[43m)\u001b[49m\u001b[43m,\u001b[49m\u001b[43m \u001b[49m\n\u001b[0;32m      6\u001b[0m \u001b[43m                    \u001b[49m\u001b[43mepochs\u001b[49m\u001b[38;5;241;43m=\u001b[39;49m\u001b[38;5;241;43m1000\u001b[39;49m\u001b[43m,\u001b[49m\n\u001b[0;32m      7\u001b[0m \u001b[43m                    \u001b[49m\u001b[43mcallbacks\u001b[49m\u001b[38;5;241;43m=\u001b[39;49m\u001b[43m[\u001b[49m\u001b[43mearly_stopping_BRN50\u001b[49m\u001b[43m,\u001b[49m\u001b[43m \u001b[49m\u001b[43mcheckpoint_callback_BRN50\u001b[49m\u001b[43m,\u001b[49m\u001b[43mlr_scheduler\u001b[49m\u001b[43m]\u001b[49m\u001b[43m)\u001b[49m\n",
      "File \u001b[1;32m~\\AppData\\Roaming\\Python\\Python39\\site-packages\\keras\\utils\\traceback_utils.py:65\u001b[0m, in \u001b[0;36mfilter_traceback.<locals>.error_handler\u001b[1;34m(*args, **kwargs)\u001b[0m\n\u001b[0;32m     63\u001b[0m filtered_tb \u001b[38;5;241m=\u001b[39m \u001b[38;5;28;01mNone\u001b[39;00m\n\u001b[0;32m     64\u001b[0m \u001b[38;5;28;01mtry\u001b[39;00m:\n\u001b[1;32m---> 65\u001b[0m     \u001b[38;5;28;01mreturn\u001b[39;00m fn(\u001b[38;5;241m*\u001b[39margs, \u001b[38;5;241m*\u001b[39m\u001b[38;5;241m*\u001b[39mkwargs)\n\u001b[0;32m     66\u001b[0m \u001b[38;5;28;01mexcept\u001b[39;00m \u001b[38;5;167;01mException\u001b[39;00m \u001b[38;5;28;01mas\u001b[39;00m e:\n\u001b[0;32m     67\u001b[0m     filtered_tb \u001b[38;5;241m=\u001b[39m _process_traceback_frames(e\u001b[38;5;241m.\u001b[39m__traceback__)\n",
      "File \u001b[1;32m~\\AppData\\Roaming\\Python\\Python39\\site-packages\\keras\\engine\\training.py:1564\u001b[0m, in \u001b[0;36mModel.fit\u001b[1;34m(self, x, y, batch_size, epochs, verbose, callbacks, validation_split, validation_data, shuffle, class_weight, sample_weight, initial_epoch, steps_per_epoch, validation_steps, validation_batch_size, validation_freq, max_queue_size, workers, use_multiprocessing)\u001b[0m\n\u001b[0;32m   1556\u001b[0m \u001b[38;5;28;01mwith\u001b[39;00m tf\u001b[38;5;241m.\u001b[39mprofiler\u001b[38;5;241m.\u001b[39mexperimental\u001b[38;5;241m.\u001b[39mTrace(\n\u001b[0;32m   1557\u001b[0m     \u001b[38;5;124m\"\u001b[39m\u001b[38;5;124mtrain\u001b[39m\u001b[38;5;124m\"\u001b[39m,\n\u001b[0;32m   1558\u001b[0m     epoch_num\u001b[38;5;241m=\u001b[39mepoch,\n\u001b[1;32m   (...)\u001b[0m\n\u001b[0;32m   1561\u001b[0m     _r\u001b[38;5;241m=\u001b[39m\u001b[38;5;241m1\u001b[39m,\n\u001b[0;32m   1562\u001b[0m ):\n\u001b[0;32m   1563\u001b[0m     callbacks\u001b[38;5;241m.\u001b[39mon_train_batch_begin(step)\n\u001b[1;32m-> 1564\u001b[0m     tmp_logs \u001b[38;5;241m=\u001b[39m \u001b[38;5;28;43mself\u001b[39;49m\u001b[38;5;241;43m.\u001b[39;49m\u001b[43mtrain_function\u001b[49m\u001b[43m(\u001b[49m\u001b[43miterator\u001b[49m\u001b[43m)\u001b[49m\n\u001b[0;32m   1565\u001b[0m     \u001b[38;5;28;01mif\u001b[39;00m data_handler\u001b[38;5;241m.\u001b[39mshould_sync:\n\u001b[0;32m   1566\u001b[0m         context\u001b[38;5;241m.\u001b[39masync_wait()\n",
      "File \u001b[1;32m~\\AppData\\Roaming\\Python\\Python39\\site-packages\\tensorflow\\python\\util\\traceback_utils.py:150\u001b[0m, in \u001b[0;36mfilter_traceback.<locals>.error_handler\u001b[1;34m(*args, **kwargs)\u001b[0m\n\u001b[0;32m    148\u001b[0m filtered_tb \u001b[38;5;241m=\u001b[39m \u001b[38;5;28;01mNone\u001b[39;00m\n\u001b[0;32m    149\u001b[0m \u001b[38;5;28;01mtry\u001b[39;00m:\n\u001b[1;32m--> 150\u001b[0m   \u001b[38;5;28;01mreturn\u001b[39;00m fn(\u001b[38;5;241m*\u001b[39margs, \u001b[38;5;241m*\u001b[39m\u001b[38;5;241m*\u001b[39mkwargs)\n\u001b[0;32m    151\u001b[0m \u001b[38;5;28;01mexcept\u001b[39;00m \u001b[38;5;167;01mException\u001b[39;00m \u001b[38;5;28;01mas\u001b[39;00m e:\n\u001b[0;32m    152\u001b[0m   filtered_tb \u001b[38;5;241m=\u001b[39m _process_traceback_frames(e\u001b[38;5;241m.\u001b[39m__traceback__)\n",
      "File \u001b[1;32m~\\AppData\\Roaming\\Python\\Python39\\site-packages\\tensorflow\\python\\eager\\def_function.py:915\u001b[0m, in \u001b[0;36mFunction.__call__\u001b[1;34m(self, *args, **kwds)\u001b[0m\n\u001b[0;32m    912\u001b[0m compiler \u001b[38;5;241m=\u001b[39m \u001b[38;5;124m\"\u001b[39m\u001b[38;5;124mxla\u001b[39m\u001b[38;5;124m\"\u001b[39m \u001b[38;5;28;01mif\u001b[39;00m \u001b[38;5;28mself\u001b[39m\u001b[38;5;241m.\u001b[39m_jit_compile \u001b[38;5;28;01melse\u001b[39;00m \u001b[38;5;124m\"\u001b[39m\u001b[38;5;124mnonXla\u001b[39m\u001b[38;5;124m\"\u001b[39m\n\u001b[0;32m    914\u001b[0m \u001b[38;5;28;01mwith\u001b[39;00m OptionalXlaContext(\u001b[38;5;28mself\u001b[39m\u001b[38;5;241m.\u001b[39m_jit_compile):\n\u001b[1;32m--> 915\u001b[0m   result \u001b[38;5;241m=\u001b[39m \u001b[38;5;28mself\u001b[39m\u001b[38;5;241m.\u001b[39m_call(\u001b[38;5;241m*\u001b[39margs, \u001b[38;5;241m*\u001b[39m\u001b[38;5;241m*\u001b[39mkwds)\n\u001b[0;32m    917\u001b[0m new_tracing_count \u001b[38;5;241m=\u001b[39m \u001b[38;5;28mself\u001b[39m\u001b[38;5;241m.\u001b[39mexperimental_get_tracing_count()\n\u001b[0;32m    918\u001b[0m without_tracing \u001b[38;5;241m=\u001b[39m (tracing_count \u001b[38;5;241m==\u001b[39m new_tracing_count)\n",
      "File \u001b[1;32m~\\AppData\\Roaming\\Python\\Python39\\site-packages\\tensorflow\\python\\eager\\def_function.py:947\u001b[0m, in \u001b[0;36mFunction._call\u001b[1;34m(self, *args, **kwds)\u001b[0m\n\u001b[0;32m    944\u001b[0m   \u001b[38;5;28mself\u001b[39m\u001b[38;5;241m.\u001b[39m_lock\u001b[38;5;241m.\u001b[39mrelease()\n\u001b[0;32m    945\u001b[0m   \u001b[38;5;66;03m# In this case we have created variables on the first call, so we run the\u001b[39;00m\n\u001b[0;32m    946\u001b[0m   \u001b[38;5;66;03m# defunned version which is guaranteed to never create variables.\u001b[39;00m\n\u001b[1;32m--> 947\u001b[0m   \u001b[38;5;28;01mreturn\u001b[39;00m \u001b[38;5;28mself\u001b[39m\u001b[38;5;241m.\u001b[39m_stateless_fn(\u001b[38;5;241m*\u001b[39margs, \u001b[38;5;241m*\u001b[39m\u001b[38;5;241m*\u001b[39mkwds)  \u001b[38;5;66;03m# pylint: disable=not-callable\u001b[39;00m\n\u001b[0;32m    948\u001b[0m \u001b[38;5;28;01melif\u001b[39;00m \u001b[38;5;28mself\u001b[39m\u001b[38;5;241m.\u001b[39m_stateful_fn \u001b[38;5;129;01mis\u001b[39;00m \u001b[38;5;129;01mnot\u001b[39;00m \u001b[38;5;28;01mNone\u001b[39;00m:\n\u001b[0;32m    949\u001b[0m   \u001b[38;5;66;03m# Release the lock early so that multiple threads can perform the call\u001b[39;00m\n\u001b[0;32m    950\u001b[0m   \u001b[38;5;66;03m# in parallel.\u001b[39;00m\n\u001b[0;32m    951\u001b[0m   \u001b[38;5;28mself\u001b[39m\u001b[38;5;241m.\u001b[39m_lock\u001b[38;5;241m.\u001b[39mrelease()\n",
      "File \u001b[1;32m~\\AppData\\Roaming\\Python\\Python39\\site-packages\\tensorflow\\python\\eager\\function.py:2496\u001b[0m, in \u001b[0;36mFunction.__call__\u001b[1;34m(self, *args, **kwargs)\u001b[0m\n\u001b[0;32m   2493\u001b[0m \u001b[38;5;28;01mwith\u001b[39;00m \u001b[38;5;28mself\u001b[39m\u001b[38;5;241m.\u001b[39m_lock:\n\u001b[0;32m   2494\u001b[0m   (graph_function,\n\u001b[0;32m   2495\u001b[0m    filtered_flat_args) \u001b[38;5;241m=\u001b[39m \u001b[38;5;28mself\u001b[39m\u001b[38;5;241m.\u001b[39m_maybe_define_function(args, kwargs)\n\u001b[1;32m-> 2496\u001b[0m \u001b[38;5;28;01mreturn\u001b[39;00m \u001b[43mgraph_function\u001b[49m\u001b[38;5;241;43m.\u001b[39;49m\u001b[43m_call_flat\u001b[49m\u001b[43m(\u001b[49m\n\u001b[0;32m   2497\u001b[0m \u001b[43m    \u001b[49m\u001b[43mfiltered_flat_args\u001b[49m\u001b[43m,\u001b[49m\u001b[43m \u001b[49m\u001b[43mcaptured_inputs\u001b[49m\u001b[38;5;241;43m=\u001b[39;49m\u001b[43mgraph_function\u001b[49m\u001b[38;5;241;43m.\u001b[39;49m\u001b[43mcaptured_inputs\u001b[49m\u001b[43m)\u001b[49m\n",
      "File \u001b[1;32m~\\AppData\\Roaming\\Python\\Python39\\site-packages\\tensorflow\\python\\eager\\function.py:1862\u001b[0m, in \u001b[0;36mConcreteFunction._call_flat\u001b[1;34m(self, args, captured_inputs, cancellation_manager)\u001b[0m\n\u001b[0;32m   1858\u001b[0m possible_gradient_type \u001b[38;5;241m=\u001b[39m gradients_util\u001b[38;5;241m.\u001b[39mPossibleTapeGradientTypes(args)\n\u001b[0;32m   1859\u001b[0m \u001b[38;5;28;01mif\u001b[39;00m (possible_gradient_type \u001b[38;5;241m==\u001b[39m gradients_util\u001b[38;5;241m.\u001b[39mPOSSIBLE_GRADIENT_TYPES_NONE\n\u001b[0;32m   1860\u001b[0m     \u001b[38;5;129;01mand\u001b[39;00m executing_eagerly):\n\u001b[0;32m   1861\u001b[0m   \u001b[38;5;66;03m# No tape is watching; skip to running the function.\u001b[39;00m\n\u001b[1;32m-> 1862\u001b[0m   \u001b[38;5;28;01mreturn\u001b[39;00m \u001b[38;5;28mself\u001b[39m\u001b[38;5;241m.\u001b[39m_build_call_outputs(\u001b[38;5;28;43mself\u001b[39;49m\u001b[38;5;241;43m.\u001b[39;49m\u001b[43m_inference_function\u001b[49m\u001b[38;5;241;43m.\u001b[39;49m\u001b[43mcall\u001b[49m\u001b[43m(\u001b[49m\n\u001b[0;32m   1863\u001b[0m \u001b[43m      \u001b[49m\u001b[43mctx\u001b[49m\u001b[43m,\u001b[49m\u001b[43m \u001b[49m\u001b[43margs\u001b[49m\u001b[43m,\u001b[49m\u001b[43m \u001b[49m\u001b[43mcancellation_manager\u001b[49m\u001b[38;5;241;43m=\u001b[39;49m\u001b[43mcancellation_manager\u001b[49m\u001b[43m)\u001b[49m)\n\u001b[0;32m   1864\u001b[0m forward_backward \u001b[38;5;241m=\u001b[39m \u001b[38;5;28mself\u001b[39m\u001b[38;5;241m.\u001b[39m_select_forward_and_backward_functions(\n\u001b[0;32m   1865\u001b[0m     args,\n\u001b[0;32m   1866\u001b[0m     possible_gradient_type,\n\u001b[0;32m   1867\u001b[0m     executing_eagerly)\n\u001b[0;32m   1868\u001b[0m forward_function, args_with_tangents \u001b[38;5;241m=\u001b[39m forward_backward\u001b[38;5;241m.\u001b[39mforward()\n",
      "File \u001b[1;32m~\\AppData\\Roaming\\Python\\Python39\\site-packages\\tensorflow\\python\\eager\\function.py:499\u001b[0m, in \u001b[0;36m_EagerDefinedFunction.call\u001b[1;34m(self, ctx, args, cancellation_manager)\u001b[0m\n\u001b[0;32m    497\u001b[0m \u001b[38;5;28;01mwith\u001b[39;00m _InterpolateFunctionError(\u001b[38;5;28mself\u001b[39m):\n\u001b[0;32m    498\u001b[0m   \u001b[38;5;28;01mif\u001b[39;00m cancellation_manager \u001b[38;5;129;01mis\u001b[39;00m \u001b[38;5;28;01mNone\u001b[39;00m:\n\u001b[1;32m--> 499\u001b[0m     outputs \u001b[38;5;241m=\u001b[39m \u001b[43mexecute\u001b[49m\u001b[38;5;241;43m.\u001b[39;49m\u001b[43mexecute\u001b[49m\u001b[43m(\u001b[49m\n\u001b[0;32m    500\u001b[0m \u001b[43m        \u001b[49m\u001b[38;5;28;43mstr\u001b[39;49m\u001b[43m(\u001b[49m\u001b[38;5;28;43mself\u001b[39;49m\u001b[38;5;241;43m.\u001b[39;49m\u001b[43msignature\u001b[49m\u001b[38;5;241;43m.\u001b[39;49m\u001b[43mname\u001b[49m\u001b[43m)\u001b[49m\u001b[43m,\u001b[49m\n\u001b[0;32m    501\u001b[0m \u001b[43m        \u001b[49m\u001b[43mnum_outputs\u001b[49m\u001b[38;5;241;43m=\u001b[39;49m\u001b[38;5;28;43mself\u001b[39;49m\u001b[38;5;241;43m.\u001b[39;49m\u001b[43m_num_outputs\u001b[49m\u001b[43m,\u001b[49m\n\u001b[0;32m    502\u001b[0m \u001b[43m        \u001b[49m\u001b[43minputs\u001b[49m\u001b[38;5;241;43m=\u001b[39;49m\u001b[43margs\u001b[49m\u001b[43m,\u001b[49m\n\u001b[0;32m    503\u001b[0m \u001b[43m        \u001b[49m\u001b[43mattrs\u001b[49m\u001b[38;5;241;43m=\u001b[39;49m\u001b[43mattrs\u001b[49m\u001b[43m,\u001b[49m\n\u001b[0;32m    504\u001b[0m \u001b[43m        \u001b[49m\u001b[43mctx\u001b[49m\u001b[38;5;241;43m=\u001b[39;49m\u001b[43mctx\u001b[49m\u001b[43m)\u001b[49m\n\u001b[0;32m    505\u001b[0m   \u001b[38;5;28;01melse\u001b[39;00m:\n\u001b[0;32m    506\u001b[0m     outputs \u001b[38;5;241m=\u001b[39m execute\u001b[38;5;241m.\u001b[39mexecute_with_cancellation(\n\u001b[0;32m    507\u001b[0m         \u001b[38;5;28mstr\u001b[39m(\u001b[38;5;28mself\u001b[39m\u001b[38;5;241m.\u001b[39msignature\u001b[38;5;241m.\u001b[39mname),\n\u001b[0;32m    508\u001b[0m         num_outputs\u001b[38;5;241m=\u001b[39m\u001b[38;5;28mself\u001b[39m\u001b[38;5;241m.\u001b[39m_num_outputs,\n\u001b[1;32m   (...)\u001b[0m\n\u001b[0;32m    511\u001b[0m         ctx\u001b[38;5;241m=\u001b[39mctx,\n\u001b[0;32m    512\u001b[0m         cancellation_manager\u001b[38;5;241m=\u001b[39mcancellation_manager)\n",
      "File \u001b[1;32m~\\AppData\\Roaming\\Python\\Python39\\site-packages\\tensorflow\\python\\eager\\execute.py:54\u001b[0m, in \u001b[0;36mquick_execute\u001b[1;34m(op_name, num_outputs, inputs, attrs, ctx, name)\u001b[0m\n\u001b[0;32m     52\u001b[0m \u001b[38;5;28;01mtry\u001b[39;00m:\n\u001b[0;32m     53\u001b[0m   ctx\u001b[38;5;241m.\u001b[39mensure_initialized()\n\u001b[1;32m---> 54\u001b[0m   tensors \u001b[38;5;241m=\u001b[39m \u001b[43mpywrap_tfe\u001b[49m\u001b[38;5;241;43m.\u001b[39;49m\u001b[43mTFE_Py_Execute\u001b[49m\u001b[43m(\u001b[49m\u001b[43mctx\u001b[49m\u001b[38;5;241;43m.\u001b[39;49m\u001b[43m_handle\u001b[49m\u001b[43m,\u001b[49m\u001b[43m \u001b[49m\u001b[43mdevice_name\u001b[49m\u001b[43m,\u001b[49m\u001b[43m \u001b[49m\u001b[43mop_name\u001b[49m\u001b[43m,\u001b[49m\n\u001b[0;32m     55\u001b[0m \u001b[43m                                      \u001b[49m\u001b[43minputs\u001b[49m\u001b[43m,\u001b[49m\u001b[43m \u001b[49m\u001b[43mattrs\u001b[49m\u001b[43m,\u001b[49m\u001b[43m \u001b[49m\u001b[43mnum_outputs\u001b[49m\u001b[43m)\u001b[49m\n\u001b[0;32m     56\u001b[0m \u001b[38;5;28;01mexcept\u001b[39;00m core\u001b[38;5;241m.\u001b[39m_NotOkStatusException \u001b[38;5;28;01mas\u001b[39;00m e:\n\u001b[0;32m     57\u001b[0m   \u001b[38;5;28;01mif\u001b[39;00m name \u001b[38;5;129;01mis\u001b[39;00m \u001b[38;5;129;01mnot\u001b[39;00m \u001b[38;5;28;01mNone\u001b[39;00m:\n",
      "\u001b[1;31mKeyboardInterrupt\u001b[0m: "
     ]
    }
   ],
   "source": [
    "model.compile(optimizer=optimizer, loss='sparse_categorical_crossentropy', metrics=['accuracy'],)\n",
    "history=model.fit(train_set, batch_size = batch_size,\n",
    "                    steps_per_epoch=int(train_size / batch_size),\n",
    "                    validation_data=valid_set,\n",
    "                    validation_steps=int(valid_size / batch_size), \n",
    "                    epochs=1000,\n",
    "                    callbacks=[early_stopping_BRN50, checkpoint_callback_BRN50,lr_scheduler])"
   ]
  },
  {
   "cell_type": "code",
   "execution_count": 34,
   "id": "1607196c",
   "metadata": {},
   "outputs": [
    {
     "data": {
      "text/plain": [
       "<AxesSubplot: >"
      ]
     },
     "execution_count": 34,
     "metadata": {},
     "output_type": "execute_result"
    },
    {
     "data": {
      "image/png": "[encoded data removed]",
      "text/plain": [
       "<Figure size 432x288 with 1 Axes>"
      ]
     },
     "metadata": {
      "needs_background": "light"
     },
     "output_type": "display_data"
    }
   ],
   "source": [
    "pd.DataFrame(history.history).plot()"
   ]
  },
  {
   "cell_type": "code",
   "execution_count": null,
   "id": "23db3f1a",
   "metadata": {},
   "outputs": [],
   "source": []
  }
 ],
 "metadata": {
  "kernelspec": {
   "display_name": "Python 3 (ipykernel)",
   "language": "python",
   "name": "python3"
  },
  "language_info": {
   "codemirror_mode": {
    "name": "ipython",
    "version": 3
   },
   "file_extension": ".py",
   "mimetype": "text/x-python",
   "name": "python",
   "nbconvert_exporter": "python",
   "pygments_lexer": "ipython3",
   "version": "3.11.3"
  }
 },
 "nbformat": 4,
 "nbformat_minor": 5
}
