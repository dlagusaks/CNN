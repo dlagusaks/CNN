{
 "cells": [
  {
   "cell_type": "code",
   "execution_count": 1,
   "id": "5cf8e9c4",
   "metadata": {},
   "outputs": [
    {
     "name": "stdout",
     "output_type": "stream",
     "text": [
      "sklearn version:  1.2.2\n"
     ]
    },
    {
     "name": "stderr",
     "output_type": "stream",
     "text": [
      "C:\\Users\\LG\\anaconda3\\envs\\add\\Lib\\site-packages\\tensorflow_addons\\utils\\tfa_eol_msg.py:23: UserWarning: \n",
      "\n",
      "TensorFlow Addons (TFA) has ended development and introduction of new features.\n",
      "TFA has entered a minimal maintenance and release mode until a planned end of life in May 2024.\n",
      "Please modify downstream libraries to take dependencies from other repositories in our TensorFlow community (e.g. Keras, Keras-CV, and Keras-NLP). \n",
      "\n",
      "For more information see: https://github.com/tensorflow/addons/issues/2807 \n",
      "\n",
      "  warnings.warn(\n"
     ]
    },
    {
     "name": "stdout",
     "output_type": "stream",
     "text": [
      "TF version:  2.12.0\n",
      "No GPU was detected. CNNs can be very slow without a GPU.\n",
      "GPU installed:  False\n"
     ]
    }
   ],
   "source": [
    "# Python ≥3.5 is required\n",
    "import sys\n",
    "assert sys.version_info >= (3, 5)\n",
    "\n",
    "# Scikit-Learn ≥0.20 is required\n",
    "import sklearn\n",
    "print(\"sklearn version: \", sklearn.__version__)\n",
    "assert sklearn.__version__ >= \"0.20\"\n",
    "\n",
    "try:\n",
    "    # %tensorflow_version only exists in Colab.\n",
    "    %tensorflow_version 2.x\n",
    "    IS_COLAB = True\n",
    "except Exception:\n",
    "    IS_COLAB = False\n",
    "\n",
    "# TensorFlow ≥2.0 is required\n",
    "import tensorflow as tf\n",
    "import tensorflow_addons as tfa\n",
    "from tensorflow import keras\n",
    "print(\"TF version: \", tf.__version__)\n",
    "assert tf.__version__ >= \"2.0\"\n",
    "\n",
    "if not tf.config.list_physical_devices('GPU'):\n",
    "    print(\"No GPU was detected. CNNs can be very slow without a GPU.\")\n",
    "    if IS_COLAB:\n",
    "        print(\"Go to Runtime > Change runtime and select a GPU hardware accelerator.\")\n",
    "\n",
    "# GPU test\n",
    "print(\"GPU installed: \",tf.test.is_built_with_gpu_support())\n",
    "\n",
    "# To prevent \"CUDNN_STATUS_ALLOC_FAILED\" error with GPUs\n",
    "gpus = tf.config.experimental.list_physical_devices('GPU')\n",
    "if gpus:\n",
    "  try:\n",
    "    # Currently, memory growth needs to be the same across GPUs\n",
    "    for gpu in gpus:\n",
    "      tf.config.experimental.set_memory_growth(gpu, True)\n",
    "    logical_gpus = tf.config.experimental.list_logical_devices('GPU')\n",
    "    print(len(gpus), \"Physical GPUs,\", len(logical_gpus), \"Logical GPUs\")\n",
    "  except RuntimeError as e:\n",
    "    # Memory growth must be set before GPUs have been initialized\n",
    "    print(e)\n",
    "    \n",
    "# Common imports\n",
    "import numpy as np\n",
    "import os\n",
    "\n",
    "# to make this notebook's output stable across runs\n",
    "np.random.seed(42)\n",
    "tf.random.set_seed(42)\n",
    "\n",
    "# To plot pretty figures\n",
    "%matplotlib inline\n",
    "import matplotlib as mpl\n",
    "import matplotlib.pyplot as plt\n",
    "mpl.rc('axes', labelsize=14)\n",
    "mpl.rc('xtick', labelsize=12)\n",
    "mpl.rc('ytick', labelsize=12)\n"
   ]
  },
  {
   "cell_type": "code",
   "execution_count": 2,
   "id": "65b3e416",
   "metadata": {},
   "outputs": [],
   "source": [
    "import numpy as np\n",
    "import pandas as pd\n",
    "import tensorflow as tf\n",
    "from tensorflow import keras\n",
    "import tensorflow_datasets as tfds\n",
    "import matplotlib.pyplot as plt\n",
    "from sklearn.model_selection import train_test_split,StratifiedShuffleSplit\n",
    "from keras.callbacks import ModelCheckpoint, EarlyStopping, TensorBoard\n",
    "from keras.layers import BatchNormalization, GlobalAveragePooling2D, MaxPooling2D, Add,  Dense, Conv2D, Activation\n",
    "from keras.models import Sequential"
   ]
  },
  {
   "cell_type": "markdown",
   "id": "bac41be4",
   "metadata": {},
   "source": [
    "# 나. Dataset 분류: training/validation/test dataset으로 분배"
   ]
  },
  {
   "cell_type": "markdown",
   "id": "389189cb",
   "metadata": {},
   "source": [
    "### data load"
   ]
  },
  {
   "cell_type": "code",
   "execution_count": 30,
   "id": "e130cbf0",
   "metadata": {},
   "outputs": [],
   "source": [
    "X_train=pd.read_csv('emnist-byclass-train.csv',header=None)\n",
    "X_test=pd.read_csv('emnist-byclass-test.csv',header=None)"
   ]
  },
  {
   "cell_type": "code",
   "execution_count": 3,
   "id": "a5e5f2ee",
   "metadata": {},
   "outputs": [],
   "source": [
    "def data_split(data_type_train,split_ratio=0.1):\n",
    "    split = StratifiedShuffleSplit(n_splits=1, test_size=split_ratio, random_state=42)\n",
    "    for train_idx, test_idx in split.split(data_type_train, data_type_train[0]):\n",
    "        x_train = data_type_train.loc[train_idx]\n",
    "        x_valid = data_type_train.loc[test_idx]\n",
    "    return x_train,x_valid"
   ]
  },
  {
   "cell_type": "code",
   "execution_count": 4,
   "id": "f4927cb9",
   "metadata": {},
   "outputs": [],
   "source": [
    "def data_load(data_type_train,data_type_valid,data_type_test):\n",
    "    x_train =data_type_train.iloc[:, 1:].values\n",
    "    y_train = data_type_train.iloc[:, 0].values\n",
    "    x_valid =data_type_valid.iloc[:, 1:].values\n",
    "    y_valid = data_type_valid.iloc[:, 0].values\n",
    "    x_test = data_type_test.iloc[:, 1:].values\n",
    "    y_test = data_type_test.iloc[:, 0].values\n",
    "    x_train = x_train.reshape(x_train.shape[0], 28, 28, 1)\n",
    "    x_test = x_test.reshape(x_test.shape[0], 28, 28, 1)\n",
    "    return x_train,y_train,x_valid,y_valid,x_test,y_test"
   ]
  },
  {
   "cell_type": "markdown",
   "id": "c5359f05",
   "metadata": {},
   "source": [
    "### data split(train->train&valid)"
   ]
  },
  {
   "cell_type": "code",
   "execution_count": 33,
   "id": "c18de3b1",
   "metadata": {},
   "outputs": [],
   "source": [
    "X_train,X_valid=data_split(X_train,0.235)"
   ]
  },
  {
   "cell_type": "markdown",
   "id": "9f153ea4",
   "metadata": {},
   "source": [
    "### data split(785->1,784)\n",
    "### ie. split label & feature"
   ]
  },
  {
   "cell_type": "code",
   "execution_count": 35,
   "id": "66308599",
   "metadata": {},
   "outputs": [],
   "source": [
    "X_train,y_train,X_valid,y_valid,X_test,y_test=data_load(X_train,X_valid,X_test)"
   ]
  },
  {
   "cell_type": "markdown",
   "id": "d8ed3fe7",
   "metadata": {},
   "source": [
    "### npz 형태로 저장\n",
    "#### 실습하는 장소(혹은 pc)가 바뀌더라도 동일한 데이터로 사용가능 & 압축저장 가능"
   ]
  },
  {
   "cell_type": "code",
   "execution_count": 36,
   "id": "63d6b82e",
   "metadata": {},
   "outputs": [],
   "source": [
    "np.save('X_train',np.array(X_train,dtype=np.uint8))\n",
    "np.save('y_train',np.array(y_train,dtype=np.uint8))\n",
    "np.save('X_valid',np.array(X_valid,dtype=np.uint8))\n",
    "np.save('y_valid',np.array(y_valid,dtype=np.uint8))\n",
    "np.save('X_test',np.array(X_test,dtype=np.uint8))\n",
    "np.save('y_test',np.array(y_test,dtype=np.uint8))"
   ]
  },
  {
   "cell_type": "code",
   "execution_count": 5,
   "id": "dd9d7544",
   "metadata": {},
   "outputs": [],
   "source": [
    "import csv\n",
    "def load_Emist():\n",
    "    X_train=np.load('X_train.npy')\n",
    "    y_train=np.load('y_train.npy')\n",
    "    X_valid=np.load('X_valid.npy')\n",
    "    y_valid=np.load('y_valid.npy')\n",
    "    X_test=np.load('X_test.npy')\n",
    "    y_test=np.load('y_test.npy')\n",
    "    return X_train, y_train, X_valid, y_valid, X_test,y_test\n"
   ]
  },
  {
   "cell_type": "markdown",
   "id": "376c6aa1",
   "metadata": {},
   "source": [
    "### load data from npz. files"
   ]
  },
  {
   "cell_type": "code",
   "execution_count": 6,
   "id": "96e7a222",
   "metadata": {},
   "outputs": [
    {
     "data": {
      "text/plain": [
       "((533917, 28, 28, 1), dtype('uint8'))"
      ]
     },
     "execution_count": 6,
     "metadata": {},
     "output_type": "execute_result"
    }
   ],
   "source": [
    "X_train, y_train, X_valid, y_valid, X_test, y_test = load_Emist()\n",
    "X_train.shape,X_train.dtype"
   ]
  },
  {
   "cell_type": "markdown",
   "id": "7338c179",
   "metadata": {},
   "source": [
    "### tf.data.Dataset으로 만들기  \n",
    "#### 교제 13장 참고"
   ]
  },
  {
   "cell_type": "code",
   "execution_count": 7,
   "id": "deff3efe",
   "metadata": {},
   "outputs": [],
   "source": [
    "#data, batch size 성정\n",
    "train_size=len(X_train)\n",
    "valid_size=len(X_valid)\n",
    "batch_size=32"
   ]
  },
  {
   "cell_type": "code",
   "execution_count": 8,
   "id": "f6d52450",
   "metadata": {},
   "outputs": [],
   "source": [
    "X_train=np.reshape(X_train,[-1,784])\n",
    "X_valid=np.reshape(X_valid,[-1,784])"
   ]
  },
  {
   "cell_type": "code",
   "execution_count": 9,
   "id": "966754fe",
   "metadata": {},
   "outputs": [],
   "source": [
    "y_train=np.reshape(y_train,[-1,1])\n",
    "y_valid=np.reshape(y_valid,[-1,1])"
   ]
  },
  {
   "cell_type": "code",
   "execution_count": 10,
   "id": "813d51ce",
   "metadata": {},
   "outputs": [],
   "source": [
    "train_full = np.append(X_train,y_train,axis=1)\n",
    "valid_full = np.append(X_valid,y_valid,axis=1)"
   ]
  },
  {
   "cell_type": "code",
   "execution_count": 49,
   "id": "cbbf3347",
   "metadata": {},
   "outputs": [],
   "source": [
    "def save_to_multiple_csv_files(data, name_prefix, header=None, n_parts=10):\n",
    "    \n",
    "    Emnist_dir = os.path.join(\"datasets\", \"Emnist\")\n",
    "    os.makedirs(Emnist_dir, exist_ok=True)\n",
    "    path_format = os.path.join(Emnist_dir, \"my_{}_{:02d}.csv\")\n",
    "\n",
    "    filepaths = []\n",
    "    m = len(data)\n",
    "    for file_idx, row_indices in enumerate(np.array_split(np.arange(m), n_parts)):\n",
    "        part_csv = path_format.format(name_prefix, file_idx)\n",
    "        filepaths.append(part_csv)\n",
    "        try:\n",
    "            with open(part_csv, \"xt\", encoding=\"utf-8\") as f:\n",
    "                if header is not None:\n",
    "                    f.write(header)\n",
    "                    f.write(\"\\n\")\n",
    "                for row_idx in row_indices:\n",
    "                    f.write(\",\".join([repr(col) for col in data[row_idx]]))\n",
    "                    f.write(\"\\n\")\n",
    "        except:\n",
    "            continue\n",
    "    return filepaths"
   ]
  },
  {
   "cell_type": "code",
   "execution_count": 4,
   "id": "0ed313af",
   "metadata": {},
   "outputs": [],
   "source": [
    "train_filepaths = save_to_multiple_csv_files(train_full, \"train\")\n",
    "valid_filepaths = save_to_multiple_csv_files(valid_full, \"valid\")"
   ]
  },
  {
   "cell_type": "markdown",
   "id": "7d2c865f",
   "metadata": {},
   "source": [
    "### 각 모델에 맞는 preprocess 함수 정의 & tf.data.Dataset로 만들어 주기\n",
    "#### 나) 에서는 mobilenet.preprocess_input에 대한 preprocess만 나타내었으나 \n",
    "#### 이후 모델을 사용할때는 각 모델에 대해 맞게 바꿔서 사용하였다."
   ]
  },
  {
   "cell_type": "code",
   "execution_count": 12,
   "id": "24758eb7",
   "metadata": {},
   "outputs": [],
   "source": [
    "n_inputs = X_train.shape[-1]\n",
    "def preprocess(line):\n",
    "    defs = [0.] * n_inputs + [tf.constant([], dtype=tf.float32)]\n",
    "    fields = tf.io.decode_csv(line, record_defaults=defs)\n",
    "    x = tf.stack(fields[:-1])\n",
    "    x=tf.reshape(x,[28,28,1])\n",
    "    y = tf.stack(fields[-1:])\n",
    "    resized_image = tf.image.resize(x, [224, 224])\n",
    "    if resized_image.shape[2] == 1:\n",
    "        temp=tf.concat([resized_image,resized_image],2)\n",
    "        resized_image=tf.concat([temp,resized_image],2)\n",
    "    final_image = keras.applications.mobilenet.preprocess_input(resized_image)\n",
    "    \n",
    "    return final_image, y"
   ]
  },
  {
   "cell_type": "code",
   "execution_count": 13,
   "id": "abc4abd7",
   "metadata": {},
   "outputs": [],
   "source": [
    "def csv_reader_dataset(filepaths, repeat=1, n_readers=5,\n",
    "                       n_read_threads=None, shuffle_buffer_size=10000,\n",
    "                       n_parse_threads=5, batch_size=32):\n",
    "    dataset = tf.data.Dataset.list_files(filepaths).repeat(repeat)\n",
    "    dataset = dataset.interleave(\n",
    "        lambda filepath: tf.data.TextLineDataset(filepath).skip(1),\n",
    "        cycle_length=n_readers, num_parallel_calls=n_read_threads)\n",
    "    dataset = dataset.shuffle(shuffle_buffer_size)\n",
    "    dataset = dataset.map(preprocess, num_parallel_calls=n_parse_threads)\n",
    "    dataset = dataset.batch(batch_size)\n",
    "    return dataset.prefetch(1)"
   ]
  },
  {
   "cell_type": "code",
   "execution_count": 14,
   "id": "65d827ea",
   "metadata": {},
   "outputs": [],
   "source": [
    "train_set = csv_reader_dataset(train_filepaths,batch_size=batch_size, repeat=None)\n",
    "valid_set = csv_reader_dataset(valid_filepaths,batch_size=batch_size, repeat=None)"
   ]
  },
  {
   "cell_type": "code",
   "execution_count": null,
   "id": "e9ca874a",
   "metadata": {},
   "outputs": [],
   "source": []
  },
  {
   "cell_type": "code",
   "execution_count": null,
   "id": "37e54f83",
   "metadata": {},
   "outputs": [],
   "source": []
  },
  {
   "cell_type": "code",
   "execution_count": null,
   "id": "5a2cc308",
   "metadata": {},
   "outputs": [],
   "source": []
  },
  {
   "cell_type": "code",
   "execution_count": null,
   "id": "b970d19f",
   "metadata": {},
   "outputs": [],
   "source": []
  },
  {
   "cell_type": "code",
   "execution_count": null,
   "id": "e5288f98",
   "metadata": {},
   "outputs": [],
   "source": []
  },
  {
   "cell_type": "code",
   "execution_count": null,
   "id": "155b19e2",
   "metadata": {},
   "outputs": [],
   "source": []
  },
  {
   "cell_type": "code",
   "execution_count": null,
   "id": "dccde0ad",
   "metadata": {},
   "outputs": [],
   "source": []
  },
  {
   "cell_type": "code",
   "execution_count": null,
   "id": "d4be1dcf",
   "metadata": {},
   "outputs": [],
   "source": []
  },
  {
   "cell_type": "code",
   "execution_count": null,
   "id": "4acbdee7",
   "metadata": {},
   "outputs": [],
   "source": []
  },
  {
   "cell_type": "code",
   "execution_count": null,
   "id": "44825381",
   "metadata": {},
   "outputs": [],
   "source": []
  },
  {
   "cell_type": "code",
   "execution_count": null,
   "id": "39245a5a",
   "metadata": {},
   "outputs": [],
   "source": []
  }
 ],
 "metadata": {
  "kernelspec": {
   "display_name": "add",
   "language": "python",
   "name": "add"
  },
  "language_info": {
   "codemirror_mode": {
    "name": "ipython",
    "version": 3
   },
   "file_extension": ".py",
   "mimetype": "text/x-python",
   "name": "python",
   "nbconvert_exporter": "python",
   "pygments_lexer": "ipython3",
   "version": "3.11.3"
  }
 },
 "nbformat": 4,
 "nbformat_minor": 5
}
