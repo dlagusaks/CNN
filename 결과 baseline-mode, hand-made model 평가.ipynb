{
 "cells": [
  {
   "cell_type": "markdown",
   "id": "2a1950ce",
   "metadata": {},
   "source": [
    "## Hand Made model의 평가"
   ]
  },
  {
   "cell_type": "code",
   "execution_count": 1,
   "id": "4db4a22f",
   "metadata": {},
   "outputs": [
    {
     "name": "stdout",
     "output_type": "stream",
     "text": [
      "sklearn version:  1.2.0\n",
      "TF version:  2.10.1\n",
      "GPU installed:  True\n",
      "1 Physical GPUs, 1 Logical GPUs\n"
     ]
    }
   ],
   "source": [
    "# Python ≥3.5 is required\n",
    "import sys\n",
    "assert sys.version_info >= (3, 5)\n",
    "\n",
    "# Scikit-Learn ≥0.20 is required\n",
    "import sklearn\n",
    "print(\"sklearn version: \", sklearn.__version__)\n",
    "assert sklearn.__version__ >= \"0.20\"\n",
    "\n",
    "try:\n",
    "    # %tensorflow_version only exists in Colab.\n",
    "    %tensorflow_version 2.x\n",
    "    IS_COLAB = True\n",
    "except Exception:\n",
    "    IS_COLAB = False\n",
    "\n",
    "# TensorFlow ≥2.0 is required\n",
    "import tensorflow as tf\n",
    "import tensorflow_addons as tfa\n",
    "from tensorflow import keras\n",
    "print(\"TF version: \", tf.__version__)\n",
    "assert tf.__version__ >= \"2.0\"\n",
    "\n",
    "if not tf.config.list_physical_devices('GPU'):\n",
    "    print(\"No GPU was detected. CNNs can be very slow without a GPU.\")\n",
    "    if IS_COLAB:\n",
    "        print(\"Go to Runtime > Change runtime and select a GPU hardware accelerator.\")\n",
    "\n",
    "# GPU test\n",
    "print(\"GPU installed: \",tf.test.is_built_with_gpu_support())\n",
    "\n",
    "# To prevent \"CUDNN_STATUS_ALLOC_FAILED\" error with GPUs\n",
    "gpus = tf.config.experimental.list_physical_devices('GPU')\n",
    "if gpus:\n",
    "  try:\n",
    "    # Currently, memory growth needs to be the same across GPUs\n",
    "    for gpu in gpus:\n",
    "      tf.config.experimental.set_memory_growth(gpu, True)\n",
    "    logical_gpus = tf.config.experimental.list_logical_devices('GPU')\n",
    "    print(len(gpus), \"Physical GPUs,\", len(logical_gpus), \"Logical GPUs\")\n",
    "  except RuntimeError as e:\n",
    "    # Memory growth must be set before GPUs have been initialized\n",
    "    print(e)\n",
    "    \n",
    "# Common imports\n",
    "import numpy as np\n",
    "import os\n",
    "\n",
    "# to make this notebook's output stable across runs\n",
    "np.random.seed(42)\n",
    "tf.random.set_seed(42)\n",
    "\n",
    "# To plot pretty figures\n",
    "%matplotlib inline\n",
    "import matplotlib as mpl\n",
    "import matplotlib.pyplot as plt\n",
    "mpl.rc('axes', labelsize=14)\n",
    "mpl.rc('xtick', labelsize=12)\n",
    "mpl.rc('ytick', labelsize=12)\n"
   ]
  },
  {
   "cell_type": "code",
   "execution_count": 2,
   "id": "9b67e258",
   "metadata": {},
   "outputs": [],
   "source": [
    "import tensorflow as tf\n",
    "from tensorflow import keras\n",
    "from keras.layers import Dense, Conv2D, MaxPooling2D, Dropout, Flatten\n",
    "from keras.models import Sequential\n",
    "import numpy as np\n",
    "import pandas as pd\n",
    "import tensorflow as tf\n",
    "from tensorflow import keras\n",
    "import tensorflow_datasets as tfds\n",
    "import matplotlib.pyplot as plt\n",
    "from sklearn.model_selection import train_test_split\n",
    "from keras.callbacks import ModelCheckpoint, EarlyStopping\n",
    "from keras.layers import BatchNormalization, GlobalAveragePooling2D, MaxPooling2D, Add,  Dense, Conv2D, Activation\n",
    "from keras.models import Sequential"
   ]
  },
  {
   "cell_type": "code",
   "execution_count": 3,
   "id": "92d05a39",
   "metadata": {},
   "outputs": [],
   "source": [
    "model = Sequential()\n",
    "model.add(Conv2D(32, 5, padding='same', activation='relu', input_shape=[28,28,1]))\n",
    "model.add(BatchNormalization())\n",
    "model.add(Conv2D(64, 2, activation='relu', padding='same'))\n",
    "model.add(BatchNormalization())\n",
    "model.add(MaxPooling2D(2))\n",
    "\n",
    "model.add(Conv2D(128, 2, activation='relu', padding='same'))\n",
    "model.add(BatchNormalization())\n",
    "model.add(MaxPooling2D(2))\n",
    "model.add(Dropout(0.25))\n",
    "model.add(Flatten())\n",
    "\n",
    "model.add(Dense(1000, activation='relu'))\n",
    "model.add(BatchNormalization())\n",
    "model.add(Dropout(0.5))\n",
    "model.add(Dense(1000, activation='relu'))\n",
    "model.add(BatchNormalization())\n",
    "model.add(Dropout(0.5))\n",
    "model.add(Dense(62, activation='softmax'))"
   ]
  },
  {
   "cell_type": "code",
   "execution_count": 4,
   "id": "8ad76c1f",
   "metadata": {},
   "outputs": [],
   "source": [
    "import csv\n",
    "def load_Emist():\n",
    "    X_train=np.load('X_train.npy')\n",
    "    y_train=np.load('y_train.npy')\n",
    "    X_valid=np.load('X_valid.npy')\n",
    "    y_valid=np.load('y_valid.npy')\n",
    "    return X_train, y_train, X_valid, y_valid\n"
   ]
  },
  {
   "cell_type": "code",
   "execution_count": 6,
   "id": "c177a6c6",
   "metadata": {},
   "outputs": [
    {
     "data": {
      "text/plain": [
       "((533917, 28, 28), dtype('uint8'))"
      ]
     },
     "execution_count": 6,
     "metadata": {},
     "output_type": "execute_result"
    }
   ],
   "source": [
    "X_train, y_train, X_valid, y_valid = load_Emist()\n",
    "X_train.shape,X_train.dtype"
   ]
  },
  {
   "cell_type": "code",
   "execution_count": 7,
   "id": "f3bfce41",
   "metadata": {},
   "outputs": [],
   "source": [
    "#data, batch size 성정\n",
    "train_size=len(X_train)\n",
    "valid_size=len(X_valid)\n",
    "batch_size=32"
   ]
  },
  {
   "cell_type": "code",
   "execution_count": 8,
   "id": "3ac05f70",
   "metadata": {},
   "outputs": [],
   "source": [
    "X_train=np.reshape(X_train,[-1,784])\n",
    "X_valid=np.reshape(X_valid,[-1,784])"
   ]
  },
  {
   "cell_type": "code",
   "execution_count": 9,
   "id": "f5fa66de",
   "metadata": {},
   "outputs": [],
   "source": [
    "y_train=np.reshape(y_train,[-1,1])\n",
    "y_valid=np.reshape(y_valid,[-1,1])"
   ]
  },
  {
   "cell_type": "code",
   "execution_count": 10,
   "id": "76a3fb18",
   "metadata": {},
   "outputs": [],
   "source": [
    "train_full = np.append(X_train,y_train,axis=1)\n",
    "valid_full = np.append(X_valid,y_valid,axis=1)"
   ]
  },
  {
   "cell_type": "code",
   "execution_count": 11,
   "id": "ab0392f2",
   "metadata": {},
   "outputs": [],
   "source": [
    "def save_to_multiple_csv_files(data, name_prefix, header=None, n_parts=10):\n",
    "    \n",
    "    Emnist_dir = os.path.join(\"datasets\", \"Emnist\")\n",
    "    os.makedirs(Emnist_dir, exist_ok=True)\n",
    "    path_format = os.path.join(Emnist_dir, \"my_{}_{:03d}.csv\")\n",
    "\n",
    "    filepaths = []\n",
    "    m = len(data)\n",
    "    for file_idx, row_indices in enumerate(np.array_split(np.arange(m), n_parts)):\n",
    "        part_csv = path_format.format(name_prefix, file_idx)\n",
    "        filepaths.append(part_csv)\n",
    "        try:\n",
    "            with open(part_csv, \"xt\", encoding=\"utf-8\") as f:\n",
    "                if header is not None:\n",
    "                    f.write(header)\n",
    "                    f.write(\"\\n\")\n",
    "                for row_idx in row_indices:\n",
    "                    f.write(\",\".join([repr(col) for col in data[row_idx]]))\n",
    "                    f.write(\"\\n\")\n",
    "        except:\n",
    "            continue\n",
    "    return filepaths"
   ]
  },
  {
   "cell_type": "code",
   "execution_count": 12,
   "id": "fff6e358",
   "metadata": {},
   "outputs": [],
   "source": [
    "train_filepaths = save_to_multiple_csv_files(train_full, \"train\")\n",
    "valid_filepaths = save_to_multiple_csv_files(valid_full, \"valid\")"
   ]
  },
  {
   "cell_type": "code",
   "execution_count": 13,
   "id": "a4ef5fc5",
   "metadata": {},
   "outputs": [],
   "source": [
    "n_inputs = X_train.shape[-1]\n",
    "def preprocess_make(line):\n",
    "    defs = [0.] * n_inputs + [tf.constant([], dtype=tf.float32)]\n",
    "    fields = tf.io.decode_csv(line, record_defaults=defs)\n",
    "    x = tf.stack(fields[:-1])\n",
    "    x=tf.reshape(x,[28,28,1])\n",
    "    y = tf.stack(fields[-1:])\n",
    "    resized_image = x\n",
    "    final_image = resized_image/255.\n",
    "    return final_image, y"
   ]
  },
  {
   "cell_type": "code",
   "execution_count": 14,
   "id": "41d447d9",
   "metadata": {},
   "outputs": [],
   "source": [
    "def csv_reader_dataset(filepaths, repeat=1, n_readers=5,\n",
    "                       n_read_threads=None, shuffle_buffer_size=10000,\n",
    "                       n_parse_threads=5, batch_size=32):\n",
    "    dataset = tf.data.Dataset.list_files(filepaths).repeat(repeat)\n",
    "    dataset = dataset.interleave(\n",
    "        lambda filepath: tf.data.TextLineDataset(filepath).skip(1),\n",
    "        cycle_length=n_readers, num_parallel_calls=n_read_threads)\n",
    "    dataset = dataset.shuffle(shuffle_buffer_size)\n",
    "    dataset = dataset.map(preprocess_make, num_parallel_calls=n_parse_threads)\n",
    "    dataset = dataset.batch(batch_size)\n",
    "    return dataset.prefetch(1)"
   ]
  },
  {
   "cell_type": "code",
   "execution_count": 15,
   "id": "9d602988",
   "metadata": {},
   "outputs": [],
   "source": [
    "train_set = csv_reader_dataset(train_filepaths,batch_size=batch_size, repeat=None)\n",
    "valid_set = csv_reader_dataset(valid_filepaths,batch_size=batch_size, repeat=None)"
   ]
  },
  {
   "cell_type": "code",
   "execution_count": 16,
   "id": "df100eb6",
   "metadata": {},
   "outputs": [],
   "source": [
    "early_stopping_BRN50 = EarlyStopping(patience = 5)\n",
    "data_name=\"byclass\" \n",
    "type_name=\"make\"\n",
    "hypara=\"adam\"\n",
    "optimizer=tf.keras.optimizers.Adam()\n",
    "checkpoint_callback_BRN50 = ModelCheckpoint(data_name+\"_\"+type_name+\"_\"+hypara+'.h5', monitor='val_loss', verbose=1, save_best_only=True, mode='min')"
   ]
  },
  {
   "cell_type": "code",
   "execution_count": 17,
   "id": "605bab2c",
   "metadata": {},
   "outputs": [
    {
     "name": "stdout",
     "output_type": "stream",
     "text": [
      "Epoch 1/1000\n",
      "16683/16684 [============================>.] - ETA: 0s - loss: 0.6228 - accuracy: 0.7982\n",
      "Epoch 1: val_loss improved from inf to 0.40338, saving model to byclass_make_adam.h5\n",
      "16684/16684 [==============================] - 129s 8ms/step - loss: 0.6228 - accuracy: 0.7982 - val_loss: 0.4034 - val_accuracy: 0.8513 - lr: 0.0010\n",
      "Epoch 2/1000\n",
      "16678/16684 [============================>.] - ETA: 0s - loss: 0.4435 - accuracy: 0.8424\n",
      "Epoch 2: val_loss improved from 0.40338 to 0.37463, saving model to byclass_make_adam.h5\n",
      "16684/16684 [==============================] - 126s 8ms/step - loss: 0.4435 - accuracy: 0.8424 - val_loss: 0.3746 - val_accuracy: 0.8629 - lr: 0.0010\n",
      "Epoch 3/1000\n",
      "16679/16684 [============================>.] - ETA: 0s - loss: 0.4082 - accuracy: 0.8524\n",
      "Epoch 3: val_loss improved from 0.37463 to 0.35506, saving model to byclass_make_adam.h5\n",
      "16684/16684 [==============================] - 127s 8ms/step - loss: 0.4082 - accuracy: 0.8524 - val_loss: 0.3551 - val_accuracy: 0.8689 - lr: 0.0010\n",
      "Epoch 4/1000\n",
      "16684/16684 [==============================] - ETA: 0s - loss: 0.3899 - accuracy: 0.8580\n",
      "Epoch 4: val_loss improved from 0.35506 to 0.34976, saving model to byclass_make_adam.h5\n",
      "16684/16684 [==============================] - 127s 8ms/step - loss: 0.3899 - accuracy: 0.8580 - val_loss: 0.3498 - val_accuracy: 0.8701 - lr: 0.0010\n",
      "Epoch 5/1000\n",
      "16682/16684 [============================>.] - ETA: 0s - loss: 0.3778 - accuracy: 0.8611\n",
      "Epoch 5: val_loss improved from 0.34976 to 0.34547, saving model to byclass_make_adam.h5\n",
      "16684/16684 [==============================] - 127s 8ms/step - loss: 0.3777 - accuracy: 0.8611 - val_loss: 0.3455 - val_accuracy: 0.8693 - lr: 0.0010\n",
      "Epoch 6/1000\n",
      "16682/16684 [============================>.] - ETA: 0s - loss: 0.3693 - accuracy: 0.8644\n",
      "Epoch 6: val_loss improved from 0.34547 to 0.34008, saving model to byclass_make_adam.h5\n",
      "16684/16684 [==============================] - 127s 8ms/step - loss: 0.3693 - accuracy: 0.8644 - val_loss: 0.3401 - val_accuracy: 0.8726 - lr: 0.0010\n",
      "Epoch 7/1000\n",
      "16678/16684 [============================>.] - ETA: 0s - loss: 0.3617 - accuracy: 0.8662\n",
      "Epoch 7: val_loss improved from 0.34008 to 0.33906, saving model to byclass_make_adam.h5\n",
      "16684/16684 [==============================] - 127s 8ms/step - loss: 0.3617 - accuracy: 0.8662 - val_loss: 0.3391 - val_accuracy: 0.8744 - lr: 0.0010\n",
      "Epoch 8/1000\n",
      "16678/16684 [============================>.] - ETA: 0s - loss: 0.3547 - accuracy: 0.8684\n",
      "Epoch 8: val_loss did not improve from 0.33906\n",
      "16684/16684 [==============================] - 127s 8ms/step - loss: 0.3547 - accuracy: 0.8684 - val_loss: 0.3396 - val_accuracy: 0.8744 - lr: 0.0010\n",
      "Epoch 9/1000\n",
      "16681/16684 [============================>.] - ETA: 0s - loss: 0.3497 - accuracy: 0.8697\n",
      "Epoch 9: val_loss improved from 0.33906 to 0.33666, saving model to byclass_make_adam.h5\n",
      "16684/16684 [==============================] - 127s 8ms/step - loss: 0.3497 - accuracy: 0.8697 - val_loss: 0.3367 - val_accuracy: 0.8747 - lr: 0.0010\n",
      "Epoch 10/1000\n",
      "16681/16684 [============================>.] - ETA: 0s - loss: 0.3447 - accuracy: 0.8713\n",
      "Epoch 10: val_loss improved from 0.33666 to 0.33345, saving model to byclass_make_adam.h5\n",
      "16684/16684 [==============================] - 128s 8ms/step - loss: 0.3447 - accuracy: 0.8713 - val_loss: 0.3334 - val_accuracy: 0.8761 - lr: 0.0010\n",
      "Epoch 11/1000\n",
      "16684/16684 [==============================] - ETA: 0s - loss: 0.3411 - accuracy: 0.8725\n",
      "Epoch 11: val_loss did not improve from 0.33345\n",
      "16684/16684 [==============================] - 128s 8ms/step - loss: 0.3411 - accuracy: 0.8725 - val_loss: 0.3368 - val_accuracy: 0.8762 - lr: 0.0010\n",
      "Epoch 12/1000\n",
      "16680/16684 [============================>.] - ETA: 0s - loss: 0.3373 - accuracy: 0.8735\n",
      "Epoch 12: val_loss did not improve from 0.33345\n",
      "16684/16684 [==============================] - 128s 8ms/step - loss: 0.3373 - accuracy: 0.8735 - val_loss: 0.3345 - val_accuracy: 0.8766 - lr: 0.0010\n",
      "Epoch 13/1000\n",
      "16683/16684 [============================>.] - ETA: 0s - loss: 0.3321 - accuracy: 0.8753\n",
      "Epoch 13: val_loss improved from 0.33345 to 0.33143, saving model to byclass_make_adam.h5\n",
      "16684/16684 [==============================] - 128s 8ms/step - loss: 0.3321 - accuracy: 0.8753 - val_loss: 0.3314 - val_accuracy: 0.8777 - lr: 0.0010\n",
      "Epoch 14/1000\n",
      "16681/16684 [============================>.] - ETA: 0s - loss: 0.3296 - accuracy: 0.8755\n",
      "Epoch 14: val_loss improved from 0.33143 to 0.32900, saving model to byclass_make_adam.h5\n",
      "16684/16684 [==============================] - 129s 8ms/step - loss: 0.3296 - accuracy: 0.8755 - val_loss: 0.3290 - val_accuracy: 0.8781 - lr: 0.0010\n",
      "Epoch 15/1000\n",
      "16678/16684 [============================>.] - ETA: 0s - loss: 0.3266 - accuracy: 0.8763\n",
      "Epoch 15: val_loss did not improve from 0.32900\n",
      "16684/16684 [==============================] - 126s 8ms/step - loss: 0.3266 - accuracy: 0.8763 - val_loss: 0.3369 - val_accuracy: 0.8772 - lr: 0.0010\n",
      "Epoch 16/1000\n",
      "16683/16684 [============================>.] - ETA: 0s - loss: 0.3227 - accuracy: 0.8781\n",
      "Epoch 16: val_loss did not improve from 0.32900\n",
      "16684/16684 [==============================] - 124s 7ms/step - loss: 0.3227 - accuracy: 0.8781 - val_loss: 0.3332 - val_accuracy: 0.8785 - lr: 0.0010\n",
      "Epoch 17/1000\n",
      "16680/16684 [============================>.] - ETA: 0s - loss: 0.3199 - accuracy: 0.8784\n",
      "Epoch 17: val_loss did not improve from 0.32900\n",
      "16684/16684 [==============================] - 126s 8ms/step - loss: 0.3199 - accuracy: 0.8784 - val_loss: 0.3395 - val_accuracy: 0.8781 - lr: 0.0010\n",
      "Epoch 18/1000\n",
      "16681/16684 [============================>.] - ETA: 0s - loss: 0.3012 - accuracy: 0.8846\n",
      "Epoch 18: val_loss improved from 0.32900 to 0.32865, saving model to byclass_make_adam.h5\n",
      "16684/16684 [==============================] - 127s 8ms/step - loss: 0.3012 - accuracy: 0.8845 - val_loss: 0.3287 - val_accuracy: 0.8798 - lr: 5.0000e-04\n",
      "Epoch 19/1000\n",
      "16679/16684 [============================>.] - ETA: 0s - loss: 0.2952 - accuracy: 0.8860\n",
      "Epoch 19: val_loss did not improve from 0.32865\n",
      "16684/16684 [==============================] - 127s 8ms/step - loss: 0.2952 - accuracy: 0.8860 - val_loss: 0.3293 - val_accuracy: 0.8806 - lr: 5.0000e-04\n",
      "Epoch 20/1000\n",
      "16684/16684 [==============================] - ETA: 0s - loss: 0.2916 - accuracy: 0.8876\n",
      "Epoch 20: val_loss did not improve from 0.32865\n",
      "16684/16684 [==============================] - 128s 8ms/step - loss: 0.2916 - accuracy: 0.8876 - val_loss: 0.3303 - val_accuracy: 0.8801 - lr: 5.0000e-04\n",
      "Epoch 21/1000\n",
      "16679/16684 [============================>.] - ETA: 0s - loss: 0.2885 - accuracy: 0.8885\n",
      "Epoch 21: val_loss did not improve from 0.32865\n",
      "16684/16684 [==============================] - 127s 8ms/step - loss: 0.2885 - accuracy: 0.8885 - val_loss: 0.3315 - val_accuracy: 0.8799 - lr: 5.0000e-04\n",
      "Epoch 22/1000\n",
      "16678/16684 [============================>.] - ETA: 0s - loss: 0.2793 - accuracy: 0.8911\n",
      "Epoch 22: val_loss did not improve from 0.32865\n",
      "16684/16684 [==============================] - 128s 8ms/step - loss: 0.2793 - accuracy: 0.8911 - val_loss: 0.3311 - val_accuracy: 0.8807 - lr: 2.5000e-04\n",
      "Epoch 23/1000\n",
      "16682/16684 [============================>.] - ETA: 0s - loss: 0.2751 - accuracy: 0.8931\n",
      "Epoch 23: val_loss did not improve from 0.32865\n",
      "16684/16684 [==============================] - 128s 8ms/step - loss: 0.2750 - accuracy: 0.8931 - val_loss: 0.3314 - val_accuracy: 0.8804 - lr: 2.5000e-04\n"
     ]
    }
   ],
   "source": [
    "model.compile(optimizer=optimizer, loss='sparse_categorical_crossentropy', metrics=['accuracy'],)\n",
    "lr = keras.callbacks.ReduceLROnPlateau(factor=0.5,patience=3)\n",
    "history=model.fit(train_set, batch_size = batch_size,\n",
    "                    steps_per_epoch=int(train_size / batch_size),\n",
    "                    validation_data=valid_set,\n",
    "                    validation_steps=int(valid_size / batch_size), \n",
    "                    epochs=1000,\n",
    "                    callbacks=[early_stopping_BRN50, checkpoint_callback_BRN50,lr])"
   ]
  },
  {
   "cell_type": "code",
   "execution_count": 18,
   "id": "61544d7b",
   "metadata": {},
   "outputs": [
    {
     "data": {
      "text/plain": [
       "<AxesSubplot: >"
      ]
     },
     "execution_count": 18,
     "metadata": {},
     "output_type": "execute_result"
    },
    {
     "data": {
      "image/png": "[encoded data removed]",
      "text/plain": [
       "<Figure size 640x480 with 1 Axes>"
      ]
     },
     "metadata": {},
     "output_type": "display_data"
    }
   ],
   "source": [
    "pd.DataFrame(history.history).plot()"
   ]
  },
  {
   "cell_type": "code",
   "execution_count": 24,
   "id": "a26bd240",
   "metadata": {},
   "outputs": [
    {
     "name": "stdout",
     "output_type": "stream",
     "text": [
      "Epoch 1/1000\n",
      "16679/16684 [============================>.] - ETA: 0s - loss: 0.6135 - accuracy: 0.8004\n",
      "Epoch 1: val_loss did not improve from 0.32865\n",
      "16684/16684 [==============================] - 137s 8ms/step - loss: 0.6134 - accuracy: 0.8004 - val_loss: 0.3975 - val_accuracy: 0.8553 - lr: 0.0010\n",
      "Epoch 2/1000\n",
      "16682/16684 [============================>.] - ETA: 0s - loss: 0.4439 - accuracy: 0.8420\n",
      "Epoch 2: val_loss did not improve from 0.32865\n",
      "16684/16684 [==============================] - 136s 8ms/step - loss: 0.4439 - accuracy: 0.8420 - val_loss: 0.3726 - val_accuracy: 0.8620 - lr: 0.0010\n",
      "Epoch 3/1000\n",
      "16680/16684 [============================>.] - ETA: 0s - loss: 0.4122 - accuracy: 0.8513\n",
      "Epoch 3: val_loss did not improve from 0.32865\n",
      "16684/16684 [==============================] - 136s 8ms/step - loss: 0.4122 - accuracy: 0.8513 - val_loss: 0.3644 - val_accuracy: 0.8649 - lr: 0.0010\n",
      "Epoch 4/1000\n",
      "16683/16684 [============================>.] - ETA: 0s - loss: 0.3967 - accuracy: 0.8560\n",
      "Epoch 4: val_loss did not improve from 0.32865\n",
      "16684/16684 [==============================] - 136s 8ms/step - loss: 0.3967 - accuracy: 0.8561 - val_loss: 0.3614 - val_accuracy: 0.8642 - lr: 0.0010\n",
      "Epoch 5/1000\n",
      "16677/16684 [============================>.] - ETA: 0s - loss: 0.3878 - accuracy: 0.8585\n",
      "Epoch 5: val_loss did not improve from 0.32865\n",
      "16684/16684 [==============================] - 137s 8ms/step - loss: 0.3878 - accuracy: 0.8585 - val_loss: 0.3534 - val_accuracy: 0.8691 - lr: 0.0010\n",
      "Epoch 6/1000\n",
      "16679/16684 [============================>.] - ETA: 0s - loss: 0.3811 - accuracy: 0.8609\n",
      "Epoch 6: val_loss did not improve from 0.32865\n",
      "16684/16684 [==============================] - 136s 8ms/step - loss: 0.3811 - accuracy: 0.8609 - val_loss: 0.3499 - val_accuracy: 0.8702 - lr: 0.0010\n",
      "Epoch 7/1000\n",
      "16681/16684 [============================>.] - ETA: 0s - loss: 0.3761 - accuracy: 0.8616\n",
      "Epoch 7: val_loss did not improve from 0.32865\n",
      "16684/16684 [==============================] - 136s 8ms/step - loss: 0.3761 - accuracy: 0.8616 - val_loss: 0.3508 - val_accuracy: 0.8710 - lr: 0.0010\n",
      "Epoch 8/1000\n",
      "16681/16684 [============================>.] - ETA: 0s - loss: 0.3737 - accuracy: 0.8628\n",
      "Epoch 8: val_loss did not improve from 0.32865\n",
      "16684/16684 [==============================] - 136s 8ms/step - loss: 0.3738 - accuracy: 0.8628 - val_loss: 0.3510 - val_accuracy: 0.8704 - lr: 0.0010\n",
      "Epoch 9/1000\n",
      "16678/16684 [============================>.] - ETA: 0s - loss: 0.3709 - accuracy: 0.8636\n",
      "Epoch 9: val_loss did not improve from 0.32865\n",
      "16684/16684 [==============================] - 135s 8ms/step - loss: 0.3709 - accuracy: 0.8636 - val_loss: 0.3407 - val_accuracy: 0.8737 - lr: 0.0010\n",
      "Epoch 10/1000\n",
      "16683/16684 [============================>.] - ETA: 0s - loss: 0.3683 - accuracy: 0.8641\n",
      "Epoch 10: val_loss did not improve from 0.32865\n",
      "16684/16684 [==============================] - 136s 8ms/step - loss: 0.3683 - accuracy: 0.8641 - val_loss: 0.3498 - val_accuracy: 0.8728 - lr: 0.0010\n",
      "Epoch 11/1000\n",
      "16676/16684 [============================>.] - ETA: 0s - loss: 0.3667 - accuracy: 0.8653\n",
      "Epoch 11: val_loss did not improve from 0.32865\n",
      "16684/16684 [==============================] - 136s 8ms/step - loss: 0.3667 - accuracy: 0.8654 - val_loss: 0.3534 - val_accuracy: 0.8704 - lr: 0.0010\n",
      "Epoch 12/1000\n",
      "16683/16684 [============================>.] - ETA: 0s - loss: 0.3657 - accuracy: 0.8646\n",
      "Epoch 12: val_loss did not improve from 0.32865\n",
      "16684/16684 [==============================] - 136s 8ms/step - loss: 0.3657 - accuracy: 0.8646 - val_loss: 0.3478 - val_accuracy: 0.8697 - lr: 0.0010\n",
      "Epoch 13/1000\n",
      "16684/16684 [==============================] - ETA: 0s - loss: 0.3388 - accuracy: 0.8737\n",
      "Epoch 13: val_loss did not improve from 0.32865\n",
      "16684/16684 [==============================] - 135s 8ms/step - loss: 0.3388 - accuracy: 0.8737 - val_loss: 0.3316 - val_accuracy: 0.8754 - lr: 5.0000e-04\n",
      "Epoch 14/1000\n",
      "16683/16684 [============================>.] - ETA: 0s - loss: 0.3330 - accuracy: 0.8752\n",
      "Epoch 14: val_loss did not improve from 0.32865\n",
      "16684/16684 [==============================] - 136s 8ms/step - loss: 0.3330 - accuracy: 0.8752 - val_loss: 0.3301 - val_accuracy: 0.8767 - lr: 5.0000e-04\n",
      "Epoch 15/1000\n",
      "16682/16684 [============================>.] - ETA: 0s - loss: 0.3311 - accuracy: 0.8751\n",
      "Epoch 15: val_loss did not improve from 0.32865\n",
      "16684/16684 [==============================] - 135s 8ms/step - loss: 0.3311 - accuracy: 0.8751 - val_loss: 0.3344 - val_accuracy: 0.8766 - lr: 5.0000e-04\n",
      "Epoch 16/1000\n",
      "16683/16684 [============================>.] - ETA: 0s - loss: 0.3325 - accuracy: 0.8747\n",
      "Epoch 16: val_loss improved from 0.32865 to 0.32828, saving model to byclass_make_adam.h5\n",
      "16684/16684 [==============================] - 136s 8ms/step - loss: 0.3325 - accuracy: 0.8747 - val_loss: 0.3283 - val_accuracy: 0.8777 - lr: 5.0000e-04\n",
      "Epoch 17/1000\n",
      "16682/16684 [============================>.] - ETA: 0s - loss: 0.3337 - accuracy: 0.8745\n",
      "Epoch 17: val_loss did not improve from 0.32828\n",
      "16684/16684 [==============================] - 138s 8ms/step - loss: 0.3336 - accuracy: 0.8745 - val_loss: 0.3328 - val_accuracy: 0.8757 - lr: 5.0000e-04\n",
      "Epoch 18/1000\n",
      "16681/16684 [============================>.] - ETA: 0s - loss: 0.3347 - accuracy: 0.8742\n",
      "Epoch 18: val_loss did not improve from 0.32828\n",
      "16684/16684 [==============================] - 139s 8ms/step - loss: 0.3347 - accuracy: 0.8742 - val_loss: 0.3345 - val_accuracy: 0.8765 - lr: 5.0000e-04\n",
      "Epoch 19/1000\n",
      "16678/16684 [============================>.] - ETA: 0s - loss: 0.3372 - accuracy: 0.8734\n",
      "Epoch 19: val_loss did not improve from 0.32828\n",
      "16684/16684 [==============================] - 140s 8ms/step - loss: 0.3372 - accuracy: 0.8734 - val_loss: 0.3360 - val_accuracy: 0.8755 - lr: 5.0000e-04\n",
      "Epoch 20/1000\n",
      "16679/16684 [============================>.] - ETA: 0s - loss: 0.3164 - accuracy: 0.8803\n",
      "Epoch 20: val_loss improved from 0.32828 to 0.32482, saving model to byclass_make_adam.h5\n",
      "16684/16684 [==============================] - 139s 8ms/step - loss: 0.3164 - accuracy: 0.8803 - val_loss: 0.3248 - val_accuracy: 0.8791 - lr: 2.5000e-04\n",
      "Epoch 21/1000\n",
      "16682/16684 [============================>.] - ETA: 0s - loss: 0.3120 - accuracy: 0.8815\n",
      "Epoch 21: val_loss did not improve from 0.32482\n",
      "16684/16684 [==============================] - 137s 8ms/step - loss: 0.3120 - accuracy: 0.8815 - val_loss: 0.3298 - val_accuracy: 0.8786 - lr: 2.5000e-04\n",
      "Epoch 22/1000\n",
      "16684/16684 [==============================] - ETA: 0s - loss: 0.3113 - accuracy: 0.8817\n",
      "Epoch 22: val_loss did not improve from 0.32482\n",
      "16684/16684 [==============================] - 135s 8ms/step - loss: 0.3113 - accuracy: 0.8817 - val_loss: 0.3326 - val_accuracy: 0.8759 - lr: 2.5000e-04\n",
      "Epoch 23/1000\n",
      "16680/16684 [============================>.] - ETA: 0s - loss: 0.3125 - accuracy: 0.8810\n",
      "Epoch 23: val_loss did not improve from 0.32482\n",
      "16684/16684 [==============================] - 137s 8ms/step - loss: 0.3126 - accuracy: 0.8810 - val_loss: 0.3295 - val_accuracy: 0.8777 - lr: 2.5000e-04\n",
      "Epoch 24/1000\n",
      "16681/16684 [============================>.] - ETA: 0s - loss: 0.2976 - accuracy: 0.8864\n",
      "Epoch 24: val_loss did not improve from 0.32482\n",
      "16684/16684 [==============================] - 138s 8ms/step - loss: 0.2977 - accuracy: 0.8864 - val_loss: 0.3280 - val_accuracy: 0.8790 - lr: 1.2500e-04\n",
      "Epoch 25/1000\n",
      "16682/16684 [============================>.] - ETA: 0s - loss: 0.2934 - accuracy: 0.8880\n",
      "Epoch 25: val_loss did not improve from 0.32482\n",
      "16684/16684 [==============================] - 135s 8ms/step - loss: 0.2934 - accuracy: 0.8880 - val_loss: 0.3302 - val_accuracy: 0.8789 - lr: 1.2500e-04\n"
     ]
    }
   ],
   "source": [
    "model2 = Sequential()\n",
    "model2.add(Conv2D(32, 5, padding='same', activation='relu', input_shape=[28,28,1]))\n",
    "model2.add(BatchNormalization())\n",
    "model2.add(Conv2D(64, 2, activation='relu', padding='same'))\n",
    "model2.add(BatchNormalization())\n",
    "model2.add(MaxPooling2D(2))\n",
    "\n",
    "model2.add(Conv2D(128, 2, activation='relu', padding='same'))\n",
    "model2.add(BatchNormalization())\n",
    "model2.add(MaxPooling2D(2))\n",
    "model2.add(Dropout(0.25))\n",
    "model2.add(Flatten())\n",
    "\n",
    "model2.add(Dense(1000, activation='relu'))\n",
    "model2.add(BatchNormalization())\n",
    "model2.add(Dropout(0.5))\n",
    "model2.add(Dense(1000, activation='relu'))\n",
    "model2.add(BatchNormalization())\n",
    "model2.add(Dropout(0.5))\n",
    "model2.add(Dense(62, activation='softmax'))\n",
    "\n",
    "\n",
    "tf.keras.backend.clear_session()\n",
    "optimizer = tfa.optimizers.AdamW(weight_decay=1e-5, learning_rate=0.001,\n",
    "                                 beta_1=0.9, beta_2=0.999)\n",
    "model2.compile(optimizer=optimizer, loss='sparse_categorical_crossentropy', metrics=['accuracy'],)\n",
    "lr = keras.callbacks.ReduceLROnPlateau(factor=0.5,patience=3)\n",
    "history=model2.fit(train_set, batch_size = batch_size,\n",
    "                    steps_per_epoch=int(train_size / batch_size),\n",
    "                    validation_data=valid_set,\n",
    "                    validation_steps=int(valid_size / batch_size), \n",
    "                    epochs=1000,\n",
    "                    callbacks=[early_stopping_BRN50, checkpoint_callback_BRN50,lr])"
   ]
  },
  {
   "cell_type": "code",
   "execution_count": 25,
   "id": "03382c3d",
   "metadata": {},
   "outputs": [
    {
     "data": {
      "text/plain": [
       "<AxesSubplot: >"
      ]
     },
     "execution_count": 25,
     "metadata": {},
     "output_type": "execute_result"
    },
    {
     "data": {
      "image/png": "[encoded data removed]",
      "text/plain": [
       "<Figure size 640x480 with 1 Axes>"
      ]
     },
     "metadata": {},
     "output_type": "display_data"
    }
   ],
   "source": [
    "pd.DataFrame(history.history).plot()"
   ]
  },
  {
   "cell_type": "code",
   "execution_count": 26,
   "id": "8013bcb9",
   "metadata": {
    "scrolled": true
   },
   "outputs": [
    {
     "name": "stdout",
     "output_type": "stream",
     "text": [
      "Model: \"sequential\"\n",
      "_________________________________________________________________\n",
      " Layer (type)                Output Shape              Param #   \n",
      "=================================================================\n",
      " conv2d (Conv2D)             (None, 28, 28, 32)        832       \n",
      "                                                                 \n",
      " batch_normalization (BatchN  (None, 28, 28, 32)       128       \n",
      " ormalization)                                                   \n",
      "                                                                 \n",
      " conv2d_1 (Conv2D)           (None, 28, 28, 64)        8256      \n",
      "                                                                 \n",
      " batch_normalization_1 (Batc  (None, 28, 28, 64)       256       \n",
      " hNormalization)                                                 \n",
      "                                                                 \n",
      " max_pooling2d (MaxPooling2D  (None, 14, 14, 64)       0         \n",
      " )                                                               \n",
      "                                                                 \n",
      " conv2d_2 (Conv2D)           (None, 14, 14, 128)       32896     \n",
      "                                                                 \n",
      " batch_normalization_2 (Batc  (None, 14, 14, 128)      512       \n",
      " hNormalization)                                                 \n",
      "                                                                 \n",
      " max_pooling2d_1 (MaxPooling  (None, 7, 7, 128)        0         \n",
      " 2D)                                                             \n",
      "                                                                 \n",
      " dropout (Dropout)           (None, 7, 7, 128)         0         \n",
      "                                                                 \n",
      " flatten (Flatten)           (None, 6272)              0         \n",
      "                                                                 \n",
      " dense (Dense)               (None, 1000)              6273000   \n",
      "                                                                 \n",
      " batch_normalization_3 (Batc  (None, 1000)             4000      \n",
      " hNormalization)                                                 \n",
      "                                                                 \n",
      " dropout_1 (Dropout)         (None, 1000)              0         \n",
      "                                                                 \n",
      " dense_1 (Dense)             (None, 1000)              1001000   \n",
      "                                                                 \n",
      " batch_normalization_4 (Batc  (None, 1000)             4000      \n",
      " hNormalization)                                                 \n",
      "                                                                 \n",
      " dropout_2 (Dropout)         (None, 1000)              0         \n",
      "                                                                 \n",
      " dense_2 (Dense)             (None, 62)                62062     \n",
      "                                                                 \n",
      "=================================================================\n",
      "Total params: 7,386,942\n",
      "Trainable params: 7,382,494\n",
      "Non-trainable params: 4,448\n",
      "_________________________________________________________________\n"
     ]
    }
   ],
   "source": [
    "model.summary()"
   ]
  },
  {
   "cell_type": "code",
   "execution_count": 87,
   "id": "922efdf0",
   "metadata": {},
   "outputs": [],
   "source": [
    "x_train=pd.read_csv('emnist-byclass-train.csv',header=None)\n",
    "x_test=pd.read_csv('emnist-byclass-test.csv',header=None)\n",
    "\n",
    "def data_load(data_type_train,data_type_test):\n",
    "    x_train =data_type_train.iloc[:, 1:].values.astype('float32')\n",
    "    y_train = data_type_train.iloc[:, 0].values\n",
    "    x_test = data_type_test.iloc[:, 1:].values.astype('float32')\n",
    "    y_test = data_type_test.iloc[:, 0].values\n",
    "    x_train = x_train.reshape(x_train.shape[0], 28, 28)\n",
    "    x_test = x_test.reshape(x_test.shape[0], 28, 28)\n",
    "    return x_train,y_train,x_test,y_test\n",
    "\n",
    "x_train,y_train,x_test,y_test=data_load(x_train,x_test)"
   ]
  },
  {
   "cell_type": "code",
   "execution_count": 88,
   "id": "007c698b",
   "metadata": {},
   "outputs": [],
   "source": [
    "x_test=x_test.reshape(-1,28,28,1)"
   ]
  },
  {
   "cell_type": "code",
   "execution_count": 89,
   "id": "787cf41f",
   "metadata": {},
   "outputs": [
    {
     "data": {
      "text/plain": [
       "(116323, 28, 28, 1)"
      ]
     },
     "execution_count": 89,
     "metadata": {},
     "output_type": "execute_result"
    }
   ],
   "source": [
    "x_test.shape"
   ]
  },
  {
   "cell_type": "code",
   "execution_count": 90,
   "id": "b13a5d6e",
   "metadata": {},
   "outputs": [
    {
     "data": {
      "text/plain": [
       "(116323,)"
      ]
     },
     "execution_count": 90,
     "metadata": {},
     "output_type": "execute_result"
    }
   ],
   "source": [
    "y_test.shape"
   ]
  },
  {
   "cell_type": "code",
   "execution_count": 91,
   "id": "414514eb",
   "metadata": {},
   "outputs": [],
   "source": [
    "from sklearn.metrics import confusion_matrix"
   ]
  },
  {
   "cell_type": "code",
   "execution_count": 93,
   "id": "50c34e3b",
   "metadata": {
    "scrolled": false
   },
   "outputs": [
    {
     "name": "stdout",
     "output_type": "stream",
     "text": [
      "3636/3636 [==============================] - 5s 1ms/step - loss: 2303.8103 - accuracy: 0.0604\n"
     ]
    }
   ],
   "source": [
    "y_true= y_test\n",
    "y_pred= model2.evaluate(x_test,y_test)"
   ]
  },
  {
   "cell_type": "code",
   "execution_count": 64,
   "id": "cf30959c",
   "metadata": {},
   "outputs": [],
   "source": [
    "y_pred_c=np.argmax(y_pred,axis=1)"
   ]
  },
  {
   "cell_type": "code",
   "execution_count": 65,
   "id": "6115e241",
   "metadata": {},
   "outputs": [],
   "source": [
    "confu=confusion_matrix(y_true, y_pred_c)"
   ]
  },
  {
   "cell_type": "code",
   "execution_count": 44,
   "id": "19586872",
   "metadata": {},
   "outputs": [
    {
     "data": {
      "text/plain": [
       "array([[0, 0, 0, ..., 0, 0, 0],\n",
       "       [0, 0, 0, ..., 0, 0, 0],\n",
       "       [0, 0, 2, ..., 0, 0, 0],\n",
       "       ...,\n",
       "       [0, 0, 0, ..., 0, 0, 0],\n",
       "       [0, 0, 0, ..., 0, 0, 0],\n",
       "       [0, 0, 0, ..., 0, 0, 0]], dtype=int64)"
      ]
     },
     "execution_count": 44,
     "metadata": {},
     "output_type": "execute_result"
    }
   ],
   "source": [
    "confu"
   ]
  },
  {
   "cell_type": "code",
   "execution_count": 45,
   "id": "27333590",
   "metadata": {},
   "outputs": [],
   "source": [
    "def plot_confusion_matrix(con_mat, labels, title='Confusion Matrix', cmap=plt.cm.get_cmap('Blues'), normalize=False):\n",
    "    plt.imshow(con_mat, interpolation='nearest', cmap=cmap)\n",
    "    plt.title(title)\n",
    "    plt.colorbar()\n",
    "    marks = np.arange(len(labels))\n",
    "    nlabels = []\n",
    "    for k in range(len(con_mat)):\n",
    "        n = sum(con_mat[k])\n",
    "        nlabel = '{0}(n={1})'.format(labels[k],n)\n",
    "        nlabels.append(nlabel)\n",
    "    plt.xticks(marks, labels)\n",
    "    plt.yticks(marks, nlabels)\n",
    "\n",
    "    thresh = con_mat.max() / 2.\n",
    "    if normalize:\n",
    "        for i, j in itertools.product(range(con_mat.shape[0]), range(con_mat.shape[1])):\n",
    "            plt.text(j, i, '{0}%'.format(con_mat[i, j] * 100 / n), horizontalalignment=\"center\", color=\"white\" if con_mat[i, j] > thresh else \"black\")\n",
    "    else:\n",
    "        for i, j in itertools.product(range(con_mat.shape[0]), range(con_mat.shape[1])):\n",
    "            plt.text(j, i, con_mat[i, j], horizontalalignment=\"center\", color=\"white\" if con_mat[i, j] > thresh else \"black\")\n",
    "    plt.tight_layout()\n",
    "    plt.ylabel('True label')\n",
    "    plt.xlabel('Predicted label')\n",
    "    plt.show()"
   ]
  },
  {
   "cell_type": "code",
   "execution_count": 48,
   "id": "ddd19630",
   "metadata": {},
   "outputs": [],
   "source": [
    "labels= np.arange(62)"
   ]
  },
  {
   "cell_type": "code",
   "execution_count": 51,
   "id": "b6fdcc43",
   "metadata": {},
   "outputs": [
    {
     "data": {
      "text/plain": [
       "array([ 0,  1,  2,  3,  4,  5,  6,  7,  8,  9, 10, 11, 12, 13, 14, 15, 16,\n",
       "       17, 18, 19, 20, 21, 22, 23, 24, 25, 26, 27, 28, 29, 30, 31, 32, 33,\n",
       "       34, 35, 36, 37, 38, 39, 40, 41, 42, 43, 44, 45, 46, 47, 48, 49, 50,\n",
       "       51, 52, 53, 54, 55, 56, 57, 58, 59, 60, 61])"
      ]
     },
     "execution_count": 51,
     "metadata": {},
     "output_type": "execute_result"
    }
   ],
   "source": [
    "labels"
   ]
  },
  {
   "cell_type": "code",
   "execution_count": 66,
   "id": "408d00d7",
   "metadata": {},
   "outputs": [
    {
     "data": {
      "text/plain": [
       "{2,\n",
       " 7,\n",
       " 10,\n",
       " 11,\n",
       " 13,\n",
       " 15,\n",
       " 16,\n",
       " 17,\n",
       " 18,\n",
       " 20,\n",
       " 21,\n",
       " 22,\n",
       " 25,\n",
       " 26,\n",
       " 27,\n",
       " 28,\n",
       " 30,\n",
       " 32,\n",
       " 33,\n",
       " 34,\n",
       " 35,\n",
       " 42,\n",
       " 48,\n",
       " 52}"
      ]
     },
     "execution_count": 66,
     "metadata": {},
     "output_type": "execute_result"
    }
   ],
   "source": [
    "set(y_pred_c)"
   ]
  },
  {
   "cell_type": "code",
   "execution_count": 70,
   "id": "84c367f7",
   "metadata": {},
   "outputs": [
    {
     "data": {
      "text/plain": [
       "array([16, 16, 16, 35, 22, 16, 16, 16, 16, 15, 35, 17, 35, 34, 35, 16, 16,\n",
       "       32, 15, 16, 16, 34, 34, 20, 16, 16, 35, 16, 16, 22, 32, 15, 15, 18,\n",
       "       16, 16, 16, 16, 16, 15, 16, 32, 10, 16, 16, 18, 16, 16, 30, 16, 16,\n",
       "       16, 15, 15, 16, 16, 32, 34, 16, 15, 20, 16, 13, 16, 17, 35, 15, 20,\n",
       "       16, 16, 16, 16, 16, 15, 32, 16, 16, 22, 20, 16, 32, 34, 16, 35, 17,\n",
       "       16, 16, 16, 18, 16, 15, 15, 18, 16, 16, 16, 16, 35, 32, 16, 16, 16,\n",
       "       15, 16, 22, 16, 35, 22, 16, 15, 16, 16, 32, 16, 20, 34, 22, 16, 18,\n",
       "       15, 16, 16, 16, 16, 16, 16, 16, 32, 35, 16, 16, 16, 15, 15, 35, 35,\n",
       "       16, 16, 16, 16, 22, 16, 16, 16, 18, 15, 35, 16, 16, 16, 35, 15, 16,\n",
       "       16, 18, 18, 16, 17, 32, 16, 15, 13, 15, 16, 35, 16, 16, 16, 16, 16,\n",
       "       18, 16, 10, 22, 10, 18, 16, 34, 16, 16, 16, 16, 16, 34, 16, 30, 16,\n",
       "       22, 22, 10, 15, 16, 16, 22, 32, 10, 35, 16, 16, 16, 22, 16, 16, 16,\n",
       "       16, 16, 16, 15, 16, 22, 16, 16, 15, 15, 16, 16, 16, 30, 16, 15, 16,\n",
       "       16, 15, 16, 16, 16, 16, 32, 16, 22, 16, 10, 16, 22, 18, 16, 16, 21,\n",
       "       18, 16, 16, 22, 35, 32, 16, 18, 22, 15, 22, 16, 18, 16, 16, 16, 16,\n",
       "       16, 32, 15, 35, 18, 22, 16, 16, 16, 10, 22, 16, 16, 32, 16, 16, 16,\n",
       "       16, 16, 16, 32, 16, 15, 16, 16, 22, 16, 16, 22, 16, 16, 15, 16, 16,\n",
       "       16, 16, 18, 15, 16, 16, 22, 16, 22, 15, 15, 16, 18, 16, 10, 15, 15,\n",
       "       16, 15, 16, 16, 16, 16, 18, 18, 22, 16, 16, 16, 16, 16, 16, 16, 16,\n",
       "       16, 16, 16, 16, 16, 16, 35, 16, 15, 22, 15, 16, 16, 34, 16, 34, 16,\n",
       "       16, 16, 16, 16, 35, 32, 20, 16, 15, 15, 16, 16, 16, 10, 16, 22, 16,\n",
       "       16, 35, 17, 22, 35, 22, 10, 15, 16, 16, 16, 15, 10, 22, 16, 16, 22,\n",
       "       16, 16, 16, 15, 16, 16, 15, 16, 15, 16, 16, 16, 16, 16, 16, 16, 16,\n",
       "       16, 35, 16, 16, 35, 16, 15, 16, 16, 16, 16, 16, 35, 16, 22, 16, 34,\n",
       "       16, 16, 16, 16, 35, 15, 16, 22, 16, 16, 16, 16, 35, 16, 32, 16, 35,\n",
       "       21, 16, 16, 35, 16, 16, 16, 15, 17, 35, 22, 16, 35, 16, 35, 16, 16,\n",
       "       35, 18, 16, 32, 16, 16, 16, 15, 16, 22, 16, 16, 15, 22, 16, 16, 16,\n",
       "       16, 18, 22, 18, 15, 18, 22, 16, 17, 16, 16, 20, 18, 34, 16, 34, 16,\n",
       "       16, 15, 16, 16, 15, 16, 34, 22, 18, 16, 16, 16, 18, 35, 18, 16, 16,\n",
       "       22, 16, 16, 16, 10, 22, 16, 34, 16, 16, 18, 17, 16, 15, 17, 16, 16,\n",
       "       16, 22, 22, 35, 16, 15, 16, 35, 16, 18, 16, 17, 18, 22, 16, 16, 16,\n",
       "       16, 16, 13, 16, 18, 16, 16, 16, 22, 16, 35, 16, 16, 16, 16, 15, 22,\n",
       "       20, 16, 16, 16, 16, 35, 16, 22, 16, 16, 22, 22, 16, 22, 35, 35, 16,\n",
       "       35, 16, 16, 34, 17, 16, 16, 16, 18, 15, 32, 16, 16, 35, 16, 32, 16,\n",
       "       16, 35, 16, 15, 16, 16, 15, 13, 32, 17, 15, 16, 34, 35, 22, 16, 35,\n",
       "       16, 15, 16, 22, 13], dtype=int64)"
      ]
     },
     "execution_count": 70,
     "metadata": {},
     "output_type": "execute_result"
    }
   ],
   "source": [
    "y_pred_c[:600]"
   ]
  },
  {
   "cell_type": "code",
   "execution_count": 95,
   "id": "d44424f5",
   "metadata": {},
   "outputs": [],
   "source": [
    "model3 = keras.models.load_model(\"byclass_make_adam.h5\")"
   ]
  },
  {
   "cell_type": "code",
   "execution_count": 103,
   "id": "22f3819d",
   "metadata": {},
   "outputs": [],
   "source": [
    "test_filepaths = save_to_multiple_csv_files(valid_full, \"test\")\n",
    "test_set = csv_reader_dataset(test_filepaths,batch_size=batch_size, repeat=None)"
   ]
  },
  {
   "cell_type": "markdown",
   "id": "b404c568",
   "metadata": {},
   "source": [
    "## hand-made model의 평가"
   ]
  },
  {
   "cell_type": "code",
   "execution_count": null,
   "id": "ca68ba38",
   "metadata": {},
   "outputs": [
    {
     "name": "stdout",
     "output_type": "stream",
     "text": [
      "  86053/Unknown - 298s 3ms/step - loss: 0.3266 - accuracy: 0.8783"
     ]
    }
   ],
   "source": [
    "y_true= y_test\n",
    "y_pred= model3.evaluate(test_set)"
   ]
  },
  {
   "cell_type": "code",
   "execution_count": null,
   "id": "dfea3a46",
   "metadata": {},
   "outputs": [],
   "source": [
    "plot_confusion_matrix(confu, labels=y_test, normalize=True)"
   ]
  },
  {
   "cell_type": "markdown",
   "id": "516a420a",
   "metadata": {},
   "source": [
    "## Baseline model 정의 및 훈련과 평가"
   ]
  },
  {
   "cell_type": "code",
   "execution_count": null,
   "id": "e9ca874a",
   "metadata": {
    "id": "e9ca874a"
   },
   "outputs": [],
   "source": [
    "#####LENET-5 정의\n",
    "from tensorflow.keras import layers, models\n",
    "model3 = models.Sequential()\n",
    "model3.add(layers.Conv2D(6, kernel_size=(5, 5), strides=(1, 1), activation='relu', input_shape=(32,32,1)))\n",
    "model3.add(layers.AveragePooling2D(pool_size=(2, 2), strides=(2, 2)))\n",
    "model3.add(layers.Conv2D(16, kernel_size=(5, 5), strides=(1, 1), activation='relu'))\n",
    "model3.add(layers.AveragePooling2D(pool_size=(2, 2), strides=(2, 2)))\n",
    "model3.add(layers.Flatten())\n",
    "model3.add(layers.Dense(120, activation='relu'))\n",
    "model3.add(layers.Dense(84, activation='relu'))\n",
    "model3.add(layers.Dense(62, activation='softmax'))"
   ]
  },
  {
   "cell_type": "code",
   "execution_count": null,
   "id": "37e54f83",
   "metadata": {
    "id": "37e54f83",
    "outputId": "022e4c36-07a8-413f-e64c-2bd0f4feb5a8"
   },
   "outputs": [
    {
     "name": "stdout",
     "output_type": "stream",
     "text": [
      "Epoch 1/1000\n",
      "16678/16684 [============================>.] - ETA: 0s - loss: 0.5777 - accuracy: 0.8077\n",
      "Epoch 1: val_loss improved from inf to 0.45623, saving model to byclass_LN5.h5\n",
      "16684/16684 [==============================] - 134s 8ms/step - loss: 0.5776 - accuracy: 0.8077 - val_loss: 0.4562 - val_accuracy: 0.8379\n",
      "Epoch 2/1000\n",
      "16680/16684 [============================>.] - ETA: 0s - loss: 0.4259 - accuracy: 0.8468\n",
      "Epoch 2: val_loss improved from 0.45623 to 0.41630, saving model to byclass_LN5.h5\n",
      "16684/16684 [==============================] - 123s 7ms/step - loss: 0.4259 - accuracy: 0.8468 - val_loss: 0.4163 - val_accuracy: 0.8510\n",
      "Epoch 3/1000\n",
      "16681/16684 [============================>.] - ETA: 0s - loss: 0.3995 - accuracy: 0.8544\n",
      "Epoch 3: val_loss improved from 0.41630 to 0.41325, saving model to byclass_LN5.h5\n",
      "16684/16684 [==============================] - 103s 6ms/step - loss: 0.3996 - accuracy: 0.8544 - val_loss: 0.4133 - val_accuracy: 0.8513\n",
      "Epoch 4/1000\n",
      "16677/16684 [============================>.] - ETA: 0s - loss: 0.3918 - accuracy: 0.8561\n",
      "Epoch 4: val_loss improved from 0.41325 to 0.39889, saving model to byclass_LN5.h5\n",
      "16684/16684 [==============================] - 103s 6ms/step - loss: 0.3918 - accuracy: 0.8561 - val_loss: 0.3989 - val_accuracy: 0.8538\n",
      "Epoch 5/1000\n",
      "16675/16684 [============================>.] - ETA: 0s - loss: 0.3814 - accuracy: 0.8592\n",
      "Epoch 5: val_loss improved from 0.39889 to 0.39835, saving model to byclass_LN5.h5\n",
      "16684/16684 [==============================] - 105s 6ms/step - loss: 0.3815 - accuracy: 0.8592 - val_loss: 0.3983 - val_accuracy: 0.8547\n",
      "Epoch 6/1000\n",
      "16683/16684 [============================>.] - ETA: 0s - loss: 0.3721 - accuracy: 0.8612\n",
      "Epoch 6: val_loss improved from 0.39835 to 0.39834, saving model to byclass_LN5.h5\n",
      "16684/16684 [==============================] - 102s 6ms/step - loss: 0.3721 - accuracy: 0.8612 - val_loss: 0.3983 - val_accuracy: 0.8561\n",
      "Epoch 7/1000\n",
      "16677/16684 [============================>.] - ETA: 0s - loss: 0.3709 - accuracy: 0.8623\n",
      "Epoch 7: val_loss improved from 0.39834 to 0.38756, saving model to byclass_LN5.h5\n",
      "16684/16684 [==============================] - 104s 6ms/step - loss: 0.3709 - accuracy: 0.8623 - val_loss: 0.3876 - val_accuracy: 0.8590\n",
      "Epoch 8/1000\n",
      "16684/16684 [==============================] - ETA: 0s - loss: 0.3695 - accuracy: 0.8620\n",
      "Epoch 8: val_loss did not improve from 0.38756\n",
      "16684/16684 [==============================] - 104s 6ms/step - loss: 0.3695 - accuracy: 0.8620 - val_loss: 0.3907 - val_accuracy: 0.8567\n",
      "Epoch 9/1000\n",
      "16680/16684 [============================>.] - ETA: 0s - loss: 0.3656 - accuracy: 0.8633\n",
      "Epoch 9: val_loss improved from 0.38756 to 0.38511, saving model to byclass_LN5.h5\n",
      "16684/16684 [==============================] - 103s 6ms/step - loss: 0.3656 - accuracy: 0.8633 - val_loss: 0.3851 - val_accuracy: 0.8598\n",
      "Epoch 10/1000\n",
      "16679/16684 [============================>.] - ETA: 0s - loss: 0.3511 - accuracy: 0.8669\n",
      "Epoch 10: val_loss did not improve from 0.38511\n",
      "16684/16684 [==============================] - 103s 6ms/step - loss: 0.3511 - accuracy: 0.8669 - val_loss: 0.3942 - val_accuracy: 0.8586\n",
      "Epoch 11/1000\n",
      "16679/16684 [============================>.] - ETA: 0s - loss: 0.3629 - accuracy: 0.8639\n",
      "Epoch 11: val_loss did not improve from 0.38511\n",
      "16684/16684 [==============================] - 103s 6ms/step - loss: 0.3628 - accuracy: 0.8639 - val_loss: 0.3904 - val_accuracy: 0.8586\n",
      "Epoch 12/1000\n",
      "16678/16684 [============================>.] - ETA: 0s - loss: 0.3592 - accuracy: 0.8651\n",
      "Epoch 12: val_loss did not improve from 0.38511\n",
      "16684/16684 [==============================] - 103s 6ms/step - loss: 0.3592 - accuracy: 0.8651 - val_loss: 0.3873 - val_accuracy: 0.8589\n",
      "Epoch 13/1000\n",
      "16677/16684 [============================>.] - ETA: 0s - loss: 0.3600 - accuracy: 0.8646\n",
      "Epoch 13: val_loss did not improve from 0.38511\n",
      "16684/16684 [==============================] - 103s 6ms/step - loss: 0.3601 - accuracy: 0.8646 - val_loss: 0.3925 - val_accuracy: 0.8577\n",
      "Epoch 14/1000\n",
      "16675/16684 [============================>.] - ETA: 0s - loss: 0.3510 - accuracy: 0.8675\n",
      "Epoch 14: val_loss did not improve from 0.38511\n",
      "16684/16684 [==============================] - 103s 6ms/step - loss: 0.3510 - accuracy: 0.8675 - val_loss: 0.3949 - val_accuracy: 0.8581\n",
      "Epoch 15/1000\n",
      "16676/16684 [============================>.] - ETA: 0s - loss: 0.3532 - accuracy: 0.8665\n",
      "Epoch 15: val_loss did not improve from 0.38511\n",
      "16684/16684 [==============================] - 103s 6ms/step - loss: 0.3532 - accuracy: 0.8665 - val_loss: 0.3862 - val_accuracy: 0.8582\n",
      "Epoch 16/1000\n",
      "16677/16684 [============================>.] - ETA: 0s - loss: 0.3546 - accuracy: 0.8663\n",
      "Epoch 16: val_loss did not improve from 0.38511\n",
      "16684/16684 [==============================] - 103s 6ms/step - loss: 0.3546 - accuracy: 0.8663 - val_loss: 0.3913 - val_accuracy: 0.8567\n",
      "Epoch 17/1000\n",
      "16683/16684 [============================>.] - ETA: 0s - loss: 0.3558 - accuracy: 0.8657\n",
      "Epoch 17: val_loss did not improve from 0.38511\n",
      "16684/16684 [==============================] - 102s 6ms/step - loss: 0.3558 - accuracy: 0.8657 - val_loss: 0.3895 - val_accuracy: 0.8576\n",
      "Epoch 18/1000\n",
      "16683/16684 [============================>.] - ETA: 0s - loss: 0.3495 - accuracy: 0.8678\n",
      "Epoch 18: val_loss improved from 0.38511 to 0.38315, saving model to byclass_LN5.h5\n",
      "16684/16684 [==============================] - 104s 6ms/step - loss: 0.3495 - accuracy: 0.8678 - val_loss: 0.3832 - val_accuracy: 0.8600\n",
      "Epoch 19/1000\n",
      "16674/16684 [============================>.] - ETA: 0s - loss: 0.3477 - accuracy: 0.8685\n",
      "Epoch 19: val_loss did not improve from 0.38315\n",
      "16684/16684 [==============================] - 103s 6ms/step - loss: 0.3477 - accuracy: 0.8685 - val_loss: 0.3910 - val_accuracy: 0.8582\n",
      "Epoch 20/1000\n",
      "16676/16684 [============================>.] - ETA: 0s - loss: 0.3488 - accuracy: 0.8679\n",
      "Epoch 20: val_loss did not improve from 0.38315\n",
      "16684/16684 [==============================] - 104s 6ms/step - loss: 0.3488 - accuracy: 0.8679 - val_loss: 0.3848 - val_accuracy: 0.8600\n",
      "Epoch 21/1000\n",
      "16680/16684 [============================>.] - ETA: 0s - loss: 0.3518 - accuracy: 0.8673\n",
      "Epoch 21: val_loss did not improve from 0.38315\n",
      "16684/16684 [==============================] - 134s 8ms/step - loss: 0.3518 - accuracy: 0.8673 - val_loss: 0.3873 - val_accuracy: 0.8580\n",
      "Epoch 22/1000\n",
      "16679/16684 [============================>.] - ETA: 0s - loss: 0.3481 - accuracy: 0.8683\n",
      "Epoch 22: val_loss did not improve from 0.38315\n",
      "16684/16684 [==============================] - 136s 8ms/step - loss: 0.3482 - accuracy: 0.8683 - val_loss: 0.3840 - val_accuracy: 0.8605\n",
      "Epoch 23/1000\n",
      "16676/16684 [============================>.] - ETA: 0s - loss: 0.3467 - accuracy: 0.8688\n",
      "Epoch 23: val_loss did not improve from 0.38315\n",
      "16684/16684 [==============================] - 137s 8ms/step - loss: 0.3468 - accuracy: 0.8688 - val_loss: 0.3900 - val_accuracy: 0.8573\n",
      "Epoch 24/1000\n",
      "16683/16684 [============================>.] - ETA: 0s - loss: 0.3495 - accuracy: 0.8678\n",
      "Epoch 24: val_loss did not improve from 0.38315\n",
      "16684/16684 [==============================] - 136s 8ms/step - loss: 0.3495 - accuracy: 0.8678 - val_loss: 0.3872 - val_accuracy: 0.8598\n",
      "Epoch 25/1000\n",
      "16682/16684 [============================>.] - ETA: 0s - loss: 0.3489 - accuracy: 0.8680\n",
      "Epoch 25: val_loss did not improve from 0.38315\n",
      "16684/16684 [==============================] - 137s 8ms/step - loss: 0.3489 - accuracy: 0.8680 - val_loss: 0.3850 - val_accuracy: 0.8598\n",
      "Epoch 26/1000\n",
      "16681/16684 [============================>.] - ETA: 0s - loss: 0.3440 - accuracy: 0.8694\n",
      "Epoch 26: val_loss did not improve from 0.38315\n",
      "16684/16684 [==============================] - 135s 8ms/step - loss: 0.3440 - accuracy: 0.8694 - val_loss: 0.3910 - val_accuracy: 0.8576\n",
      "Epoch 27/1000\n",
      "16682/16684 [============================>.] - ETA: 0s - loss: 0.3424 - accuracy: 0.8697\n",
      "Epoch 27: val_loss did not improve from 0.38315\n",
      "16684/16684 [==============================] - 136s 8ms/step - loss: 0.3424 - accuracy: 0.8697 - val_loss: 0.3864 - val_accuracy: 0.8595\n",
      "Epoch 28/1000\n",
      "16683/16684 [============================>.] - ETA: 0s - loss: 0.3450 - accuracy: 0.8690\n",
      "Epoch 28: val_loss did not improve from 0.38315\n"
     ]
    },
    {
     "name": "stdout",
     "output_type": "stream",
     "text": [
      "\b\b\b\b\b\b\b\b\b\b\b\b\b\b\b\b\b\b\b\b\b\b\b\b\b\b\b\b\b\b\b\b\b\b\b\b\b\b\b\b\b\b\b\b\b\b\b\b\b\b\b\b\b\b\b\b\b\b\b\b\b\b\b\b\b\b\b\b\b\b\b\b\b\b\b\b\b\b\b\b\b\b\b\b\b\b\b\b\r",
      "16684/16684 [==============================] - 136s 8ms/step - loss: 0.3450 - accuracy: 0.8690 - val_loss: 0.3858 - val_accuracy: 0.8590\n"
     ]
    }
   ],
   "source": [
    "early_stopping = EarlyStopping(patience = 10)\n",
    "data_name=\"byclass\"\n",
    "type_name=\"LN5\"\n",
    "checkpoint_callback = ModelCheckpoint(data_name+\"_\"+type_name+'.h5', monitor='val_loss', verbose=1, save_best_only=True, mode='min')\n",
    "\n",
    "optimizer = tfa.optimizers.AdamW(weight_decay=1e-5, learning_rate=0.001,\n",
    "                                 beta_1=0.9, beta_2=0.999)\n",
    "\n",
    "model3.compile(optimizer=optimizer, loss='sparse_categorical_crossentropy', metrics=['accuracy'],)\n",
    "history3=model3.fit(train_set, batch_size = batch_size,\n",
    "                    steps_per_epoch=int(train_size / batch_size),\n",
    "                    validation_data=valid_set,\n",
    "                    validation_steps=int(valid_size / batch_size), \n",
    "                    epochs=1000,\n",
    "                    callbacks=[early_stopping, checkpoint_callback])"
   ]
  },
  {
   "cell_type": "code",
   "execution_count": null,
   "id": "5a2cc308",
   "metadata": {
    "id": "5a2cc308",
    "outputId": "426a3f33-2fa1-45c0-95c4-dff109fad0eb"
   },
   "outputs": [
    {
     "name": "stdout",
     "output_type": "stream",
     "text": [
      "Epoch 1/1000\n",
      "16681/16684 [============================>.] - ETA: 0s - loss: 0.8855 - accuracy: 0.7368\n",
      "Epoch 1: val_loss improved from inf to 0.57336, saving model to byclass_LN5.h5\n",
      "16684/16684 [==============================] - 118s 7ms/step - loss: 0.8854 - accuracy: 0.7368 - val_loss: 0.5734 - val_accuracy: 0.8080\n",
      "Epoch 2/1000\n",
      "16681/16684 [============================>.] - ETA: 0s - loss: 0.5216 - accuracy: 0.8220\n",
      "Epoch 2: val_loss improved from 0.57336 to 0.50539, saving model to byclass_LN5.h5\n",
      "16684/16684 [==============================] - 118s 7ms/step - loss: 0.5216 - accuracy: 0.8220 - val_loss: 0.5054 - val_accuracy: 0.8243\n",
      "Epoch 3/1000\n",
      "16683/16684 [============================>.] - ETA: 0s - loss: 0.4761 - accuracy: 0.8338\n",
      "Epoch 3: val_loss improved from 0.50539 to 0.46884, saving model to byclass_LN5.h5\n",
      "16684/16684 [==============================] - 118s 7ms/step - loss: 0.4762 - accuracy: 0.8338 - val_loss: 0.4688 - val_accuracy: 0.8362\n",
      "Epoch 4/1000\n",
      "16679/16684 [============================>.] - ETA: 0s - loss: 0.4488 - accuracy: 0.8413\n",
      "Epoch 4: val_loss improved from 0.46884 to 0.46055, saving model to byclass_LN5.h5\n",
      "16684/16684 [==============================] - 119s 7ms/step - loss: 0.4488 - accuracy: 0.8413 - val_loss: 0.4605 - val_accuracy: 0.8352\n",
      "Epoch 5/1000\n",
      "16679/16684 [============================>.] - ETA: 0s - loss: 0.4311 - accuracy: 0.8467\n",
      "Epoch 5: val_loss improved from 0.46055 to 0.43658, saving model to byclass_LN5.h5\n",
      "16684/16684 [==============================] - 118s 7ms/step - loss: 0.4311 - accuracy: 0.8467 - val_loss: 0.4366 - val_accuracy: 0.8452\n",
      "Epoch 6/1000\n",
      "16679/16684 [============================>.] - ETA: 0s - loss: 0.4175 - accuracy: 0.8494\n",
      "Epoch 6: val_loss improved from 0.43658 to 0.43037, saving model to byclass_LN5.h5\n",
      "16684/16684 [==============================] - 119s 7ms/step - loss: 0.4175 - accuracy: 0.8494 - val_loss: 0.4304 - val_accuracy: 0.8461\n",
      "Epoch 7/1000\n",
      "16679/16684 [============================>.] - ETA: 0s - loss: 0.4117 - accuracy: 0.8517\n",
      "Epoch 7: val_loss improved from 0.43037 to 0.42247, saving model to byclass_LN5.h5\n",
      "16684/16684 [==============================] - 119s 7ms/step - loss: 0.4116 - accuracy: 0.8517 - val_loss: 0.4225 - val_accuracy: 0.8483\n",
      "Epoch 8/1000\n",
      "16677/16684 [============================>.] - ETA: 0s - loss: 0.4011 - accuracy: 0.8542\n",
      "Epoch 8: val_loss improved from 0.42247 to 0.41640, saving model to byclass_LN5.h5\n",
      "16684/16684 [==============================] - 118s 7ms/step - loss: 0.4011 - accuracy: 0.8542 - val_loss: 0.4164 - val_accuracy: 0.8504\n",
      "Epoch 9/1000\n",
      "16677/16684 [============================>.] - ETA: 0s - loss: 0.3915 - accuracy: 0.8569\n",
      "Epoch 9: val_loss improved from 0.41640 to 0.41231, saving model to byclass_LN5.h5\n",
      "16684/16684 [==============================] - 118s 7ms/step - loss: 0.3916 - accuracy: 0.8569 - val_loss: 0.4123 - val_accuracy: 0.8500\n",
      "Epoch 10/1000\n",
      "16683/16684 [============================>.] - ETA: 0s - loss: 0.3878 - accuracy: 0.8575\n",
      "Epoch 10: val_loss improved from 0.41231 to 0.40856, saving model to byclass_LN5.h5\n",
      "16684/16684 [==============================] - 117s 7ms/step - loss: 0.3878 - accuracy: 0.8575 - val_loss: 0.4086 - val_accuracy: 0.8532\n",
      "Epoch 11/1000\n",
      "16682/16684 [============================>.] - ETA: 0s - loss: 0.3848 - accuracy: 0.8589\n",
      "Epoch 11: val_loss improved from 0.40856 to 0.40011, saving model to byclass_LN5.h5\n",
      "16684/16684 [==============================] - 118s 7ms/step - loss: 0.3848 - accuracy: 0.8589 - val_loss: 0.4001 - val_accuracy: 0.8554\n",
      "Epoch 12/1000\n",
      "16681/16684 [============================>.] - ETA: 0s - loss: 0.3783 - accuracy: 0.8607\n",
      "Epoch 12: val_loss did not improve from 0.40011\n",
      "16684/16684 [==============================] - 117s 7ms/step - loss: 0.3783 - accuracy: 0.8607 - val_loss: 0.4066 - val_accuracy: 0.8526\n",
      "Epoch 13/1000\n",
      "16676/16684 [============================>.] - ETA: 0s - loss: 0.3752 - accuracy: 0.8613\n",
      "Epoch 13: val_loss improved from 0.40011 to 0.39886, saving model to byclass_LN5.h5\n",
      "16684/16684 [==============================] - 106s 6ms/step - loss: 0.3752 - accuracy: 0.8613 - val_loss: 0.3989 - val_accuracy: 0.8550\n",
      "Epoch 14/1000\n",
      "16673/16684 [============================>.] - ETA: 0s - loss: 0.3717 - accuracy: 0.8624\n",
      "Epoch 14: val_loss did not improve from 0.39886\n",
      "16684/16684 [==============================] - 90s 5ms/step - loss: 0.3717 - accuracy: 0.8624 - val_loss: 0.4009 - val_accuracy: 0.8541\n",
      "Epoch 15/1000\n",
      "16678/16684 [============================>.] - ETA: 0s - loss: 0.3686 - accuracy: 0.8630\n",
      "Epoch 15: val_loss did not improve from 0.39886\n",
      "16684/16684 [==============================] - 92s 5ms/step - loss: 0.3686 - accuracy: 0.8630 - val_loss: 0.3994 - val_accuracy: 0.8564\n",
      "Epoch 16/1000\n",
      "16674/16684 [============================>.] - ETA: 0s - loss: 0.3683 - accuracy: 0.8636\n",
      "Epoch 16: val_loss improved from 0.39886 to 0.39227, saving model to byclass_LN5.h5\n",
      "16684/16684 [==============================] - 91s 5ms/step - loss: 0.3683 - accuracy: 0.8636 - val_loss: 0.3923 - val_accuracy: 0.8574\n",
      "Epoch 17/1000\n",
      "16680/16684 [============================>.] - ETA: 0s - loss: 0.3610 - accuracy: 0.8650\n",
      "Epoch 17: val_loss did not improve from 0.39227\n",
      "16684/16684 [==============================] - 89s 5ms/step - loss: 0.3610 - accuracy: 0.8650 - val_loss: 0.3947 - val_accuracy: 0.8571\n",
      "Epoch 18/1000\n",
      "16675/16684 [============================>.] - ETA: 0s - loss: 0.3600 - accuracy: 0.8655\n",
      "Epoch 18: val_loss improved from 0.39227 to 0.39011, saving model to byclass_LN5.h5\n",
      "16684/16684 [==============================] - 89s 5ms/step - loss: 0.3600 - accuracy: 0.8655 - val_loss: 0.3901 - val_accuracy: 0.8583\n",
      "Epoch 19/1000\n",
      "16684/16684 [==============================] - ETA: 0s - loss: 0.3563 - accuracy: 0.8666\n",
      "Epoch 19: val_loss did not improve from 0.39011\n",
      "16684/16684 [==============================] - 89s 5ms/step - loss: 0.3563 - accuracy: 0.8666 - val_loss: 0.3925 - val_accuracy: 0.8582\n",
      "Epoch 20/1000\n",
      "16679/16684 [============================>.] - ETA: 0s - loss: 0.3576 - accuracy: 0.8665\n",
      "Epoch 20: val_loss improved from 0.39011 to 0.38718, saving model to byclass_LN5.h5\n",
      "16684/16684 [==============================] - 89s 5ms/step - loss: 0.3576 - accuracy: 0.8665 - val_loss: 0.3872 - val_accuracy: 0.8600\n",
      "Epoch 21/1000\n",
      "16676/16684 [============================>.] - ETA: 0s - loss: 0.3541 - accuracy: 0.8673\n",
      "Epoch 21: val_loss improved from 0.38718 to 0.38562, saving model to byclass_LN5.h5\n",
      "16684/16684 [==============================] - 89s 5ms/step - loss: 0.3541 - accuracy: 0.8673 - val_loss: 0.3856 - val_accuracy: 0.8593\n",
      "Epoch 22/1000\n",
      "16681/16684 [============================>.] - ETA: 0s - loss: 0.3516 - accuracy: 0.8679\n",
      "Epoch 22: val_loss did not improve from 0.38562\n",
      "16684/16684 [==============================] - 89s 5ms/step - loss: 0.3516 - accuracy: 0.8679 - val_loss: 0.3937 - val_accuracy: 0.8571\n",
      "Epoch 23/1000\n",
      "16675/16684 [============================>.] - ETA: 0s - loss: 0.3515 - accuracy: 0.8681\n",
      "Epoch 23: val_loss improved from 0.38562 to 0.38323, saving model to byclass_LN5.h5\n",
      "16684/16684 [==============================] - 89s 5ms/step - loss: 0.3516 - accuracy: 0.8681 - val_loss: 0.3832 - val_accuracy: 0.8602\n",
      "Epoch 24/1000\n",
      "16674/16684 [============================>.] - ETA: 0s - loss: 0.3477 - accuracy: 0.8689\n",
      "Epoch 24: val_loss did not improve from 0.38323\n",
      "16684/16684 [==============================] - 90s 5ms/step - loss: 0.3477 - accuracy: 0.8689 - val_loss: 0.3928 - val_accuracy: 0.8579\n",
      "Epoch 25/1000\n",
      "16676/16684 [============================>.] - ETA: 0s - loss: 0.3455 - accuracy: 0.8698\n",
      "Epoch 25: val_loss did not improve from 0.38323\n",
      "16684/16684 [==============================] - 91s 5ms/step - loss: 0.3455 - accuracy: 0.8698 - val_loss: 0.3856 - val_accuracy: 0.8593\n",
      "Epoch 26/1000\n",
      "16682/16684 [============================>.] - ETA: 0s - loss: 0.3404 - accuracy: 0.8713\n",
      "Epoch 26: val_loss did not improve from 0.38323\n",
      "16684/16684 [==============================] - 91s 5ms/step - loss: 0.3405 - accuracy: 0.8713 - val_loss: 0.3863 - val_accuracy: 0.8589\n",
      "Epoch 27/1000\n",
      "16676/16684 [============================>.] - ETA: 0s - loss: 0.3494 - accuracy: 0.8691\n",
      "Epoch 27: val_loss did not improve from 0.38323\n"
     ]
    },
    {
     "name": "stdout",
     "output_type": "stream",
     "text": [
      "16684/16684 [==============================] - 90s 5ms/step - loss: 0.3494 - accuracy: 0.8691 - val_loss: 0.3851 - val_accuracy: 0.8594\n",
      "Epoch 28/1000\n",
      "16673/16684 [============================>.] - ETA: 0s - loss: 0.3408 - accuracy: 0.8713\n",
      "Epoch 28: val_loss did not improve from 0.38323\n",
      "16684/16684 [==============================] - 89s 5ms/step - loss: 0.3408 - accuracy: 0.8713 - val_loss: 0.3876 - val_accuracy: 0.8578\n",
      "Epoch 29/1000\n",
      "16677/16684 [============================>.] - ETA: 0s - loss: 0.3378 - accuracy: 0.8719\n",
      "Epoch 29: val_loss did not improve from 0.38323\n",
      "16684/16684 [==============================] - 89s 5ms/step - loss: 0.3378 - accuracy: 0.8719 - val_loss: 0.3878 - val_accuracy: 0.8594\n",
      "Epoch 30/1000\n",
      "16673/16684 [============================>.] - ETA: 0s - loss: 0.3421 - accuracy: 0.8708\n",
      "Epoch 30: val_loss did not improve from 0.38323\n",
      "16684/16684 [==============================] - 89s 5ms/step - loss: 0.3421 - accuracy: 0.8708 - val_loss: 0.3871 - val_accuracy: 0.8603\n",
      "Epoch 31/1000\n",
      "16676/16684 [============================>.] - ETA: 0s - loss: 0.3374 - accuracy: 0.8722\n",
      "Epoch 31: val_loss did not improve from 0.38323\n",
      "16684/16684 [==============================] - 89s 5ms/step - loss: 0.3373 - accuracy: 0.8722 - val_loss: 0.3834 - val_accuracy: 0.8607\n",
      "Epoch 32/1000\n",
      "16676/16684 [============================>.] - ETA: 0s - loss: 0.3377 - accuracy: 0.8720\n",
      "Epoch 32: val_loss improved from 0.38323 to 0.38052, saving model to byclass_LN5.h5\n",
      "16684/16684 [==============================] - 89s 5ms/step - loss: 0.3377 - accuracy: 0.8720 - val_loss: 0.3805 - val_accuracy: 0.8618\n",
      "Epoch 33/1000\n",
      "16684/16684 [==============================] - ETA: 0s - loss: 0.3299 - accuracy: 0.8742\n",
      "Epoch 33: val_loss did not improve from 0.38052\n",
      "16684/16684 [==============================] - 89s 5ms/step - loss: 0.3299 - accuracy: 0.8742 - val_loss: 0.3911 - val_accuracy: 0.8604\n",
      "Epoch 34/1000\n",
      "16682/16684 [============================>.] - ETA: 0s - loss: 0.3330 - accuracy: 0.8733\n",
      "Epoch 34: val_loss did not improve from 0.38052\n",
      "16684/16684 [==============================] - 91s 5ms/step - loss: 0.3330 - accuracy: 0.8733 - val_loss: 0.3846 - val_accuracy: 0.8603\n",
      "Epoch 35/1000\n",
      "16682/16684 [============================>.] - ETA: 0s - loss: 0.3348 - accuracy: 0.8729\n",
      "Epoch 35: val_loss did not improve from 0.38052\n",
      "16684/16684 [==============================] - 92s 6ms/step - loss: 0.3348 - accuracy: 0.8729 - val_loss: 0.3821 - val_accuracy: 0.8608\n",
      "Epoch 36/1000\n",
      "16682/16684 [============================>.] - ETA: 0s - loss: 0.3348 - accuracy: 0.8733\n",
      "Epoch 36: val_loss did not improve from 0.38052\n",
      "16684/16684 [==============================] - 93s 6ms/step - loss: 0.3348 - accuracy: 0.8733 - val_loss: 0.3847 - val_accuracy: 0.8604\n",
      "Epoch 37/1000\n",
      "16679/16684 [============================>.] - ETA: 0s - loss: 0.3250 - accuracy: 0.8755\n",
      "Epoch 37: val_loss did not improve from 0.38052\n",
      "16684/16684 [==============================] - 92s 6ms/step - loss: 0.3250 - accuracy: 0.8755 - val_loss: 0.3878 - val_accuracy: 0.8597\n",
      "Epoch 38/1000\n",
      "16679/16684 [============================>.] - ETA: 0s - loss: 0.3308 - accuracy: 0.8743\n",
      "Epoch 38: val_loss did not improve from 0.38052\n",
      "16684/16684 [==============================] - 92s 6ms/step - loss: 0.3308 - accuracy: 0.8743 - val_loss: 0.3829 - val_accuracy: 0.8613\n",
      "Epoch 39/1000\n",
      "16683/16684 [============================>.] - ETA: 0s - loss: 0.3255 - accuracy: 0.8756\n",
      "Epoch 39: val_loss did not improve from 0.38052\n",
      "16684/16684 [==============================] - 90s 5ms/step - loss: 0.3255 - accuracy: 0.8756 - val_loss: 0.3823 - val_accuracy: 0.8608\n",
      "Epoch 40/1000\n",
      "16679/16684 [============================>.] - ETA: 0s - loss: 0.3294 - accuracy: 0.8750\n",
      "Epoch 40: val_loss did not improve from 0.38052\n",
      "16684/16684 [==============================] - 92s 6ms/step - loss: 0.3295 - accuracy: 0.8750 - val_loss: 0.3856 - val_accuracy: 0.8599\n",
      "Epoch 41/1000\n",
      "16678/16684 [============================>.] - ETA: 0s - loss: 0.3263 - accuracy: 0.8753\n",
      "Epoch 41: val_loss did not improve from 0.38052\n",
      "16684/16684 [==============================] - 92s 5ms/step - loss: 0.3263 - accuracy: 0.8753 - val_loss: 0.3886 - val_accuracy: 0.8605\n",
      "Epoch 42/1000\n",
      "16680/16684 [============================>.] - ETA: 0s - loss: 0.3256 - accuracy: 0.8757\n",
      "Epoch 42: val_loss did not improve from 0.38052\n",
      "16684/16684 [==============================] - 91s 5ms/step - loss: 0.3256 - accuracy: 0.8756 - val_loss: 0.3861 - val_accuracy: 0.8586\n"
     ]
    }
   ],
   "source": [
    "from tensorflow.keras import layers, models\n",
    "model4 = models.Sequential()\n",
    "model4.add(layers.Conv2D(6, kernel_size=(5, 5), strides=(1, 1), activation='relu', input_shape=(32,32,1)))\n",
    "model4.add(layers.AveragePooling2D(pool_size=(2, 2), strides=(2, 2)))\n",
    "model4.add(layers.Conv2D(16, kernel_size=(5, 5), strides=(1, 1), activation='relu'))\n",
    "model4.add(layers.AveragePooling2D(pool_size=(2, 2), strides=(2, 2)))\n",
    "model4.add(layers.Flatten())\n",
    "model4.add(layers.Dense(120, activation='relu'))\n",
    "model4.add(layers.Dense(84, activation='relu'))\n",
    "model4.add(layers.Dense(62, activation='softmax'))\n",
    "\n",
    "early_stopping2 = EarlyStopping(patience = 10)\n",
    "data_name=\"byclass\"\n",
    "type_name=\"LN5\"\n",
    "checkpoint_callback2 = ModelCheckpoint(data_name+\"_\"+type_name+'.h5', monitor='val_loss', verbose=1, save_best_only=True, mode='min')\n",
    "#nesteroV 사용해보기\n",
    "optimizer = tf.keras.optimizers.SGD(learning_rate=0.001, momentum=0.9,\n",
    "                                    nesterov=True)\n",
    "\n",
    "model4.compile(optimizer=optimizer, loss='sparse_categorical_crossentropy', metrics=['accuracy'],)\n",
    "history4=model4.fit(train_set, batch_size = batch_size,\n",
    "                    steps_per_epoch=int(train_size / batch_size),\n",
    "                    validation_data=valid_set,\n",
    "                    validation_steps=int(valid_size / batch_size), \n",
    "                    epochs=1000,\n",
    "                    callbacks=[early_stopping2, checkpoint_callback2])"
   ]
  },
  {
   "cell_type": "code",
   "execution_count": 82,
   "id": "b970d19f",
   "metadata": {
    "id": "b970d19f"
   },
   "outputs": [],
   "source": [
    "\n",
    "model3 = tf.keras.models.load_model(\"byclass_LN5.h5\")\n",
    "\n"
   ]
  },
  {
   "cell_type": "code",
   "execution_count": 84,
   "id": "9HnWryvbjaoH",
   "metadata": {
    "colab": {
     "base_uri": "https://localhost:8080/"
    },
    "id": "9HnWryvbjaoH",
    "outputId": "f22f40b1-3f46-4271-d28a-e414629f82bb"
   },
   "outputs": [
    {
     "name": "stdout",
     "output_type": "stream",
     "text": [
      "Model: \"sequential_2\"\n",
      "_________________________________________________________________\n",
      " Layer (type)                Output Shape              Param #   \n",
      "=================================================================\n",
      " conv2d_4 (Conv2D)           (None, 28, 28, 6)         156       \n",
      "                                                                 \n",
      " average_pooling2d_4 (Averag  (None, 14, 14, 6)        0         \n",
      " ePooling2D)                                                     \n",
      "                                                                 \n",
      " conv2d_5 (Conv2D)           (None, 10, 10, 16)        2416      \n",
      "                                                                 \n",
      " average_pooling2d_5 (Averag  (None, 5, 5, 16)         0         \n",
      " ePooling2D)                                                     \n",
      "                                                                 \n",
      " flatten_2 (Flatten)         (None, 400)               0         \n",
      "                                                                 \n",
      " dense_6 (Dense)             (None, 120)               48120     \n",
      "                                                                 \n",
      " dense_7 (Dense)             (None, 84)                10164     \n",
      "                                                                 \n",
      " dense_8 (Dense)             (None, 62)                5270      \n",
      "                                                                 \n",
      "=================================================================\n",
      "Total params: 66,126\n",
      "Trainable params: 66,126\n",
      "Non-trainable params: 0\n",
      "_________________________________________________________________\n"
     ]
    }
   ],
   "source": [
    "model3.summary()"
   ]
  },
  {
   "cell_type": "code",
   "execution_count": 56,
   "id": "hO11kxnJeohe",
   "metadata": {
    "id": "hO11kxnJeohe"
   },
   "outputs": [],
   "source": [
    "\n",
    "hand1=pd.read_csv('emnist_handwriting_20180565_psm.csv',header=None)\n",
    "hand2=pd.read_csv('emnist_handwriting_20230615_psm.csv',header=None)\n",
    "hand3=pd.read_csv('emnist_handwriting_20180611_psm.csv',header=None)\n",
    "hand4=pd.read_csv('ha.csv',header=None)\n",
    "xh_test=np.concatenate((hand1,hand2,hand3,hand4))\n"
   ]
  },
  {
   "cell_type": "code",
   "execution_count": 116,
   "id": "LmmqqOOGeojj",
   "metadata": {
    "colab": {
     "base_uri": "https://localhost:8080/"
    },
    "id": "LmmqqOOGeojj",
    "outputId": "31c0aff2-8fe7-4872-b148-81ea3d588901"
   },
   "outputs": [
    {
     "data": {
      "text/plain": [
       "(2560, 785)"
      ]
     },
     "execution_count": 116,
     "metadata": {},
     "output_type": "execute_result"
    }
   ],
   "source": [
    "xh_test.shape"
   ]
  },
  {
   "cell_type": "code",
   "execution_count": 138,
   "id": "s7okvoYjeolN",
   "metadata": {
    "id": "s7okvoYjeolN"
   },
   "outputs": [],
   "source": [
    "def data_load_test(data_type_test):\n",
    "    x_test = data_type_test.iloc[:, 1:].values.astype('float32')\n",
    "    y_test = data_type_test.iloc[:, 0].values\n",
    "    x_test = x_test.reshape(x_test.shape[0], 28, 28)\n",
    "    return x_test,y_test"
   ]
  },
  {
   "cell_type": "code",
   "execution_count": 140,
   "id": "lpdk2xbGfwEV",
   "metadata": {
    "id": "lpdk2xbGfwEV"
   },
   "outputs": [],
   "source": [
    "x_test,y_test=data_load_test(pd.DataFrame(aaa))"
   ]
  },
  {
   "cell_type": "code",
   "execution_count": 141,
   "id": "krf0mGN7gM1R",
   "metadata": {
    "id": "krf0mGN7gM1R"
   },
   "outputs": [],
   "source": [
    "test_size=len(x_test)\n",
    "batch_size=32"
   ]
  },
  {
   "cell_type": "code",
   "execution_count": 142,
   "id": "rCAFdxY9gM3G",
   "metadata": {
    "id": "rCAFdxY9gM3G"
   },
   "outputs": [],
   "source": [
    "x_test=np.reshape(x_test,[-1,784])\n",
    "y_test=np.reshape(y_test,[-1,1])\n",
    "test_full = np.append(x_test,y_test,axis=1)"
   ]
  },
  {
   "cell_type": "code",
   "execution_count": 143,
   "id": "wsyxynnRg5_v",
   "metadata": {
    "id": "wsyxynnRg5_v"
   },
   "outputs": [],
   "source": [
    "def save_to_multiple_csv_files(data, name_prefix, header=None, n_parts=10):\n",
    "    \n",
    "    Emnist_dir = os.path.join(\"datasets\", \"Emnist\")\n",
    "    os.makedirs(Emnist_dir, exist_ok=True)\n",
    "    path_format = os.path.join(Emnist_dir, \"my_{}_{:03d}.csv\")\n",
    "\n",
    "    filepaths = []\n",
    "    m = len(data)\n",
    "    for file_idx, row_indices in enumerate(np.array_split(np.arange(m), n_parts)):\n",
    "        part_csv = path_format.format(name_prefix, file_idx)\n",
    "        filepaths.append(part_csv)\n",
    "        try:\n",
    "            with open(part_csv, \"xt\", encoding=\"utf-8\") as f:\n",
    "                if header is not None:\n",
    "                    f.write(header)\n",
    "                    f.write(\"\\n\")\n",
    "                for row_idx in row_indices:\n",
    "                    f.write(\",\".join([repr(col) for col in data[row_idx]]))\n",
    "                    f.write(\"\\n\")\n",
    "        except:\n",
    "            continue\n",
    "    return filepaths"
   ]
  },
  {
   "cell_type": "code",
   "execution_count": 144,
   "id": "b3o6Yv1fg6CT",
   "metadata": {
    "id": "b3o6Yv1fg6CT"
   },
   "outputs": [],
   "source": [
    "test_filepaths = save_to_multiple_csv_files(test_full, \"test\")\n",
    "n_inputs = x_test.shape[-1]"
   ]
  },
  {
   "cell_type": "code",
   "execution_count": 145,
   "id": "Kvx4XPwufFi3",
   "metadata": {
    "id": "Kvx4XPwufFi3"
   },
   "outputs": [],
   "source": [
    "def preprocess(line):\n",
    "    defs = [0.] * n_inputs + [tf.constant([], dtype=tf.float32)]\n",
    "    fields = tf.io.decode_csv(line, record_defaults=defs)\n",
    "    x = tf.stack(fields[:-1])\n",
    "    x=tf.reshape(x,[28,28,1])\n",
    "    y = tf.stack(fields[-1:])\n",
    "    resized_image = tf.image.resize(x, [32, 32])\n",
    "    \n",
    "    final_image = resized_image/255\n",
    "    \n",
    "    return final_image, y"
   ]
  },
  {
   "cell_type": "code",
   "execution_count": 146,
   "id": "GHp07d9_fFlL",
   "metadata": {
    "id": "GHp07d9_fFlL"
   },
   "outputs": [],
   "source": [
    "def csv_reader_dataset(filepaths, repeat=1, n_readers=5,\n",
    "                       n_read_threads=None, shuffle_buffer_size=10000,\n",
    "                       n_parse_threads=5, batch_size=32):\n",
    "    dataset = tf.data.Dataset.list_files(filepaths).repeat(repeat)\n",
    "    dataset = dataset.interleave(\n",
    "        lambda filepath: tf.data.TextLineDataset(filepath).skip(1),\n",
    "        cycle_length=n_readers, num_parallel_calls=n_read_threads)\n",
    "    dataset = dataset.shuffle(shuffle_buffer_size)\n",
    "    dataset = dataset.map(preprocess, num_parallel_calls=n_parse_threads)\n",
    "    dataset = dataset.batch(batch_size)\n",
    "    return dataset.prefetch(1)"
   ]
  },
  {
   "cell_type": "code",
   "execution_count": 147,
   "id": "Dxcgz6eQf_4C",
   "metadata": {
    "id": "Dxcgz6eQf_4C"
   },
   "outputs": [],
   "source": [
    "test_set = csv_reader_dataset(test_filepaths,batch_size=batch_size, repeat=None)\n"
   ]
  },
  {
   "cell_type": "markdown",
   "id": "2711e28b",
   "metadata": {},
   "source": [
    "## Baseline 모델의 평가"
   ]
  },
  {
   "cell_type": "code",
   "execution_count": 157,
   "id": "VeYMJct_xUdX",
   "metadata": {
    "colab": {
     "base_uri": "https://localhost:8080/"
    },
    "id": "VeYMJct_xUdX",
    "outputId": "0a6486ee-b789-4e50-83cb-ce07a7cb3b27"
   },
   "outputs": [
    {
     "name": "stdout",
     "output_type": "stream",
     "text": [
      "80/80 [==============================] - 1s 5ms/step - loss: 0.3723 - accuracy: 0.8460\n",
      "[0.372334678152693, 0.846015789]\n"
     ]
    }
   ],
   "source": [
    "model3.evaluate(test_set,steps=len(x_test)//batch_size)"
   ]
  },
  {
   "cell_type": "code",
   "execution_count": null,
   "id": "74e04195",
   "metadata": {},
   "outputs": [],
   "source": [
    "###찾기쉽게"
   ]
  },
  {
   "cell_type": "code",
   "execution_count": null,
   "id": "0c394f3b",
   "metadata": {},
   "outputs": [],
   "source": [
    "###마지막"
   ]
  }
 ],
 "metadata": {
  "kernelspec": {
   "display_name": "Python 3 (ipykernel)",
   "language": "python",
   "name": "python3"
  },
  "language_info": {
   "codemirror_mode": {
    "name": "ipython",
    "version": 3
   },
   "file_extension": ".py",
   "mimetype": "text/x-python",
   "name": "python",
   "nbconvert_exporter": "python",
   "pygments_lexer": "ipython3",
   "version": "3.9.16"
  }
 },
 "nbformat": 4,
 "nbformat_minor": 5
}
